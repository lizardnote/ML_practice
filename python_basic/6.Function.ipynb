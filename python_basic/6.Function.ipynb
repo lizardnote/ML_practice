{
 "cells": [
  {
   "cell_type": "code",
   "execution_count": 1,
   "metadata": {},
   "outputs": [
    {
     "name": "stdout",
     "output_type": "stream",
     "text": [
      "1 2 3 4\n"
     ]
    }
   ],
   "source": [
    "def func_1(a, b=2, c=3, d=4):  #매개변수에 디폴트 값이 있기 때문에 a 인자 값만 넣어줘도 실행됨\n",
    "    print(a,b,c,d)\n",
    "\n",
    "func_1(1)"
   ]
  },
  {
   "cell_type": "code",
   "execution_count": 3,
   "metadata": {},
   "outputs": [
    {
     "name": "stdout",
     "output_type": "stream",
     "text": [
      "1 4 3 4\n"
     ]
    }
   ],
   "source": [
    "func_1(1,4)  #매개변수 값은 순서대로 들어간다  -> a,b   "
   ]
  },
  {
   "cell_type": "code",
   "execution_count": 5,
   "metadata": {},
   "outputs": [
    {
     "name": "stdout",
     "output_type": "stream",
     "text": [
      "1 2 10 4\n"
     ]
    }
   ],
   "source": [
    "func_1(1, c=10) #건너뛰고 사용하고 싶다면 매개변수 c에 할당해서 사용"
   ]
  },
  {
   "cell_type": "code",
   "execution_count": 59,
   "metadata": {},
   "outputs": [
    {
     "name": "stdout",
     "output_type": "stream",
     "text": [
      "55\n"
     ]
    }
   ],
   "source": [
    "def func_2(a,b): \n",
    "    sum = 0\n",
    "    for i in range(a, b+1):\n",
    "        sum += i\n",
    "    return sum\n",
    "\n",
    "print(func_2(1,10))"
   ]
  },
  {
   "cell_type": "code",
   "execution_count": 81,
   "metadata": {},
   "outputs": [],
   "source": [
    "def func_2_1(a,b): \n",
    "    sum = 0\n",
    "    if a > b :\n",
    "        for i in range(b, a+1):\n",
    "            sum += i\n",
    "    else:\n",
    "        for i in range(a, b+1):\n",
    "            sum += i\n",
    "    return sum\n"
   ]
  },
  {
   "cell_type": "code",
   "execution_count": 82,
   "metadata": {},
   "outputs": [
    {
     "data": {
      "text/plain": [
       "55"
      ]
     },
     "execution_count": 82,
     "metadata": {},
     "output_type": "execute_result"
    }
   ],
   "source": [
    "func_2_1(10,1)"
   ]
  },
  {
   "cell_type": "code",
   "execution_count": 83,
   "metadata": {},
   "outputs": [],
   "source": [
    "def func_2_2(a,b):\n",
    "    sum = 0\n",
    "    while a <= b :\n",
    "        sum += a\n",
    "        a += 1\n",
    "    return sum"
   ]
  },
  {
   "cell_type": "code",
   "execution_count": 86,
   "metadata": {},
   "outputs": [
    {
     "name": "stdout",
     "output_type": "stream",
     "text": [
      "55\n"
     ]
    }
   ],
   "source": [
    "def func_2_3(a,b):\n",
    "    sum = 0\n",
    "    for i in range(min(a,b), max(a,b)+1):\n",
    "        sum += i\n",
    "    return sum\n",
    "\n",
    "print(func_2_3(1,10))"
   ]
  },
  {
   "cell_type": "code",
   "execution_count": 78,
   "metadata": {},
   "outputs": [],
   "source": [
    "#중첩함수 시도중 ...\n",
    "def ss(a,b):\n",
    "    sum = 0\n",
    "    for i in range(a,b+1):\n",
    "        sum += i\n",
    "    return sum\n",
    "\n",
    "def funcs(A, B):\n",
    "    if A > B :\n",
    "        ss(B,A)\n",
    "    else:\n",
    "        ss(A,B)\n",
    "    return sum\n",
    "    "
   ]
  },
  {
   "cell_type": "code",
   "execution_count": 87,
   "metadata": {},
   "outputs": [
    {
     "ename": "SyntaxError",
     "evalue": "incomplete input (1368351705.py, line 10)",
     "output_type": "error",
     "traceback": [
      "\u001b[1;36m  Input \u001b[1;32mIn [87]\u001b[1;36m\u001b[0m\n\u001b[1;33m    \u001b[0m\n\u001b[1;37m    ^\u001b[0m\n\u001b[1;31mSyntaxError\u001b[0m\u001b[1;31m:\u001b[0m incomplete input\n"
     ]
    }
   ],
   "source": [
    "#class 시도중 ,,\n",
    "\n",
    "class ssum :\n",
    "    def _init__(self,a,b):\n",
    "        self.a = A\n",
    "        self.b = B\n",
    "\n",
    "    def func_22(self):\n",
    "        if A > B :\n",
    "            "
   ]
  },
  {
   "cell_type": "code",
   "execution_count": 88,
   "metadata": {},
   "outputs": [],
   "source": [
    "def func_3(a,b,c):\n",
    "    if c == '+':\n",
    "        return a+b\n",
    "    elif c == '-':\n",
    "        return a-b\n",
    "    elif c == '*':\n",
    "        return a*b\n",
    "    else:\n",
    "        print(\"연산식이 잘못되었습니다.\")"
   ]
  },
  {
   "cell_type": "code",
   "execution_count": 94,
   "metadata": {},
   "outputs": [
    {
     "name": "stdout",
     "output_type": "stream",
     "text": [
      "연산식이 잘못되었습니다.\n"
     ]
    }
   ],
   "source": [
    "func_3(1,3,'//')"
   ]
  },
  {
   "cell_type": "code",
   "execution_count": 96,
   "metadata": {},
   "outputs": [
    {
     "name": "stdout",
     "output_type": "stream",
     "text": [
      "25\n"
     ]
    }
   ],
   "source": [
    "#함수 map 사용하기\n",
    "def func_4(a):\n",
    "    result = a ** 2\n",
    "    return result\n",
    "print(func_4(5))"
   ]
  },
  {
   "cell_type": "markdown",
   "metadata": {},
   "source": [
    "##### Map 함수"
   ]
  },
  {
   "cell_type": "code",
   "execution_count": 98,
   "metadata": {},
   "outputs": [
    {
     "name": "stdout",
     "output_type": "stream",
     "text": [
      "[1, 4, 9, 16]\n"
     ]
    }
   ],
   "source": [
    "a = list(map(func_4, [1,2,3,4]))\n",
    "print(a)"
   ]
  },
  {
   "cell_type": "markdown",
   "metadata": {},
   "source": [
    "##### Lambda 함수"
   ]
  },
  {
   "cell_type": "code",
   "execution_count": 102,
   "metadata": {},
   "outputs": [
    {
     "name": "stdout",
     "output_type": "stream",
     "text": [
      "16\n"
     ]
    }
   ],
   "source": [
    "lamb = lambda x : x**2\n",
    "print(lamb(4))"
   ]
  },
  {
   "cell_type": "code",
   "execution_count": null,
   "metadata": {},
   "outputs": [],
   "source": []
  }
 ],
 "metadata": {
  "kernelspec": {
   "display_name": "Python 3.10.6 64-bit",
   "language": "python",
   "name": "python3"
  },
  "language_info": {
   "codemirror_mode": {
    "name": "ipython",
    "version": 3
   },
   "file_extension": ".py",
   "mimetype": "text/x-python",
   "name": "python",
   "nbconvert_exporter": "python",
   "pygments_lexer": "ipython3",
   "version": "3.10.6"
  },
  "orig_nbformat": 4,
  "vscode": {
   "interpreter": {
    "hash": "513b084fbc85d0805816cfbd4092cc59ad95f2adc9d8a36016e84bd053b5d48a"
   }
  }
 },
 "nbformat": 4,
 "nbformat_minor": 2
}

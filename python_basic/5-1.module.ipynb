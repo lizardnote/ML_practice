{
 "cells": [
  {
   "cell_type": "code",
   "execution_count": 20,
   "metadata": {},
   "outputs": [
    {
     "name": "stderr",
     "output_type": "stream",
     "text": [
      "C:\\Users\\chk\\AppData\\Local\\Temp\\ipykernel_70972\\1506380358.py:4: DeprecationWarning: the imp module is deprecated in favour of importlib and slated for removal in Python 3.12; see the module's documentation for alternative uses\n",
      "  import imp\n"
     ]
    },
    {
     "data": {
      "text/plain": [
       "<module 'mod1' from 'c:\\\\Users\\\\chk\\\\Desktop\\\\Ubion\\\\Python_practice\\\\practice1\\\\mod1.py'>"
      ]
     },
     "execution_count": 20,
     "metadata": {},
     "output_type": "execute_result"
    }
   ],
   "source": [
    "import mod1\n",
    "\n",
    "#모듈을 다시 로드하는 과정(모듈의 수정이 있을 시에 실행)\n",
    "import imp\n",
    "imp.reload(mod1)\n"
   ]
  },
  {
   "cell_type": "code",
   "execution_count": 23,
   "metadata": {},
   "outputs": [
    {
     "name": "stdout",
     "output_type": "stream",
     "text": [
      "module test\n",
      "5\n"
     ]
    }
   ],
   "source": [
    "print(mod1.x)\n",
    "print(mod1.func_1(3,2))"
   ]
  },
  {
   "cell_type": "code",
   "execution_count": 17,
   "metadata": {},
   "outputs": [
    {
     "name": "stdout",
     "output_type": "stream",
     "text": [
      "Class에서 입력받은 data의 값은 test data이다.\n"
     ]
    }
   ],
   "source": [
    "test = mod1.Class_1(\"test data\")\n",
    "print(test.view_data())"
   ]
  },
  {
   "cell_type": "code",
   "execution_count": 20,
   "metadata": {},
   "outputs": [],
   "source": [
    "from mod1 import Class_1 #mod1에서 Class_1를 가져오겠다."
   ]
  },
  {
   "cell_type": "code",
   "execution_count": 22,
   "metadata": {},
   "outputs": [
    {
     "name": "stdout",
     "output_type": "stream",
     "text": [
      "Class에서 입력받은 data의 값은 test data2이다.\n"
     ]
    }
   ],
   "source": [
    "test2 = Class_1(\"test data2\")\n",
    "print(test2.view_data())"
   ]
  },
  {
   "cell_type": "markdown",
   "metadata": {},
   "source": [
    "1. class 생성\n",
    "2. class 생성하는 과정에서 인자 값을 2개 받고(a,b)\n",
    "3. 새로운 메서드(함수) 하나 생성\n",
    "4. 생성할 때 받은 a,b\n",
    "5. a,b 사이의 값들의 합계를 출력하는 함수"
   ]
  },
  {
   "cell_type": "code",
   "execution_count": 43,
   "metadata": {},
   "outputs": [],
   "source": [
    "class Class_2():\n",
    "    def __init__(self, a, b):\n",
    "        self.a = a\n",
    "        self.b = b\n",
    "        \n",
    "    def sum_func(self):\n",
    "        sum = 0\n",
    "        for i in range(min(self.a, self.b)+1, max(self.a,self.b)):\n",
    "            sum += i \n",
    "        return sum"
   ]
  },
  {
   "cell_type": "code",
   "execution_count": 44,
   "metadata": {},
   "outputs": [],
   "source": [
    "a = Class_2(1,5)\n",
    "b = Class_2(10,3)"
   ]
  },
  {
   "cell_type": "code",
   "execution_count": 45,
   "metadata": {},
   "outputs": [
    {
     "data": {
      "text/plain": [
       "9"
      ]
     },
     "execution_count": 45,
     "metadata": {},
     "output_type": "execute_result"
    }
   ],
   "source": [
    "a.sum_func()"
   ]
  },
  {
   "cell_type": "code",
   "execution_count": 46,
   "metadata": {},
   "outputs": [],
   "source": [
    "class Class_ex():\n",
    "        \n",
    "    def sum_func(self):\n",
    "        self.a = input(\"a값을 입력하세요\")\n",
    "        self.b = input(\"b값을 입력하세요\")\n",
    "        self.x = input(\"x값을 입력하세요\")\n",
    "        self.sum = 0\n",
    "        \n",
    "        for i in range( int(min(self.a, self.b))+1, int(max(self.a,self.b)) , int(self.x) ): \n",
    "            self.sum += i \n",
    "        return self.sum"
   ]
  },
  {
   "cell_type": "code",
   "execution_count": 48,
   "metadata": {},
   "outputs": [
    {
     "name": "stdout",
     "output_type": "stream",
     "text": [
      "20\n"
     ]
    }
   ],
   "source": [
    "print(Class_ex().sum_func())"
   ]
  },
  {
   "cell_type": "code",
   "execution_count": null,
   "metadata": {},
   "outputs": [],
   "source": []
  }
 ],
 "metadata": {
  "kernelspec": {
   "display_name": "Python 3.10.6 64-bit",
   "language": "python",
   "name": "python3"
  },
  "language_info": {
   "codemirror_mode": {
    "name": "ipython",
    "version": 3
   },
   "file_extension": ".py",
   "mimetype": "text/x-python",
   "name": "python",
   "nbconvert_exporter": "python",
   "pygments_lexer": "ipython3",
   "version": "3.10.6"
  },
  "orig_nbformat": 4,
  "vscode": {
   "interpreter": {
    "hash": "513b084fbc85d0805816cfbd4092cc59ad95f2adc9d8a36016e84bd053b5d48a"
   }
  }
 },
 "nbformat": 4,
 "nbformat_minor": 2
}

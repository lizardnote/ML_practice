{
 "cells": [
  {
   "cell_type": "code",
   "execution_count": 32,
   "metadata": {},
   "outputs": [
    {
     "name": "stdout",
     "output_type": "stream",
     "text": [
      "10\n",
      "hello World!\n",
      "<class 'str'>\n",
      "<class 'str'>\n"
     ]
    }
   ],
   "source": [
    "a = \"10\"\n",
    "b= \"hello World!\"\n",
    "print(a)\n",
    "print(b)\n",
    "print(type(a))\n",
    "print(type(b))"
   ]
  },
  {
   "cell_type": "code",
   "execution_count": 12,
   "metadata": {},
   "outputs": [
    {
     "name": "stdout",
     "output_type": "stream",
     "text": [
      "8 2 15 1.6666666666666667 1 2 125\n"
     ]
    }
   ],
   "source": [
    "##연산자\n",
    "##+ - * / // % **\n",
    "x = 5\n",
    "y = 3\n",
    "print(x+y, x-y, x*y, x/y, x//y, x%y, x**y)"
   ]
  },
  {
   "cell_type": "code",
   "execution_count": 16,
   "metadata": {},
   "outputs": [
    {
     "name": "stdout",
     "output_type": "stream",
     "text": [
      "6\n",
      "6\n",
      "6\n",
      "6\n"
     ]
    }
   ],
   "source": [
    "##대입 연산자\n",
    "for i in range(0,3):\n",
    "    x = 5\n",
    "    x += 1 \n",
    "    print(x)\n",
    "    "
   ]
  },
  {
   "cell_type": "code",
   "execution_count": 17,
   "metadata": {},
   "outputs": [
    {
     "name": "stdout",
     "output_type": "stream",
     "text": [
      "False True True False True False\n"
     ]
    }
   ],
   "source": [
    "#비교 연산자\n",
    "a = 5\n",
    "b = 3\n",
    "print( a == b, a != b, a > b , a < b, a >= b , a <= b )\n"
   ]
  },
  {
   "cell_type": "code",
   "execution_count": 22,
   "metadata": {},
   "outputs": [
    {
     "name": "stdout",
     "output_type": "stream",
     "text": [
      "True\n",
      "True\n"
     ]
    }
   ],
   "source": [
    "## and or not\n",
    "## and 두 조건이 모두 참인 경우 참\n",
    "## or 두 조건 중 하나만 참이면 참\n",
    "## not 반대로 출력 \n",
    "a=10\n",
    "print( (a>5) and (a<15) )  # 두 조건 중 하나만 참인 경우\n",
    "print( (a>5) or (a<15) )\n"
   ]
  },
  {
   "cell_type": "code",
   "execution_count": 26,
   "metadata": {},
   "outputs": [
    {
     "data": {
      "text/plain": [
       "True"
      ]
     },
     "execution_count": 26,
     "metadata": {},
     "output_type": "execute_result"
    }
   ],
   "source": [
    "not(False)  #not 부정의 의미 불의 형태가 반대로 출력"
   ]
  },
  {
   "cell_type": "markdown",
   "metadata": {},
   "source": [
    "#### if문\n",
    "- 조건식이 참인 경우 코드가 실행 (들여쓰기 한 코드가 실행)\n",
    "- 조건식이 거짓인 경우 코드가 실행이 되지 않는다.\n",
    "- 거짓일 때의 코드를 실행하려면 else문을 사용해야 한다."
   ]
  },
  {
   "cell_type": "code",
   "execution_count": 29,
   "metadata": {},
   "outputs": [
    {
     "name": "stdout",
     "output_type": "stream",
     "text": [
      "a는 10보다 크거나 같다.\n"
     ]
    }
   ],
   "source": [
    "a = 20\n",
    "if a < 10 :\n",
    "    print(\"a는 10보다 작다\")\n",
    "else:\n",
    "    print(\"a는 10보다 크거나 같다.\")\n",
    "\n",
    "    "
   ]
  },
  {
   "cell_type": "markdown",
   "metadata": {},
   "source": [
    "###"
   ]
  },
  {
   "cell_type": "code",
   "execution_count": 2,
   "metadata": {},
   "outputs": [
    {
     "name": "stdout",
     "output_type": "stream",
     "text": [
      "A\n"
     ]
    }
   ],
   "source": [
    "# 값 입력받기\n",
    "score = int(input(\"점수를 입력하세요 : \"))\n",
    "if score >= 90 :\n",
    "    print('A')\n",
    "elif score >= 80 :\n",
    "    print('B')\n",
    "elif score >= 70 :\n",
    "    print(\"C\")\n",
    "else:\n",
    "    print('D')\n",
    "    "
   ]
  },
  {
   "cell_type": "code",
   "execution_count": null,
   "metadata": {},
   "outputs": [],
   "source": [
    "#간격 지정 가능\n",
    "\n",
    "for i in range(0, 5, 2):\n",
    "    print (i)"
   ]
  },
  {
   "cell_type": "code",
   "execution_count": null,
   "metadata": {},
   "outputs": [],
   "source": [
    "#반대로 출력 가능\n",
    "for i in range(10,1, -1):\n",
    "    print(i)"
   ]
  },
  {
   "cell_type": "code",
   "execution_count": 65,
   "metadata": {},
   "outputs": [
    {
     "name": "stdout",
     "output_type": "stream",
     "text": [
      "55\n"
     ]
    }
   ],
   "source": [
    "#1 1부터 10까지 합\n",
    "sum = 0\n",
    "for i in range(1, 11):\n",
    "    sum += i\n",
    "print(sum)"
   ]
  },
  {
   "cell_type": "code",
   "execution_count": 54,
   "metadata": {},
   "outputs": [
    {
     "name": "stdout",
     "output_type": "stream",
     "text": [
      "650\n"
     ]
    }
   ],
   "source": [
    "#2  1부터 50까지 짝수 합\n",
    "sum = 0\n",
    "for i in range(0, 51, 2):\n",
    "    sum += i\n",
    "print(sum)"
   ]
  },
  {
   "cell_type": "code",
   "execution_count": 55,
   "metadata": {},
   "outputs": [
    {
     "name": "stdout",
     "output_type": "stream",
     "text": [
      "650\n"
     ]
    }
   ],
   "source": [
    "sum = 0\n",
    "for i in range(1,51):\n",
    "    if i % 2 == 0 :\n",
    "        sum += i\n",
    "print(sum)   "
   ]
  },
  {
   "cell_type": "code",
   "execution_count": null,
   "metadata": {},
   "outputs": [],
   "source": [
    "#3 주사위 2개를 굴려서 합이 10이 되는 경우의 수를 출력하시오\n",
    "\n",
    "for i in range(1,7):\n",
    "    for j in range(1,7):\n",
    "        if i + j == 10 :\n",
    "            print( i, j )"
   ]
  },
  {
   "cell_type": "code",
   "execution_count": null,
   "metadata": {},
   "outputs": [],
   "source": [
    "## while문\n",
    "# 초기값을 미리 지정\n",
    "# while 조건식 \n",
    "\n",
    "i = 0\n",
    "while i < 10 :\n",
    "    print(i)\n",
    "    i += 1\n",
    "    "
   ]
  },
  {
   "cell_type": "code",
   "execution_count": null,
   "metadata": {},
   "outputs": [],
   "source": [
    "#break문 사용하기\n",
    "\n",
    "for i in range(0,100,1):\n",
    "    if i == 7 : \n",
    "        break\n",
    "    else:\n",
    "        print(i)"
   ]
  },
  {
   "cell_type": "code",
   "execution_count": 3,
   "metadata": {},
   "outputs": [
    {
     "name": "stdout",
     "output_type": "stream",
     "text": [
      "0 1 2 3 4 5 6 7 "
     ]
    }
   ],
   "source": [
    "for i in range(0, 100 ,1):\n",
    "    print(i, end = ' ')\n",
    "    if i == 7 :\n",
    "        break"
   ]
  },
  {
   "cell_type": "code",
   "execution_count": 61,
   "metadata": {},
   "outputs": [
    {
     "name": "stdout",
     "output_type": "stream",
     "text": [
      "903\n",
      "42\n"
     ]
    }
   ],
   "source": [
    "# 1부터 1000까지 합을 구하는데, 합계가 900이 넘어가는 최초의 숫자는 무엇일까요\n",
    "\n",
    "sum = 0\n",
    "for i in range(0, 1000 ,1):\n",
    "    sum += i\n",
    "    if sum <= 900:\n",
    "        continue\n",
    "    else: \n",
    "        print(sum)\n",
    "        print(i)\n",
    "        break"
   ]
  },
  {
   "cell_type": "code",
   "execution_count": 66,
   "metadata": {},
   "outputs": [
    {
     "name": "stdout",
     "output_type": "stream",
     "text": [
      "903\n",
      "42\n"
     ]
    }
   ],
   "source": [
    "sum = 0\n",
    "for i in range(0, 1000 ,1):\n",
    "    sum += i\n",
    "    if sum >= 900: \n",
    "        print(sum)\n",
    "        print(i)\n",
    "        break"
   ]
  },
  {
   "cell_type": "code",
   "execution_count": 87,
   "metadata": {},
   "outputs": [
    {
     "name": "stdout",
     "output_type": "stream",
     "text": [
      "42\n",
      "903\n"
     ]
    }
   ],
   "source": [
    "i = 0\n",
    "sum = 0\n",
    "while i < 1000 :\n",
    "    sum += i\n",
    "    if sum < 900 :\n",
    "        i += 1\n",
    "    else :\n",
    "        break\n",
    "print(i)\n",
    "print(sum)\n",
    "    "
   ]
  },
  {
   "cell_type": "code",
   "execution_count": 5,
   "metadata": {},
   "outputs": [],
   "source": [
    "a = [20, 10, 50, 5]\n",
    "b = [10 ,20, 30, 40]"
   ]
  },
  {
   "cell_type": "code",
   "execution_count": 6,
   "metadata": {},
   "outputs": [
    {
     "name": "stdout",
     "output_type": "stream",
     "text": [
      "[5, 10, 20, 50]\n",
      "[40, 30, 20, 10]\n",
      "[5, 10, 20, 50, 22]\n"
     ]
    }
   ],
   "source": [
    "# sort() - 오름차순 정렬\n",
    "a.sort()\n",
    "print(a)\n",
    "\n",
    "# reverse() 역순으로 정렬\n",
    "b.reverse()\n",
    "print(b)\n",
    "\n",
    "a.append(22)\n",
    "print(a)"
   ]
  },
  {
   "cell_type": "code",
   "execution_count": 97,
   "metadata": {},
   "outputs": [
    {
     "name": "stdout",
     "output_type": "stream",
     "text": [
      "[3, 6, 9, 12, 15, 18, 21, 24, 27, 30, 33, 36, 39, 42, 45, 48, 51, 54, 57, 60, 63, 66, 69]\n"
     ]
    }
   ],
   "source": [
    "# 1부터 70까지 3의 배수를 리스트로 만들어서 출력하시오\n",
    "a = []\n",
    "for i in range(1, 71):\n",
    "    if i % 3 == 0:\n",
    "        a.append(i)\n",
    "print(a)\n"
   ]
  },
  {
   "cell_type": "code",
   "execution_count": 100,
   "metadata": {},
   "outputs": [
    {
     "name": "stdout",
     "output_type": "stream",
     "text": [
      "{'name': 'test', 'age': 20, 'phone': '01022424978'}\n",
      "test\n"
     ]
    }
   ],
   "source": [
    "#딕셔너리 데이터형\n",
    "dict = { 'name' : 'test', 'age': 20, 'phone': \"01022424978\"}\n",
    "print(dict)\n",
    "print(dict['name'])"
   ]
  },
  {
   "cell_type": "code",
   "execution_count": 107,
   "metadata": {},
   "outputs": [
    {
     "data": {
      "text/plain": [
       "[{'name': 'test', 'age': '20'},\n",
       " {'name': 'test2', 'age': '30'},\n",
       " {'name': 'test3', 'age': '25'}]"
      ]
     },
     "execution_count": 107,
     "metadata": {},
     "output_type": "execute_result"
    }
   ],
   "source": [
    "#데이터의 형태 [ { }, { }, { }]\n",
    "\n",
    "test_data = [\n",
    "    {'name' : 'test', 'age' : '20'} , \n",
    "    {'name' : 'test2', 'age' : '30'}, \n",
    "     {'name' : 'test3','age' : '25'}\n",
    "]\n",
    "\n",
    "test_data"
   ]
  },
  {
   "cell_type": "code",
   "execution_count": 115,
   "metadata": {},
   "outputs": [
    {
     "name": "stdout",
     "output_type": "stream",
     "text": [
      "{'name': 'test', 'age': '20'}\n",
      "test\n"
     ]
    }
   ],
   "source": [
    "print(test_data[0])\n",
    "print(test_data[0]['name'])"
   ]
  },
  {
   "cell_type": "code",
   "execution_count": 118,
   "metadata": {},
   "outputs": [
    {
     "name": "stdout",
     "output_type": "stream",
     "text": [
      "HELLO WORLD\n",
      "hello world\n",
      "Hello World\n"
     ]
    }
   ],
   "source": [
    "a = \"Hello world\"\n",
    "print(a.upper())\n",
    "print(a.lower())\n",
    "print(a.title())"
   ]
  },
  {
   "cell_type": "markdown",
   "metadata": {},
   "source": [
    "#### 공백 지우기, 대체하기, 쪼개기\n",
    "- strip()\n",
    "- replace()\n",
    "- split()"
   ]
  },
  {
   "cell_type": "code",
   "execution_count": 127,
   "metadata": {},
   "outputs": [
    {
     "name": "stdout",
     "output_type": "stream",
     "text": [
      "' h   ello world    '\n",
      "' h   ello world    '   \n",
      "   ' h   ello world    '\n"
     ]
    }
   ],
   "source": [
    "# 양쪽 여백의 공백만 건드린다.\n",
    "\n",
    "a = \"   ' h   ello world    '   \"\n",
    "print(a.strip())  \n",
    "print(a.lstrip())\n",
    "print(a.rstrip())"
   ]
  },
  {
   "cell_type": "code",
   "execution_count": 128,
   "metadata": {},
   "outputs": [
    {
     "data": {
      "text/plain": [
       "\"'helloworld'\""
      ]
     },
     "execution_count": 128,
     "metadata": {},
     "output_type": "execute_result"
    }
   ],
   "source": [
    "a.replace(\" \", \"\")    # 공백이 있는 것은 공백 없이 출력한다."
   ]
  },
  {
   "cell_type": "code",
   "execution_count": 7,
   "metadata": {},
   "outputs": [
    {
     "name": "stdout",
     "output_type": "stream",
     "text": [
      "a, b, c, d, e\n"
     ]
    }
   ],
   "source": [
    "a = \"a, b, c, d, e\"\n",
    "print(a)"
   ]
  },
  {
   "cell_type": "code",
   "execution_count": 130,
   "metadata": {},
   "outputs": [
    {
     "data": {
      "text/plain": [
       "['a ', ' b', ' c', ' d', ' e']"
      ]
     },
     "execution_count": 130,
     "metadata": {},
     "output_type": "execute_result"
    }
   ],
   "source": [
    "a.split(\",\")"
   ]
  },
  {
   "cell_type": "markdown",
   "metadata": {},
   "source": [
    "### 함수\n",
    "\n",
    "def 함수명 ( 매개변수 ) :\n",
    "\n",
    "함수 안에 있는 변수 = 지역변수"
   ]
  },
  {
   "cell_type": "code",
   "execution_count": 140,
   "metadata": {},
   "outputs": [],
   "source": [
    "def func1():\n",
    "    print(\"hello world\")"
   ]
  },
  {
   "cell_type": "code",
   "execution_count": 141,
   "metadata": {},
   "outputs": [
    {
     "name": "stdout",
     "output_type": "stream",
     "text": [
      "hello world\n",
      "None\n"
     ]
    }
   ],
   "source": [
    "print(func1())"
   ]
  },
  {
   "cell_type": "code",
   "execution_count": 136,
   "metadata": {},
   "outputs": [
    {
     "name": "stdout",
     "output_type": "stream",
     "text": [
      "15\n",
      "15\n",
      "3\n"
     ]
    }
   ],
   "source": [
    "x = 3              # x는 전역변수\n",
    "\n",
    "def func2(a):\n",
    "    result = a * x\n",
    "    print(result)\n",
    "    return result  # result는 지역변수\n",
    "    \n",
    "\n",
    "print(func2(5))\n",
    "print(x)"
   ]
  },
  {
   "cell_type": "code",
   "execution_count": 143,
   "metadata": {},
   "outputs": [
    {
     "name": "stdout",
     "output_type": "stream",
     "text": [
      "9\n"
     ]
    }
   ],
   "source": [
    "def func3(a, b, c) :\n",
    "    result = a + b + c\n",
    "    return result\n",
    "\n",
    "print(func3(1,3,5))"
   ]
  },
  {
   "cell_type": "code",
   "execution_count": 148,
   "metadata": {},
   "outputs": [
    {
     "name": "stdout",
     "output_type": "stream",
     "text": [
      "7\n",
      "8\n"
     ]
    }
   ],
   "source": [
    "def func4(a,b,c=1):\n",
    "    result = a + b + c\n",
    "    return result\n",
    "\n",
    "print(func4(5,1))\n",
    "print(func4(5,2,1))"
   ]
  },
  {
   "cell_type": "code",
   "execution_count": null,
   "metadata": {},
   "outputs": [],
   "source": []
  }
 ],
 "metadata": {
  "kernelspec": {
   "display_name": "Python 3.10.6 64-bit",
   "language": "python",
   "name": "python3"
  },
  "language_info": {
   "codemirror_mode": {
    "name": "ipython",
    "version": 3
   },
   "file_extension": ".py",
   "mimetype": "text/x-python",
   "name": "python",
   "nbconvert_exporter": "python",
   "pygments_lexer": "ipython3",
   "version": "3.10.6"
  },
  "orig_nbformat": 4,
  "vscode": {
   "interpreter": {
    "hash": "513b084fbc85d0805816cfbd4092cc59ad95f2adc9d8a36016e84bd053b5d48a"
   }
  }
 },
 "nbformat": 4,
 "nbformat_minor": 2
}

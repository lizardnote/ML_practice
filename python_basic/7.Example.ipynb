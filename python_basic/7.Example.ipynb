{
 "cells": [
  {
   "cell_type": "markdown",
   "metadata": {},
   "source": [
    "#### 변수\n",
    "데이터를 저장하는 공간의 이름\n",
    "- 변수를 선언할 때는 변수명 = 변수 값 으로 사용\n",
    "- 데이터 타입은 여러가지\n",
    "- 파이썬에서는 데이터 타입을 지정할 필요가 없음\n",
    "  "
   ]
  },
  {
   "cell_type": "code",
   "execution_count": 2,
   "metadata": {},
   "outputs": [
    {
     "name": "stdout",
     "output_type": "stream",
     "text": [
      "<class 'str'>\n",
      "<class 'int'>\n"
     ]
    }
   ],
   "source": [
    "## 데이터 타입들은 python에서 알아서 지정함\n",
    "a = \"test\"\n",
    "b =12324\n",
    "print(type(a))\n",
    "print(type(b))"
   ]
  },
  {
   "cell_type": "markdown",
   "metadata": {},
   "source": [
    "#### 연산자\n",
    "일반적으로 사칙연산을 의미\n",
    "- 일반연산자 : +-*/ //(몫) %(나머지)\n",
    "- 대입연산자 : += -= *= /= //= %=\n",
    "- 비교연산자 : 두 값을 비교해 참과 거짓을 출력하는 연산자(주로 조건문,반복문에 이용)\n",
    "- and : True True = True (&)\n",
    "- or : True or False = True (|)\n",
    "- not : True = False (~)"
   ]
  },
  {
   "cell_type": "code",
   "execution_count": null,
   "metadata": {},
   "outputs": [],
   "source": [
    "#일반연산자\n",
    "x = 10\n",
    "y = 3\n",
    "print(x+y, x-y, x*y, x/y, x//y, x%y)\n",
    "\n",
    "#대입연산자\n",
    "x+=y\n",
    "print(x)\n",
    "\n",
    "#비교연산자 > >= < <= == !=\n",
    "print( x!=y)\n",
    "print( x==y )\n",
    "not(False)"
   ]
  },
  {
   "cell_type": "markdown",
   "metadata": {},
   "source": [
    "#### 조건문 if\n",
    "조건에 맞춰 컴퓨터에게 지시를 내리기 위한 기본적인 방법\n",
    "- 조건식이 참이면 실행 할 코드\n",
    "- 조건식이 거짓인 경우에 실행할 코드\n",
    "- 실행할 코드들은 들여쓰기로 구분"
   ]
  },
  {
   "cell_type": "code",
   "execution_count": null,
   "metadata": {},
   "outputs": [],
   "source": [
    "a = 10\n",
    "if a >= 5 :\n",
    "    print(\"5보다 큰 수\")\n",
    "else:\n",
    "    print(\"5보다 작거나 같은 수\")"
   ]
  },
  {
   "cell_type": "markdown",
   "metadata": {},
   "source": [
    "#### 연습문제\n",
    "1. input()을 이용해 유저에게 입력 값을 받아오기\n",
    "2.  90 이상이면 A, 80 이상이면 B, 70 이상이면 C, 아니면 F\n",
    "   "
   ]
  },
  {
   "cell_type": "code",
   "execution_count": 15,
   "metadata": {},
   "outputs": [
    {
     "name": "stdout",
     "output_type": "stream",
     "text": [
      "A\n"
     ]
    }
   ],
   "source": [
    "input_data = int(input(\"값을 입력하세요 : \"))\n",
    "\n",
    "if input_data >= 90 :\n",
    "    print(\"A\")\n",
    "elif input_data >= 80 :\n",
    "    print(\"B\")\n",
    "elif input_data >= 70 :\n",
    "    print(\"C\")\n",
    "else:\n",
    "    print(\"F\")\n"
   ]
  },
  {
   "cell_type": "markdown",
   "metadata": {},
   "source": [
    "#### 반복문 FOR While\n",
    "1. for문\n",
    " - for i in range(시작, 종료, 간격)\n",
    " - for i in list[]\n",
    " - 출력 시 end = ' ' 를 사용하면 줄바꿈이 되지 않는다.\n",
    "2. While문\n",
    "- 조건식, 초기값 지정\n",
    "- 조건식이 참인 경우에 초기값을 증가 시켜서 조건이 거짓이 될 때까지 반복\n",
    "3. continue\n",
    "   : 반복문으로 돌아가고 continue 밑의 값들은 실행하지 않고 반복문으로 돌아감\n",
    "4. berak\n",
    "   : 반복문 종료"
   ]
  },
  {
   "cell_type": "code",
   "execution_count": 20,
   "metadata": {},
   "outputs": [
    {
     "name": "stdout",
     "output_type": "stream",
     "text": [
      "1, 2, 3, 4, 5, 6, 7, 8, 9, a,b,c,"
     ]
    }
   ],
   "source": [
    "for i in range(1,10, 1):\n",
    "    print( i , end= ', ')\n",
    "\n",
    "for l in ['a', 'b', 'c']:\n",
    "    print(l, end = ',')"
   ]
  },
  {
   "cell_type": "code",
   "execution_count": 27,
   "metadata": {},
   "outputs": [
    {
     "name": "stdout",
     "output_type": "stream",
     "text": [
      "55\n",
      "55\n",
      "65\n"
     ]
    }
   ],
   "source": [
    "## 1~10 까지의 합을 구하라\n",
    "\n",
    "sum = 0\n",
    "for i in range(1,11):\n",
    "    sum += i\n",
    "print(sum)\n",
    "\n",
    "ssum = 0\n",
    "i = 1\n",
    "while i < 11 :\n",
    "    ssum += i\n",
    "    i += 1\n",
    "print(ssum)\n",
    "\n",
    "#순서가 바뀌면, 2~11까지 더해지니까 조심하기 !\n",
    "ssumm = 0\n",
    "i = 1\n",
    "while i < 11 :\n",
    "    i += 1\n",
    "    ssumm += i\n",
    "print(ssumm)"
   ]
  },
  {
   "cell_type": "code",
   "execution_count": 36,
   "metadata": {},
   "outputs": [
    {
     "name": "stdout",
     "output_type": "stream",
     "text": [
      "A\n",
      "B\n",
      "C\n",
      "D\n"
     ]
    }
   ],
   "source": [
    "list_ex = ['A','B','C','D']\n",
    "\n",
    "i = 0\n",
    "while i < len(list_ex) :\n",
    "    print(list_ex[i])\n",
    "    i += 1"
   ]
  },
  {
   "cell_type": "code",
   "execution_count": null,
   "metadata": {},
   "outputs": [],
   "source": [
    "for i in range(1,100,1):\n",
    "    if i < 10 :\n",
    "        continue\n",
    "    elif i > 15:\n",
    "        break\n",
    "    print(i, end= \",\")"
   ]
  },
  {
   "cell_type": "code",
   "execution_count": 16,
   "metadata": {},
   "outputs": [
    {
     "name": "stdout",
     "output_type": "stream",
     "text": [
      "735\n",
      "735\n"
     ]
    }
   ],
   "source": [
    "sum = 0\n",
    "for i in range(1,100,1):\n",
    "    if i < 25 :\n",
    "        continue\n",
    "    elif i > 45 :\n",
    "        break\n",
    "    else:\n",
    "        sum += i\n",
    "        \n",
    "print(sum) \n",
    "\n",
    "\n",
    "i = 1\n",
    "summ = 0\n",
    "while i < 100 :\n",
    "    if i < 25 :\n",
    "        i += 1\n",
    "        continue\n",
    "    elif i > 45 :\n",
    "        break\n",
    "    summ += i\n",
    "    i += 1\n",
    "    \n",
    "print(summ)"
   ]
  },
  {
   "cell_type": "markdown",
   "metadata": {},
   "source": [
    "#### 함수\n",
    "함수는 입력받은 어떤 데이터를 가지고 행동을 하여 결과값을 돌려주는 코드 - 로직\n",
    "- def 함수명 ()\n",
    "- 매개변수 설정\n",
    "- 함수 호출 시 함수명(인자값) 으로 호출\n",
    "- 매개변수 개수와 인자 개수 동일해야 한다."
   ]
  },
  {
   "cell_type": "code",
   "execution_count": 33,
   "metadata": {},
   "outputs": [
    {
     "name": "stdout",
     "output_type": "stream",
     "text": [
      "Hello World\n",
      "8\n",
      "3\n",
      "12\n"
     ]
    }
   ],
   "source": [
    "\n",
    "#매개변수가 없어도\n",
    "def func1():\n",
    "    return \"Hello World\"\n",
    "print(func1())\n",
    "\n",
    "#매개변수가 있다면\n",
    "def func2(x,y):\n",
    "    if type(x) == int and type(y) == int :  # 'int' 가 아니라 int로 조건 지정해야 맞게 됨\n",
    "        result = x** y\n",
    "    else:\n",
    "        result = \"입력 받은 값의 타입이 숫자형이 아닙니다.\"\n",
    "    return result\n",
    "print(func2(2,3))\n",
    "\n",
    "## 매개변수 default 값 넣어주기\n",
    "def func3(x=1,y=2) : \n",
    "    result  = x + y\n",
    "    return result\n",
    "print(func3())\n",
    "\n",
    "#이름을 지정해서 값을 넣어주기\n",
    "def func4(x=1, y=2, z=3):\n",
    "    result = (x + y) * z\n",
    "    return result\n",
    "print(func4(z=4))"
   ]
  },
  {
   "cell_type": "code",
   "execution_count": 46,
   "metadata": {},
   "outputs": [
    {
     "name": "stdout",
     "output_type": "stream",
     "text": [
      "z타입은 bool의 형태여야 합니다\n",
      "4\n",
      "-2\n"
     ]
    }
   ],
   "source": [
    "def func4(x,y,z):\n",
    "    if z == True:\n",
    "        result = x + y\n",
    "    elif z == False:\n",
    "        result = x-y\n",
    "    else:\n",
    "        result = \"z타입은 bool의 형태여야 합니다\"\n",
    "    return result\n",
    "\n",
    "def func4(x,y,z):\n",
    "    if type(z) == bool:\n",
    "        if z == True:\n",
    "            result = x + y\n",
    "        else:\n",
    "            result = x - y\n",
    "    else:\n",
    "        result = \"z타입은 bool의 형태여야 합니다\"\n",
    "    return result\n",
    "\n",
    "print(func4(1,3,5))\n",
    "print(func4(1,3,True))\n",
    "print(func4(1,3,False))"
   ]
  },
  {
   "cell_type": "markdown",
   "metadata": {},
   "source": [
    "#### Class\n",
    "1. 변수, 함수의 집합체\n",
    "2. Class 이름은 대문자로 생성\n",
    "3. self 매개변수 생성 -> 자기자신 -> class가 저장되어 있는 공간\n",
    "4.  '__init__' 함수 -> class 생성 시 단 한번만 실행이 되는 함수\n",
    "5.  '__init__' 함수는 필요시에만 작성"
   ]
  },
  {
   "cell_type": "code",
   "execution_count": 13,
   "metadata": {},
   "outputs": [],
   "source": [
    "#클래스 선언\n",
    "class Class1():\n",
    "    def __init__(self):\n",
    "        self.result = \"Class가 생성되었습니다.\"\n",
    "\n",
    "    def output(self):\n",
    "        return self.result\n"
   ]
  },
  {
   "cell_type": "code",
   "execution_count": 14,
   "metadata": {},
   "outputs": [
    {
     "name": "stdout",
     "output_type": "stream",
     "text": [
      "Class가 생성되었습니다.\n"
     ]
    }
   ],
   "source": [
    "Class_a = Class1()\n",
    "print(Class_a.output())"
   ]
  },
  {
   "cell_type": "code",
   "execution_count": 9,
   "metadata": {},
   "outputs": [],
   "source": [
    "class Class2():\n",
    "    def __init__(self, x, y):\n",
    "        self.x = x\n",
    "        self.y = y\n",
    "    def output(self):\n",
    "        self.result = self.x + self.y\n",
    "        return self.result"
   ]
  },
  {
   "cell_type": "code",
   "execution_count": 12,
   "metadata": {},
   "outputs": [
    {
     "name": "stdout",
     "output_type": "stream",
     "text": [
      "9\n",
      "13\n"
     ]
    }
   ],
   "source": [
    "class_b = Class2(5,4)\n",
    "class_c = Class2(10,3)\n",
    "\n",
    "print(class_b.output())\n",
    "print(class_c.output())"
   ]
  },
  {
   "cell_type": "markdown",
   "metadata": {},
   "source": [
    "##### 연습문제\n",
    "1. class 선언\n",
    "2. self 제외한 매개변수 x y\n",
    "3. 2개 함수 생성\n",
    "4. 하나는 곱을 리턴 다른 하나는 나눗셈 리턴\n",
    "   "
   ]
  },
  {
   "cell_type": "code",
   "execution_count": 15,
   "metadata": {},
   "outputs": [],
   "source": [
    "class Class_3():\n",
    "    def __init__(self, x, y):\n",
    "        self.x = x\n",
    "        self.y = y\n",
    "    def output_multi(self):\n",
    "        self.result = self.x * self.y\n",
    "        return self.result\n",
    "    def output_div(self):\n",
    "        self.result = self.x / self.y\n",
    "        return self.result\n"
   ]
  },
  {
   "cell_type": "code",
   "execution_count": 18,
   "metadata": {},
   "outputs": [
    {
     "name": "stdout",
     "output_type": "stream",
     "text": [
      "3.0\n",
      "27\n"
     ]
    }
   ],
   "source": [
    "print(Class_3(9,3).output_div())\n",
    "print(Class_3(9,3).output_multi())"
   ]
  },
  {
   "cell_type": "markdown",
   "metadata": {},
   "source": [
    "#### 외부 라이브러리 사용하기\n",
    "1. 설치하기 - !pip install 라이브러리명\n",
    "2. 로드하기 - import 라이브러리명 as 별칭\n",
    "\n",
    "##### csv 호출\n",
    "pd.read_csv('파일경로')\n",
    "- 절대경로 : 누구나 같은 위치로 이동할 수 있는 위치(url, c:/...)\n",
    "- 상대경로 : 상대적인 위치( 현재  작업중인 디렉토리 )\n",
    "-  ./ : 현재 작업중인 디렉토리\n",
    "-  ../ : 상위 디렉토리\n",
    "-  ./폴더명/ : 하위폴더\n",
    "-  상위 두번 : ../../\n",
    "-  하위 두번 : ./폴더명/폴더명/파일이름\n",
    "-  상위 1번 하위 1번 : ../폴더명/   "
   ]
  },
  {
   "cell_type": "code",
   "execution_count": 19,
   "metadata": {},
   "outputs": [],
   "source": [
    "# !pip install pandas\n",
    "import pandas as pd"
   ]
  },
  {
   "cell_type": "code",
   "execution_count": null,
   "metadata": {},
   "outputs": [],
   "source": [
    "data = pd.read_csv('../../practice/data/uriage.csv')\n",
    "data"
   ]
  },
  {
   "cell_type": "code",
   "execution_count": 30,
   "metadata": {},
   "outputs": [],
   "source": [
    "#대문자 변환\n",
    "#upper() 함수는 대문자로 변환시킨다(단, 문자열만)\n",
    "#df에서는 Series형태이므로 string화 시켜준 뒤 변환한다.\n",
    "data['item_name'] = data['item_name'].str.upper()\n",
    "data['item_name']\n",
    "\n",
    "\n",
    "\n",
    "#공백 삭제 : l/r/strip(), replace(), apply(함수)\n",
    "\n",
    "#case1 : 문자열화 시킨 뒤 replace() 사용\n",
    "data['item_name'] = data['item_name'].str.replace(' ','')\n",
    "\n",
    "#case2 : apply(def) or apply(lambda)\n",
    "data['item_name'] = data['item_name'].apply(lambda x : x.replace(' ', ''))\n",
    "\n",
    "#case3 : def 생성 후 apply(def)\n",
    "def change(x):\n",
    "    return x.replace(' ', '')\n",
    "data['item_name'] = data['item_name'].apply(change)\n"
   ]
  },
  {
   "cell_type": "markdown",
   "metadata": {},
   "source": [
    "#### Class에 연동하기, 모듈화 시키기\n",
    "1. init 함수 : 파일 경로를 받아오기 -> 매개변수 : 파일 경로\n",
    "2. 함수1 생성 : 공백 제거, 대문자로 변환 후 리턴 -> 매개변수 : 특정 컬럼\n",
    "3. 데이터프레임을 리턴"
   ]
  },
  {
   "cell_type": "code",
   "execution_count": 115,
   "metadata": {},
   "outputs": [],
   "source": [
    "class Class_4():\n",
    "    def __init__(self, _path):\n",
    "        self.df = pd.read_csv(_path)\n",
    "    \n",
    "    def change(self, _column):\n",
    "        #공백제거 뒤에.upper()로 붙여도 됌\n",
    "        self.df[_column] = self.df[_column].str.replace(\" \", \"\").str.upper()\n",
    "        #대문자변환\n",
    "        #self.df[_column] = self.df[_column].str.upper()\n",
    "        return self.df\n",
    "    \n",
    "    def time(self, _column):\n",
    "        self.df[_column] = pd.to_datetime(self.df[_column])\n",
    "        return self.df\n",
    "\n",
    "    def new_var(self, _column3):\n",
    "        self.df[\"Year\"] = pd.to_datetime(self.df[_column3]).dt.strftime(\"%Y\")\n",
    "        self.df[\"month\"] = pd.to_datetime(self.df[_column3]).dt.strftime(\"%m\")\n",
    "        self.df[\"day\"] = pd.to_datetime(self.df[_column3]).dt.strftime(\"%d\")\n",
    "        return self.df\n",
    "        \n",
    "    def review(self):\n",
    "        return self.df"
   ]
  },
  {
   "cell_type": "code",
   "execution_count": 71,
   "metadata": {},
   "outputs": [],
   "source": [
    "class_df = Class_4('../data/uriage.csv')"
   ]
  },
  {
   "cell_type": "code",
   "execution_count": null,
   "metadata": {},
   "outputs": [],
   "source": [
    "class_df.change('item_name')"
   ]
  },
  {
   "cell_type": "markdown",
   "metadata": {},
   "source": [
    "#### mod 파일 바꾸면 반드시 reload 해줘야함 !"
   ]
  },
  {
   "cell_type": "code",
   "execution_count": 130,
   "metadata": {},
   "outputs": [
    {
     "data": {
      "text/plain": [
       "<module 'mod2' from 'c:\\\\Users\\\\chk\\\\Desktop\\\\Ubion\\\\Python_practice\\\\practice\\\\0905\\\\mod2.py'>"
      ]
     },
     "execution_count": 130,
     "metadata": {},
     "output_type": "execute_result"
    }
   ],
   "source": [
    "import mod2\n",
    "import imp\n",
    "imp.reload(mod2)"
   ]
  },
  {
   "cell_type": "code",
   "execution_count": 131,
   "metadata": {},
   "outputs": [],
   "source": [
    "class_df_2 = mod2.Class_df('../data/uriage.csv')"
   ]
  },
  {
   "cell_type": "code",
   "execution_count": 132,
   "metadata": {},
   "outputs": [
    {
     "data": {
      "text/html": [
       "<div>\n",
       "<style scoped>\n",
       "    .dataframe tbody tr th:only-of-type {\n",
       "        vertical-align: middle;\n",
       "    }\n",
       "\n",
       "    .dataframe tbody tr th {\n",
       "        vertical-align: top;\n",
       "    }\n",
       "\n",
       "    .dataframe thead th {\n",
       "        text-align: right;\n",
       "    }\n",
       "</style>\n",
       "<table border=\"1\" class=\"dataframe\">\n",
       "  <thead>\n",
       "    <tr style=\"text-align: right;\">\n",
       "      <th></th>\n",
       "      <th>purchase_date</th>\n",
       "      <th>item_name</th>\n",
       "      <th>item_price</th>\n",
       "      <th>customer_name</th>\n",
       "    </tr>\n",
       "  </thead>\n",
       "  <tbody>\n",
       "    <tr>\n",
       "      <th>0</th>\n",
       "      <td>2019-06-13 18:02</td>\n",
       "      <td>상품A</td>\n",
       "      <td>100.0</td>\n",
       "      <td>김가온</td>\n",
       "    </tr>\n",
       "    <tr>\n",
       "      <th>1</th>\n",
       "      <td>2019-07-13 13:05</td>\n",
       "      <td>상품S</td>\n",
       "      <td>NaN</td>\n",
       "      <td>김우찬</td>\n",
       "    </tr>\n",
       "    <tr>\n",
       "      <th>2</th>\n",
       "      <td>2019-05-11 19:42</td>\n",
       "      <td>상품A</td>\n",
       "      <td>NaN</td>\n",
       "      <td>김유찬</td>\n",
       "    </tr>\n",
       "    <tr>\n",
       "      <th>3</th>\n",
       "      <td>2019-02-12 23:40</td>\n",
       "      <td>상품Z</td>\n",
       "      <td>2600.0</td>\n",
       "      <td>김재현</td>\n",
       "    </tr>\n",
       "    <tr>\n",
       "      <th>4</th>\n",
       "      <td>2019-04-22 3:09</td>\n",
       "      <td>상품A</td>\n",
       "      <td>NaN</td>\n",
       "      <td>김강현</td>\n",
       "    </tr>\n",
       "    <tr>\n",
       "      <th>...</th>\n",
       "      <td>...</td>\n",
       "      <td>...</td>\n",
       "      <td>...</td>\n",
       "      <td>...</td>\n",
       "    </tr>\n",
       "    <tr>\n",
       "      <th>2994</th>\n",
       "      <td>2019-02-15 2:56</td>\n",
       "      <td>상품Y</td>\n",
       "      <td>2500.0</td>\n",
       "      <td>김정민</td>\n",
       "    </tr>\n",
       "    <tr>\n",
       "      <th>2995</th>\n",
       "      <td>2019-06-22 4:03</td>\n",
       "      <td>상품M</td>\n",
       "      <td>1300.0</td>\n",
       "      <td>김재원</td>\n",
       "    </tr>\n",
       "    <tr>\n",
       "      <th>2996</th>\n",
       "      <td>2019-03-29 11:14</td>\n",
       "      <td>상품Q</td>\n",
       "      <td>NaN</td>\n",
       "      <td>김지율</td>\n",
       "    </tr>\n",
       "    <tr>\n",
       "      <th>2997</th>\n",
       "      <td>2019-07-14 12:56</td>\n",
       "      <td>상품H</td>\n",
       "      <td>NaN</td>\n",
       "      <td>김승주</td>\n",
       "    </tr>\n",
       "    <tr>\n",
       "      <th>2998</th>\n",
       "      <td>2019-07-21 0:31</td>\n",
       "      <td>상품D</td>\n",
       "      <td>400.0</td>\n",
       "      <td>정준기</td>\n",
       "    </tr>\n",
       "  </tbody>\n",
       "</table>\n",
       "<p>2999 rows × 4 columns</p>\n",
       "</div>"
      ],
      "text/plain": [
       "         purchase_date item_name  item_price customer_name\n",
       "0     2019-06-13 18:02       상품A       100.0           김가온\n",
       "1     2019-07-13 13:05       상품S         NaN           김우찬\n",
       "2     2019-05-11 19:42       상품A         NaN           김유찬\n",
       "3     2019-02-12 23:40       상품Z      2600.0           김재현\n",
       "4      2019-04-22 3:09       상품A         NaN           김강현\n",
       "...                ...       ...         ...           ...\n",
       "2994   2019-02-15 2:56       상품Y      2500.0           김정민\n",
       "2995   2019-06-22 4:03       상품M      1300.0           김재원\n",
       "2996  2019-03-29 11:14       상품Q         NaN           김지율\n",
       "2997  2019-07-14 12:56       상품H         NaN           김승주\n",
       "2998   2019-07-21 0:31       상품D       400.0           정준기\n",
       "\n",
       "[2999 rows x 4 columns]"
      ]
     },
     "execution_count": 132,
     "metadata": {},
     "output_type": "execute_result"
    }
   ],
   "source": [
    "class_df_2.change('item_name')"
   ]
  },
  {
   "cell_type": "code",
   "execution_count": 133,
   "metadata": {},
   "outputs": [
    {
     "name": "stdout",
     "output_type": "stream",
     "text": [
      "<class 'pandas.core.frame.DataFrame'>\n",
      "RangeIndex: 2999 entries, 0 to 2998\n",
      "Data columns (total 4 columns):\n",
      " #   Column         Non-Null Count  Dtype         \n",
      "---  ------         --------------  -----         \n",
      " 0   purchase_date  2999 non-null   datetime64[ns]\n",
      " 1   item_name      2999 non-null   object        \n",
      " 2   item_price     2612 non-null   float64       \n",
      " 3   customer_name  2999 non-null   object        \n",
      "dtypes: datetime64[ns](1), float64(1), object(2)\n",
      "memory usage: 93.8+ KB\n"
     ]
    }
   ],
   "source": [
    "class_df_2.time('purchase_date')\n",
    "class_df_2.review().info()"
   ]
  },
  {
   "cell_type": "code",
   "execution_count": 134,
   "metadata": {},
   "outputs": [
    {
     "data": {
      "text/html": [
       "<div>\n",
       "<style scoped>\n",
       "    .dataframe tbody tr th:only-of-type {\n",
       "        vertical-align: middle;\n",
       "    }\n",
       "\n",
       "    .dataframe tbody tr th {\n",
       "        vertical-align: top;\n",
       "    }\n",
       "\n",
       "    .dataframe thead th {\n",
       "        text-align: right;\n",
       "    }\n",
       "</style>\n",
       "<table border=\"1\" class=\"dataframe\">\n",
       "  <thead>\n",
       "    <tr style=\"text-align: right;\">\n",
       "      <th></th>\n",
       "      <th>purchase_date</th>\n",
       "      <th>item_name</th>\n",
       "      <th>item_price</th>\n",
       "      <th>customer_name</th>\n",
       "      <th>Year</th>\n",
       "      <th>month</th>\n",
       "      <th>day</th>\n",
       "    </tr>\n",
       "  </thead>\n",
       "  <tbody>\n",
       "    <tr>\n",
       "      <th>0</th>\n",
       "      <td>2019-06-13 18:02:00</td>\n",
       "      <td>상품A</td>\n",
       "      <td>100.0</td>\n",
       "      <td>김가온</td>\n",
       "      <td>2019</td>\n",
       "      <td>06</td>\n",
       "      <td>13</td>\n",
       "    </tr>\n",
       "    <tr>\n",
       "      <th>1</th>\n",
       "      <td>2019-07-13 13:05:00</td>\n",
       "      <td>상품S</td>\n",
       "      <td>NaN</td>\n",
       "      <td>김우찬</td>\n",
       "      <td>2019</td>\n",
       "      <td>07</td>\n",
       "      <td>13</td>\n",
       "    </tr>\n",
       "    <tr>\n",
       "      <th>2</th>\n",
       "      <td>2019-05-11 19:42:00</td>\n",
       "      <td>상품A</td>\n",
       "      <td>NaN</td>\n",
       "      <td>김유찬</td>\n",
       "      <td>2019</td>\n",
       "      <td>05</td>\n",
       "      <td>11</td>\n",
       "    </tr>\n",
       "    <tr>\n",
       "      <th>3</th>\n",
       "      <td>2019-02-12 23:40:00</td>\n",
       "      <td>상품Z</td>\n",
       "      <td>2600.0</td>\n",
       "      <td>김재현</td>\n",
       "      <td>2019</td>\n",
       "      <td>02</td>\n",
       "      <td>12</td>\n",
       "    </tr>\n",
       "    <tr>\n",
       "      <th>4</th>\n",
       "      <td>2019-04-22 03:09:00</td>\n",
       "      <td>상품A</td>\n",
       "      <td>NaN</td>\n",
       "      <td>김강현</td>\n",
       "      <td>2019</td>\n",
       "      <td>04</td>\n",
       "      <td>22</td>\n",
       "    </tr>\n",
       "    <tr>\n",
       "      <th>...</th>\n",
       "      <td>...</td>\n",
       "      <td>...</td>\n",
       "      <td>...</td>\n",
       "      <td>...</td>\n",
       "      <td>...</td>\n",
       "      <td>...</td>\n",
       "      <td>...</td>\n",
       "    </tr>\n",
       "    <tr>\n",
       "      <th>2994</th>\n",
       "      <td>2019-02-15 02:56:00</td>\n",
       "      <td>상품Y</td>\n",
       "      <td>2500.0</td>\n",
       "      <td>김정민</td>\n",
       "      <td>2019</td>\n",
       "      <td>02</td>\n",
       "      <td>15</td>\n",
       "    </tr>\n",
       "    <tr>\n",
       "      <th>2995</th>\n",
       "      <td>2019-06-22 04:03:00</td>\n",
       "      <td>상품M</td>\n",
       "      <td>1300.0</td>\n",
       "      <td>김재원</td>\n",
       "      <td>2019</td>\n",
       "      <td>06</td>\n",
       "      <td>22</td>\n",
       "    </tr>\n",
       "    <tr>\n",
       "      <th>2996</th>\n",
       "      <td>2019-03-29 11:14:00</td>\n",
       "      <td>상품Q</td>\n",
       "      <td>NaN</td>\n",
       "      <td>김지율</td>\n",
       "      <td>2019</td>\n",
       "      <td>03</td>\n",
       "      <td>29</td>\n",
       "    </tr>\n",
       "    <tr>\n",
       "      <th>2997</th>\n",
       "      <td>2019-07-14 12:56:00</td>\n",
       "      <td>상품H</td>\n",
       "      <td>NaN</td>\n",
       "      <td>김승주</td>\n",
       "      <td>2019</td>\n",
       "      <td>07</td>\n",
       "      <td>14</td>\n",
       "    </tr>\n",
       "    <tr>\n",
       "      <th>2998</th>\n",
       "      <td>2019-07-21 00:31:00</td>\n",
       "      <td>상품D</td>\n",
       "      <td>400.0</td>\n",
       "      <td>정준기</td>\n",
       "      <td>2019</td>\n",
       "      <td>07</td>\n",
       "      <td>21</td>\n",
       "    </tr>\n",
       "  </tbody>\n",
       "</table>\n",
       "<p>2999 rows × 7 columns</p>\n",
       "</div>"
      ],
      "text/plain": [
       "           purchase_date item_name  item_price customer_name  Year month day\n",
       "0    2019-06-13 18:02:00       상품A       100.0           김가온  2019    06  13\n",
       "1    2019-07-13 13:05:00       상품S         NaN           김우찬  2019    07  13\n",
       "2    2019-05-11 19:42:00       상품A         NaN           김유찬  2019    05  11\n",
       "3    2019-02-12 23:40:00       상품Z      2600.0           김재현  2019    02  12\n",
       "4    2019-04-22 03:09:00       상품A         NaN           김강현  2019    04  22\n",
       "...                  ...       ...         ...           ...   ...   ...  ..\n",
       "2994 2019-02-15 02:56:00       상품Y      2500.0           김정민  2019    02  15\n",
       "2995 2019-06-22 04:03:00       상품M      1300.0           김재원  2019    06  22\n",
       "2996 2019-03-29 11:14:00       상품Q         NaN           김지율  2019    03  29\n",
       "2997 2019-07-14 12:56:00       상품H         NaN           김승주  2019    07  14\n",
       "2998 2019-07-21 00:31:00       상품D       400.0           정준기  2019    07  21\n",
       "\n",
       "[2999 rows x 7 columns]"
      ]
     },
     "execution_count": 134,
     "metadata": {},
     "output_type": "execute_result"
    }
   ],
   "source": [
    "class_df_2.new_var(\"purchase_date\")"
   ]
  },
  {
   "cell_type": "code",
   "execution_count": 135,
   "metadata": {},
   "outputs": [],
   "source": [
    "class_df_3 = mod2.Class_df('../data/Sales Records.csv')"
   ]
  },
  {
   "cell_type": "code",
   "execution_count": 142,
   "metadata": {},
   "outputs": [
    {
     "name": "stdout",
     "output_type": "stream",
     "text": [
      "<class 'pandas.core.frame.DataFrame'>\n",
      "RangeIndex: 10000 entries, 0 to 9999\n",
      "Data columns (total 14 columns):\n",
      " #   Column          Non-Null Count  Dtype         \n",
      "---  ------          --------------  -----         \n",
      " 0   Region          10000 non-null  object        \n",
      " 1   Country         10000 non-null  object        \n",
      " 2   Item Type       10000 non-null  object        \n",
      " 3   Sales Channel   10000 non-null  object        \n",
      " 4   Order Priority  10000 non-null  object        \n",
      " 5   Order Date      10000 non-null  datetime64[ns]\n",
      " 6   Order ID        10000 non-null  int64         \n",
      " 7   Ship Date       10000 non-null  object        \n",
      " 8   Units Sold      10000 non-null  int64         \n",
      " 9   Unit Price      10000 non-null  float64       \n",
      " 10  Unit Cost       10000 non-null  float64       \n",
      " 11  Total Revenue   10000 non-null  float64       \n",
      " 12  Total Cost      10000 non-null  float64       \n",
      " 13  Total Profit    10000 non-null  float64       \n",
      "dtypes: datetime64[ns](1), float64(5), int64(2), object(6)\n",
      "memory usage: 1.1+ MB\n"
     ]
    }
   ],
   "source": [
    "class_df_3.review().info()"
   ]
  },
  {
   "cell_type": "code",
   "execution_count": 141,
   "metadata": {},
   "outputs": [
    {
     "data": {
      "text/html": [
       "<div>\n",
       "<style scoped>\n",
       "    .dataframe tbody tr th:only-of-type {\n",
       "        vertical-align: middle;\n",
       "    }\n",
       "\n",
       "    .dataframe tbody tr th {\n",
       "        vertical-align: top;\n",
       "    }\n",
       "\n",
       "    .dataframe thead th {\n",
       "        text-align: right;\n",
       "    }\n",
       "</style>\n",
       "<table border=\"1\" class=\"dataframe\">\n",
       "  <thead>\n",
       "    <tr style=\"text-align: right;\">\n",
       "      <th></th>\n",
       "      <th>Region</th>\n",
       "      <th>Country</th>\n",
       "      <th>Item Type</th>\n",
       "      <th>Sales Channel</th>\n",
       "      <th>Order Priority</th>\n",
       "      <th>Order Date</th>\n",
       "      <th>Order ID</th>\n",
       "      <th>Ship Date</th>\n",
       "      <th>Units Sold</th>\n",
       "      <th>Unit Price</th>\n",
       "      <th>Unit Cost</th>\n",
       "      <th>Total Revenue</th>\n",
       "      <th>Total Cost</th>\n",
       "      <th>Total Profit</th>\n",
       "    </tr>\n",
       "  </thead>\n",
       "  <tbody>\n",
       "    <tr>\n",
       "      <th>0</th>\n",
       "      <td>Sub-Saharan Africa</td>\n",
       "      <td>Chad</td>\n",
       "      <td>Office Supplies</td>\n",
       "      <td>Online</td>\n",
       "      <td>L</td>\n",
       "      <td>2011-01-27</td>\n",
       "      <td>292494523</td>\n",
       "      <td>2/12/2011</td>\n",
       "      <td>4484</td>\n",
       "      <td>651.21</td>\n",
       "      <td>524.96</td>\n",
       "      <td>2920025.64</td>\n",
       "      <td>2353920.64</td>\n",
       "      <td>566105.00</td>\n",
       "    </tr>\n",
       "    <tr>\n",
       "      <th>1</th>\n",
       "      <td>Europe</td>\n",
       "      <td>Latvia</td>\n",
       "      <td>Beverages</td>\n",
       "      <td>Online</td>\n",
       "      <td>C</td>\n",
       "      <td>2015-12-28</td>\n",
       "      <td>361825549</td>\n",
       "      <td>1/23/2016</td>\n",
       "      <td>1075</td>\n",
       "      <td>47.45</td>\n",
       "      <td>31.79</td>\n",
       "      <td>51008.75</td>\n",
       "      <td>34174.25</td>\n",
       "      <td>16834.50</td>\n",
       "    </tr>\n",
       "    <tr>\n",
       "      <th>2</th>\n",
       "      <td>Middle East and North Africa</td>\n",
       "      <td>Pakistan</td>\n",
       "      <td>Vegetables</td>\n",
       "      <td>Offline</td>\n",
       "      <td>C</td>\n",
       "      <td>2011-01-13</td>\n",
       "      <td>141515767</td>\n",
       "      <td>2/1/2011</td>\n",
       "      <td>6515</td>\n",
       "      <td>154.06</td>\n",
       "      <td>90.93</td>\n",
       "      <td>1003700.90</td>\n",
       "      <td>592408.95</td>\n",
       "      <td>411291.95</td>\n",
       "    </tr>\n",
       "    <tr>\n",
       "      <th>3</th>\n",
       "      <td>Sub-Saharan Africa</td>\n",
       "      <td>Democratic Republic of the Congo</td>\n",
       "      <td>Household</td>\n",
       "      <td>Online</td>\n",
       "      <td>C</td>\n",
       "      <td>2012-09-11</td>\n",
       "      <td>500364005</td>\n",
       "      <td>10/6/2012</td>\n",
       "      <td>7683</td>\n",
       "      <td>668.27</td>\n",
       "      <td>502.54</td>\n",
       "      <td>5134318.41</td>\n",
       "      <td>3861014.82</td>\n",
       "      <td>1273303.59</td>\n",
       "    </tr>\n",
       "    <tr>\n",
       "      <th>4</th>\n",
       "      <td>Europe</td>\n",
       "      <td>Czech Republic</td>\n",
       "      <td>Beverages</td>\n",
       "      <td>Online</td>\n",
       "      <td>C</td>\n",
       "      <td>2015-10-27</td>\n",
       "      <td>127481591</td>\n",
       "      <td>12/5/2015</td>\n",
       "      <td>3491</td>\n",
       "      <td>47.45</td>\n",
       "      <td>31.79</td>\n",
       "      <td>165647.95</td>\n",
       "      <td>110978.89</td>\n",
       "      <td>54669.06</td>\n",
       "    </tr>\n",
       "    <tr>\n",
       "      <th>...</th>\n",
       "      <td>...</td>\n",
       "      <td>...</td>\n",
       "      <td>...</td>\n",
       "      <td>...</td>\n",
       "      <td>...</td>\n",
       "      <td>...</td>\n",
       "      <td>...</td>\n",
       "      <td>...</td>\n",
       "      <td>...</td>\n",
       "      <td>...</td>\n",
       "      <td>...</td>\n",
       "      <td>...</td>\n",
       "      <td>...</td>\n",
       "      <td>...</td>\n",
       "    </tr>\n",
       "    <tr>\n",
       "      <th>9995</th>\n",
       "      <td>Asia</td>\n",
       "      <td>Laos</td>\n",
       "      <td>Beverages</td>\n",
       "      <td>Online</td>\n",
       "      <td>H</td>\n",
       "      <td>2014-07-15</td>\n",
       "      <td>199342048</td>\n",
       "      <td>7/31/2014</td>\n",
       "      <td>8597</td>\n",
       "      <td>47.45</td>\n",
       "      <td>31.79</td>\n",
       "      <td>407927.65</td>\n",
       "      <td>273298.63</td>\n",
       "      <td>134629.02</td>\n",
       "    </tr>\n",
       "    <tr>\n",
       "      <th>9996</th>\n",
       "      <td>Europe</td>\n",
       "      <td>Liechtenstein</td>\n",
       "      <td>Cosmetics</td>\n",
       "      <td>Online</td>\n",
       "      <td>C</td>\n",
       "      <td>2012-10-27</td>\n",
       "      <td>763044106</td>\n",
       "      <td>11/1/2012</td>\n",
       "      <td>562</td>\n",
       "      <td>437.20</td>\n",
       "      <td>263.33</td>\n",
       "      <td>245706.40</td>\n",
       "      <td>147991.46</td>\n",
       "      <td>97714.94</td>\n",
       "    </tr>\n",
       "    <tr>\n",
       "      <th>9997</th>\n",
       "      <td>Sub-Saharan Africa</td>\n",
       "      <td>Democratic Republic of the Congo</td>\n",
       "      <td>Vegetables</td>\n",
       "      <td>Offline</td>\n",
       "      <td>M</td>\n",
       "      <td>2013-02-14</td>\n",
       "      <td>848579967</td>\n",
       "      <td>3/20/2013</td>\n",
       "      <td>2524</td>\n",
       "      <td>154.06</td>\n",
       "      <td>90.93</td>\n",
       "      <td>388847.44</td>\n",
       "      <td>229507.32</td>\n",
       "      <td>159340.12</td>\n",
       "    </tr>\n",
       "    <tr>\n",
       "      <th>9998</th>\n",
       "      <td>Sub-Saharan Africa</td>\n",
       "      <td>South Africa</td>\n",
       "      <td>Meat</td>\n",
       "      <td>Online</td>\n",
       "      <td>L</td>\n",
       "      <td>2017-02-19</td>\n",
       "      <td>298185956</td>\n",
       "      <td>2/22/2017</td>\n",
       "      <td>8706</td>\n",
       "      <td>421.89</td>\n",
       "      <td>364.69</td>\n",
       "      <td>3672974.34</td>\n",
       "      <td>3174991.14</td>\n",
       "      <td>497983.20</td>\n",
       "    </tr>\n",
       "    <tr>\n",
       "      <th>9999</th>\n",
       "      <td>Asia</td>\n",
       "      <td>Mongolia</td>\n",
       "      <td>Snacks</td>\n",
       "      <td>Offline</td>\n",
       "      <td>M</td>\n",
       "      <td>2016-04-12</td>\n",
       "      <td>824410903</td>\n",
       "      <td>4/16/2016</td>\n",
       "      <td>361</td>\n",
       "      <td>152.58</td>\n",
       "      <td>97.44</td>\n",
       "      <td>55081.38</td>\n",
       "      <td>35175.84</td>\n",
       "      <td>19905.54</td>\n",
       "    </tr>\n",
       "  </tbody>\n",
       "</table>\n",
       "<p>10000 rows × 14 columns</p>\n",
       "</div>"
      ],
      "text/plain": [
       "                            Region                           Country  \\\n",
       "0               Sub-Saharan Africa                              Chad   \n",
       "1                           Europe                            Latvia   \n",
       "2     Middle East and North Africa                          Pakistan   \n",
       "3               Sub-Saharan Africa  Democratic Republic of the Congo   \n",
       "4                           Europe                    Czech Republic   \n",
       "...                            ...                               ...   \n",
       "9995                          Asia                              Laos   \n",
       "9996                        Europe                     Liechtenstein   \n",
       "9997            Sub-Saharan Africa  Democratic Republic of the Congo   \n",
       "9998            Sub-Saharan Africa                      South Africa   \n",
       "9999                          Asia                          Mongolia   \n",
       "\n",
       "            Item Type Sales Channel Order Priority Order Date   Order ID  \\\n",
       "0     Office Supplies        Online              L 2011-01-27  292494523   \n",
       "1           Beverages        Online              C 2015-12-28  361825549   \n",
       "2          Vegetables       Offline              C 2011-01-13  141515767   \n",
       "3           Household        Online              C 2012-09-11  500364005   \n",
       "4           Beverages        Online              C 2015-10-27  127481591   \n",
       "...               ...           ...            ...        ...        ...   \n",
       "9995        Beverages        Online              H 2014-07-15  199342048   \n",
       "9996        Cosmetics        Online              C 2012-10-27  763044106   \n",
       "9997       Vegetables       Offline              M 2013-02-14  848579967   \n",
       "9998             Meat        Online              L 2017-02-19  298185956   \n",
       "9999           Snacks       Offline              M 2016-04-12  824410903   \n",
       "\n",
       "      Ship Date  Units Sold  Unit Price  Unit Cost  Total Revenue  Total Cost  \\\n",
       "0     2/12/2011        4484      651.21     524.96     2920025.64  2353920.64   \n",
       "1     1/23/2016        1075       47.45      31.79       51008.75    34174.25   \n",
       "2      2/1/2011        6515      154.06      90.93     1003700.90   592408.95   \n",
       "3     10/6/2012        7683      668.27     502.54     5134318.41  3861014.82   \n",
       "4     12/5/2015        3491       47.45      31.79      165647.95   110978.89   \n",
       "...         ...         ...         ...        ...            ...         ...   \n",
       "9995  7/31/2014        8597       47.45      31.79      407927.65   273298.63   \n",
       "9996  11/1/2012         562      437.20     263.33      245706.40   147991.46   \n",
       "9997  3/20/2013        2524      154.06      90.93      388847.44   229507.32   \n",
       "9998  2/22/2017        8706      421.89     364.69     3672974.34  3174991.14   \n",
       "9999  4/16/2016         361      152.58      97.44       55081.38    35175.84   \n",
       "\n",
       "      Total Profit  \n",
       "0        566105.00  \n",
       "1         16834.50  \n",
       "2        411291.95  \n",
       "3       1273303.59  \n",
       "4         54669.06  \n",
       "...            ...  \n",
       "9995     134629.02  \n",
       "9996      97714.94  \n",
       "9997     159340.12  \n",
       "9998     497983.20  \n",
       "9999      19905.54  \n",
       "\n",
       "[10000 rows x 14 columns]"
      ]
     },
     "execution_count": 141,
     "metadata": {},
     "output_type": "execute_result"
    }
   ],
   "source": [
    "class_df_3.time('Order Date')"
   ]
  },
  {
   "cell_type": "code",
   "execution_count": null,
   "metadata": {},
   "outputs": [],
   "source": []
  }
 ],
 "metadata": {
  "kernelspec": {
   "display_name": "Python 3 (ipykernel)",
   "language": "python",
   "name": "python3"
  },
  "language_info": {
   "codemirror_mode": {
    "name": "ipython",
    "version": 3
   },
   "file_extension": ".py",
   "mimetype": "text/x-python",
   "name": "python",
   "nbconvert_exporter": "python",
   "pygments_lexer": "ipython3",
   "version": "3.9.7"
  },
  "toc": {
   "base_numbering": 1,
   "nav_menu": {},
   "number_sections": true,
   "sideBar": true,
   "skip_h1_title": false,
   "title_cell": "Table of Contents",
   "title_sidebar": "Contents",
   "toc_cell": false,
   "toc_position": {},
   "toc_section_display": true,
   "toc_window_display": false
  },
  "varInspector": {
   "cols": {
    "lenName": 16,
    "lenType": 16,
    "lenVar": 40
   },
   "kernels_config": {
    "python": {
     "delete_cmd_postfix": "",
     "delete_cmd_prefix": "del ",
     "library": "var_list.py",
     "varRefreshCmd": "print(var_dic_list())"
    },
    "r": {
     "delete_cmd_postfix": ") ",
     "delete_cmd_prefix": "rm(",
     "library": "var_list.r",
     "varRefreshCmd": "cat(var_dic_list()) "
    }
   },
   "types_to_exclude": [
    "module",
    "function",
    "builtin_function_or_method",
    "instance",
    "_Feature"
   ],
   "window_display": false
  },
  "vscode": {
   "interpreter": {
    "hash": "513b084fbc85d0805816cfbd4092cc59ad95f2adc9d8a36016e84bd053b5d48a"
   }
  }
 },
 "nbformat": 4,
 "nbformat_minor": 2
}

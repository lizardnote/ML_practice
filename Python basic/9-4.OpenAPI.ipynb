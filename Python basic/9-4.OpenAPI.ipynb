{
 "cells": [
  {
   "cell_type": "markdown",
   "metadata": {},
   "source": [
    "## Open API\n",
    "\n",
    "get -> params\n",
    "다른건 -> body에 데이터 저장"
   ]
  },
  {
   "cell_type": "code",
   "execution_count": 7,
   "metadata": {},
   "outputs": [
    {
     "name": "stdout",
     "output_type": "stream",
     "text": [
      "Requirement already satisfied: xmltodict in c:\\users\\chk\\appdata\\local\\programs\\python\\python310\\lib\\site-packages (0.13.0)\n"
     ]
    },
    {
     "name": "stderr",
     "output_type": "stream",
     "text": [
      "\n",
      "[notice] A new release of pip available: 22.2.1 -> 22.2.2\n",
      "[notice] To update, run: python.exe -m pip install --upgrade pip\n"
     ]
    }
   ],
   "source": [
    "#!pip install xmltodict # xml에서 딕셔너리형 데이터로 변경시키기 위한 라이브러리"
   ]
  },
  {
   "cell_type": "code",
   "execution_count": 6,
   "metadata": {},
   "outputs": [
    {
     "name": "stdout",
     "output_type": "stream",
     "text": [
      "Collecting requests\n",
      "  Downloading requests-2.28.1-py3-none-any.whl (62 kB)\n",
      "     ---------------------------------------- 62.8/62.8 kB 3.3 MB/s eta 0:00:00\n",
      "Collecting idna<4,>=2.5\n",
      "  Downloading idna-3.3-py3-none-any.whl (61 kB)\n",
      "     ---------------------------------------- 61.2/61.2 kB ? eta 0:00:00\n",
      "Collecting certifi>=2017.4.17\n",
      "  Downloading certifi-2022.6.15-py3-none-any.whl (160 kB)\n",
      "     -------------------------------------- 160.2/160.2 kB 4.7 MB/s eta 0:00:00\n",
      "Collecting charset-normalizer<3,>=2\n",
      "  Downloading charset_normalizer-2.1.1-py3-none-any.whl (39 kB)\n",
      "Collecting urllib3<1.27,>=1.21.1\n",
      "  Downloading urllib3-1.26.12-py2.py3-none-any.whl (140 kB)\n",
      "     -------------------------------------- 140.4/140.4 kB 4.2 MB/s eta 0:00:00\n",
      "Installing collected packages: urllib3, idna, charset-normalizer, certifi, requests\n",
      "Successfully installed certifi-2022.6.15 charset-normalizer-2.1.1 idna-3.3 requests-2.28.1 urllib3-1.26.12\n"
     ]
    },
    {
     "name": "stderr",
     "output_type": "stream",
     "text": [
      "\n",
      "[notice] A new release of pip available: 22.2.1 -> 22.2.2\n",
      "[notice] To update, run: python.exe -m pip install --upgrade pip\n"
     ]
    }
   ],
   "source": [
    "#!pip install requests  ##open API 받아오기 위한 라이브러리"
   ]
  },
  {
   "cell_type": "code",
   "execution_count": 8,
   "metadata": {},
   "outputs": [],
   "source": [
    "import requests\n",
    "from urllib import parse\n",
    "import xmltodict\n",
    "import json\n",
    "import pandas as pd "
   ]
  },
  {
   "cell_type": "code",
   "execution_count": 18,
   "metadata": {},
   "outputs": [],
   "source": [
    "url =  \"http://openapi.data.go.kr/openapi/service/rest/Covid19/getCovid19InfStateJson\"\n",
    "\n",
    "service_key = \"dtbWOdJ%2FCz5HE0DGLU%2BCRPe7pOW0NIQBUcGEqsHZaTRiYCI%2F5%2BzugwzQjcvuId7NPdg6rUiW%2Bft3fm7yqyD4pw%3D%3D\"\n",
    "\n",
    "param = {\n",
    "    'serviceKey' : parse.unquote(service_key),\n",
    "    'pageNo' : '1',\n",
    "    'numOfRows' : '3000',\n",
    "    'startCreateDt' : '20200310',\n",
    "    'endCreateDt': '20220831'\n",
    "}\n",
    "\n",
    "#requests 라이브러리를 이용해서 오픈 api에서 데이터 가져오는 부분(서버와 실제 통신하는 부분)\n",
    "#데이터 형태는 xml형태로 return\n",
    "response = requests.get(url, params=param)\n",
    "\n",
    "#데이터 xml -> dict 형태로 변환\n",
    "result = xmltodict.parse(response.content)"
   ]
  },
  {
   "cell_type": "code",
   "execution_count": null,
   "metadata": {},
   "outputs": [],
   "source": [
    "print(result)"
   ]
  },
  {
   "cell_type": "code",
   "execution_count": null,
   "metadata": {},
   "outputs": [],
   "source": [
    "rows = result[\"response\"][\"body\"][\"items\"][\"item\"]\n",
    "print(rows)"
   ]
  },
  {
   "cell_type": "code",
   "execution_count": 24,
   "metadata": {},
   "outputs": [
    {
     "data": {
      "text/html": [
       "<div>\n",
       "<style scoped>\n",
       "    .dataframe tbody tr th:only-of-type {\n",
       "        vertical-align: middle;\n",
       "    }\n",
       "\n",
       "    .dataframe tbody tr th {\n",
       "        vertical-align: top;\n",
       "    }\n",
       "\n",
       "    .dataframe thead th {\n",
       "        text-align: right;\n",
       "    }\n",
       "</style>\n",
       "<table border=\"1\" class=\"dataframe\">\n",
       "  <thead>\n",
       "    <tr style=\"text-align: right;\">\n",
       "      <th></th>\n",
       "      <th>createDt</th>\n",
       "      <th>deathCnt</th>\n",
       "      <th>decideCnt</th>\n",
       "      <th>seq</th>\n",
       "      <th>stateDt</th>\n",
       "      <th>stateTime</th>\n",
       "      <th>updateDt</th>\n",
       "      <th>accExamCnt</th>\n",
       "      <th>accDefRate</th>\n",
       "    </tr>\n",
       "  </thead>\n",
       "  <tbody>\n",
       "    <tr>\n",
       "      <th>0</th>\n",
       "      <td>2022-08-31 08:15:32.74</td>\n",
       "      <td>26764</td>\n",
       "      <td>23246398</td>\n",
       "      <td>991</td>\n",
       "      <td>20220831</td>\n",
       "      <td>00:00</td>\n",
       "      <td>null</td>\n",
       "      <td>NaN</td>\n",
       "      <td>NaN</td>\n",
       "    </tr>\n",
       "    <tr>\n",
       "      <th>1</th>\n",
       "      <td>2022-08-30 08:07:00.006</td>\n",
       "      <td>26689</td>\n",
       "      <td>23142437</td>\n",
       "      <td>990</td>\n",
       "      <td>20220830</td>\n",
       "      <td>00:00</td>\n",
       "      <td>2022-08-31 08:15:57.022</td>\n",
       "      <td>NaN</td>\n",
       "      <td>NaN</td>\n",
       "    </tr>\n",
       "    <tr>\n",
       "      <th>2</th>\n",
       "      <td>2022-08-29 09:04:40.552</td>\n",
       "      <td>26618</td>\n",
       "      <td>23026799</td>\n",
       "      <td>989</td>\n",
       "      <td>20220829</td>\n",
       "      <td>00:00</td>\n",
       "      <td>2022-08-31 08:16:12.99</td>\n",
       "      <td>NaN</td>\n",
       "      <td>NaN</td>\n",
       "    </tr>\n",
       "    <tr>\n",
       "      <th>3</th>\n",
       "      <td>2022-08-28 09:23:20.921</td>\n",
       "      <td>26569</td>\n",
       "      <td>22983674</td>\n",
       "      <td>988</td>\n",
       "      <td>20220828</td>\n",
       "      <td>00:00</td>\n",
       "      <td>2022-08-31 08:16:27.935</td>\n",
       "      <td>NaN</td>\n",
       "      <td>NaN</td>\n",
       "    </tr>\n",
       "    <tr>\n",
       "      <th>4</th>\n",
       "      <td>2022-08-27 09:10:24.672</td>\n",
       "      <td>26499</td>\n",
       "      <td>22898425</td>\n",
       "      <td>987</td>\n",
       "      <td>20220827</td>\n",
       "      <td>00:00</td>\n",
       "      <td>2022-08-31 08:16:52.428</td>\n",
       "      <td>NaN</td>\n",
       "      <td>NaN</td>\n",
       "    </tr>\n",
       "    <tr>\n",
       "      <th>...</th>\n",
       "      <td>...</td>\n",
       "      <td>...</td>\n",
       "      <td>...</td>\n",
       "      <td>...</td>\n",
       "      <td>...</td>\n",
       "      <td>...</td>\n",
       "      <td>...</td>\n",
       "      <td>...</td>\n",
       "      <td>...</td>\n",
       "    </tr>\n",
       "    <tr>\n",
       "      <th>898</th>\n",
       "      <td>2020-03-14 00:00:00.000</td>\n",
       "      <td>72</td>\n",
       "      <td>8086</td>\n",
       "      <td>55</td>\n",
       "      <td>20200314</td>\n",
       "      <td>00:00</td>\n",
       "      <td>2021-10-07 10:30:51.51</td>\n",
       "      <td>261335</td>\n",
       "      <td>3.318000336</td>\n",
       "    </tr>\n",
       "    <tr>\n",
       "      <th>899</th>\n",
       "      <td>2020-03-13 00:00:00.000</td>\n",
       "      <td>67</td>\n",
       "      <td>7979</td>\n",
       "      <td>54</td>\n",
       "      <td>20200313</td>\n",
       "      <td>00:00</td>\n",
       "      <td>2021-10-07 10:30:51.51</td>\n",
       "      <td>248647</td>\n",
       "      <td>3.458499309</td>\n",
       "    </tr>\n",
       "    <tr>\n",
       "      <th>900</th>\n",
       "      <td>2020-03-12 00:00:00.000</td>\n",
       "      <td>66</td>\n",
       "      <td>7869</td>\n",
       "      <td>53</td>\n",
       "      <td>20200312</td>\n",
       "      <td>00:00</td>\n",
       "      <td>2021-10-07 10:30:51.51</td>\n",
       "      <td>234998</td>\n",
       "      <td>3.621744273</td>\n",
       "    </tr>\n",
       "    <tr>\n",
       "      <th>901</th>\n",
       "      <td>2020-03-11 00:00:00.000</td>\n",
       "      <td>60</td>\n",
       "      <td>7755</td>\n",
       "      <td>52</td>\n",
       "      <td>20200311</td>\n",
       "      <td>00:00</td>\n",
       "      <td>2021-10-07 10:30:51.51</td>\n",
       "      <td>222395</td>\n",
       "      <td>3.804174536</td>\n",
       "    </tr>\n",
       "    <tr>\n",
       "      <th>902</th>\n",
       "      <td>2020-03-10 00:00:00.000</td>\n",
       "      <td>54</td>\n",
       "      <td>7513</td>\n",
       "      <td>51</td>\n",
       "      <td>20200310</td>\n",
       "      <td>00:00</td>\n",
       "      <td>2021-10-07 10:30:51.51</td>\n",
       "      <td>210144</td>\n",
       "      <td>3.919308057</td>\n",
       "    </tr>\n",
       "  </tbody>\n",
       "</table>\n",
       "<p>903 rows × 9 columns</p>\n",
       "</div>"
      ],
      "text/plain": [
       "                    createDt deathCnt decideCnt  seq   stateDt stateTime  \\\n",
       "0     2022-08-31 08:15:32.74    26764  23246398  991  20220831     00:00   \n",
       "1    2022-08-30 08:07:00.006    26689  23142437  990  20220830     00:00   \n",
       "2    2022-08-29 09:04:40.552    26618  23026799  989  20220829     00:00   \n",
       "3    2022-08-28 09:23:20.921    26569  22983674  988  20220828     00:00   \n",
       "4    2022-08-27 09:10:24.672    26499  22898425  987  20220827     00:00   \n",
       "..                       ...      ...       ...  ...       ...       ...   \n",
       "898  2020-03-14 00:00:00.000       72      8086   55  20200314     00:00   \n",
       "899  2020-03-13 00:00:00.000       67      7979   54  20200313     00:00   \n",
       "900  2020-03-12 00:00:00.000       66      7869   53  20200312     00:00   \n",
       "901  2020-03-11 00:00:00.000       60      7755   52  20200311     00:00   \n",
       "902  2020-03-10 00:00:00.000       54      7513   51  20200310     00:00   \n",
       "\n",
       "                    updateDt accExamCnt   accDefRate  \n",
       "0                       null        NaN          NaN  \n",
       "1    2022-08-31 08:15:57.022        NaN          NaN  \n",
       "2     2022-08-31 08:16:12.99        NaN          NaN  \n",
       "3    2022-08-31 08:16:27.935        NaN          NaN  \n",
       "4    2022-08-31 08:16:52.428        NaN          NaN  \n",
       "..                       ...        ...          ...  \n",
       "898   2021-10-07 10:30:51.51     261335  3.318000336  \n",
       "899   2021-10-07 10:30:51.51     248647  3.458499309  \n",
       "900   2021-10-07 10:30:51.51     234998  3.621744273  \n",
       "901   2021-10-07 10:30:51.51     222395  3.804174536  \n",
       "902   2021-10-07 10:30:51.51     210144  3.919308057  \n",
       "\n",
       "[903 rows x 9 columns]"
      ]
     },
     "execution_count": 24,
     "metadata": {},
     "output_type": "execute_result"
    }
   ],
   "source": [
    "corona_df = pd.DataFrame(rows)\n",
    "corona_df"
   ]
  },
  {
   "cell_type": "code",
   "execution_count": 25,
   "metadata": {},
   "outputs": [],
   "source": [
    "# csv 파일로 저장하기\n",
    "corona_df.to_csv('corona.csv', encoding='UTF-8')"
   ]
  },
  {
   "cell_type": "code",
   "execution_count": null,
   "metadata": {},
   "outputs": [],
   "source": []
  }
 ],
 "metadata": {
  "kernelspec": {
   "display_name": "Python 3.10.6 64-bit",
   "language": "python",
   "name": "python3"
  },
  "language_info": {
   "codemirror_mode": {
    "name": "ipython",
    "version": 3
   },
   "file_extension": ".py",
   "mimetype": "text/x-python",
   "name": "python",
   "nbconvert_exporter": "python",
   "pygments_lexer": "ipython3",
   "version": "3.10.6"
  },
  "orig_nbformat": 4,
  "vscode": {
   "interpreter": {
    "hash": "513b084fbc85d0805816cfbd4092cc59ad95f2adc9d8a36016e84bd053b5d48a"
   }
  }
 },
 "nbformat": 4,
 "nbformat_minor": 2
}

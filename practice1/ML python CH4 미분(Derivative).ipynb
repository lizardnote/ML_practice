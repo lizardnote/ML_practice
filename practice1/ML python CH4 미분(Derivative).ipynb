{
 "cells": [
  {
   "cell_type": "markdown",
   "id": "0e17e54c",
   "metadata": {},
   "source": [
    "## CH4. 미분(Derivative)\n",
    "- 4.1 미분 개념과 인사이트\n",
    "- 4.2 편미분\n",
    "- 4.3 체인 룰\n",
    "- 4.4 수치 미분\n",
    "- 4.5 정리"
   ]
  },
  {
   "cell_type": "markdown",
   "id": "8eb6df82",
   "metadata": {},
   "source": [
    "### 4.1 미분 개념과 인사이트"
   ]
  },
  {
   "cell_type": "markdown",
   "id": "b35817ff",
   "metadata": {},
   "source": [
    "### 4.2 편미분\n",
    "입력 변수가 2개 이상인 다변수 함수에서 미분하고자 하는 변수 1개를 제외한 나머지 변수들을 상수로 취급하고,<br>\n",
    "특정한 한 변수에 대해서만 미분하는 것"
   ]
  },
  {
   "cell_type": "markdown",
   "id": "a1310004",
   "metadata": {},
   "source": [
    "### 4.3 체인 룰(Chain Rule)\n",
    "\n",
    "합성함수를 미분하기 위해 사용하는 방식이다. (합성함수: 여러 개의 함수로 구성된 함수를 말한다.)\n",
    "- 체인 룰은 오차역전판(Back Propagation)을 구현할 때 반드시 필요한 기법이므로 익숙해져야 한다."
   ]
  },
  {
   "cell_type": "markdown",
   "id": "1b53f0f4",
   "metadata": {},
   "source": [
    "### 4.4 수치미분(Numerical Derivative)\n",
    "\n",
    "프로그래밍 언어를 이용하여 미분 값, 입력 값이 아주 미세하게 변할 때 함수 f는 얼마나 변하는지 계산하는 것을 말한다.\n",
    "\n",
    "#### 4.4.1 변수 1개인 함수의 수치미분"
   ]
  },
  {
   "cell_type": "code",
   "execution_count": 1,
   "id": "ab45c3b8",
   "metadata": {},
   "outputs": [
    {
     "name": "stdout",
     "output_type": "stream",
     "text": [
      "6.000000000039306\n"
     ]
    }
   ],
   "source": [
    "#예제 4.1 함수 f(x)=x**2 미분계수 f'(3.0)계산\n",
    "\n",
    "import numpy as np\n",
    "\n",
    "#미분 공식 구현\n",
    "def simple_derivative(f, var):  # f는 외부에서 lambda로 정의\n",
    "    delta = 1e-5                # 극한 구현\n",
    "    \n",
    "    diff_val = ( f(var+delta) - f(var-delta) ) / (2*delta)  # 미분값 계산\n",
    "    \n",
    "    return diff_val\n",
    "\n",
    "#미분 대상 함수\n",
    "def func1(x):\n",
    "    return x**2\n",
    "\n",
    "#람다 함수를 이용해 함수 f로 정의\n",
    "f = lambda x : func1(x)\n",
    "ret_val = simple_derivative(f, 3.0)\n",
    "print(ret_val)"
   ]
  },
  {
   "cell_type": "markdown",
   "id": "bd29d299",
   "metadata": {},
   "source": [
    "프로그래밍 언어에서 너무 작은 값을 이용할 경우 0으로 인식하기 때문에 10의 -5승 정도 수를 사용해 극한 표현한다. <br>\n"
   ]
  },
  {
   "cell_type": "markdown",
   "id": "333fee65",
   "metadata": {},
   "source": [
    "#### 4.4.2 다변수 함수의 수치미분\n",
    "\n",
    "- 입력 변수가 2개 이상인 다변수 함수의 경우, <br>\n",
    "  각각의 입력 변수는 서로 독립적이기 때문에 수치 미분 또한 각각의 변수만큼 개별적으로 계산한다."
   ]
  },
  {
   "cell_type": "code",
   "execution_count": 2,
   "id": "ef007a42",
   "metadata": {},
   "outputs": [],
   "source": [
    "#4.2 다변수 함수에 대한 수치 미분 코드\n",
    "\n",
    "import numpy as np\n",
    "\n",
    "def derivative(f, var):\n",
    "    \n",
    "    if var.ndim == 1:\n",
    "        temp_var = var\n",
    "        delta = 1e-5\n",
    "        diff_val = np.zeros(var.shape)\n",
    "        \n",
    "        for index in range(len(var)):\n",
    "            target_var = float(temp_var[index])\n",
    "            temp_var[index] = target_var + delta\n",
    "            func_val_plust_delta = f(temp_var)\n",
    "            \n",
    "            temp_var[index] = target_var - delta\n",
    "            func_val_minus_delta = f(temp_var)\n",
    "            \n",
    "            diff_val[index] = (func_val_plust_delta - func_val_minus_delta) / (2*delta)\n",
    "            temp_var[index] = target_var\n",
    "            \n",
    "        return diff_var\n",
    "    \n",
    "    elif var.ndim == 2:\n",
    "        temp_var = var\n",
    "        delta = 1e-5\n",
    "        diff_val = np.zeros(var.shape)\n",
    "        \n",
    "        rows = var.shape[0]\n",
    "        columns = var.shape[1]\n",
    "        \n",
    "        for row in range(rows):\n",
    "            for column in range(columns):\n",
    "                target_var = float(temp_var[row, column])\n",
    "                \n",
    "                temp_var[row,column] = target_var + delta\n",
    "                func_val_plus_delta = f(temp_var)\n",
    "                \n",
    "                temp_var[row,column] = target_var - delta\n",
    "                func_val_minus_delta = f(temp_var)\n",
    "                \n",
    "                diff_val[row,column] = (func_val_plus_delta -func_val_minus_delta) / (2*delta)\n",
    "                temp_var[row, column] = target_var\n",
    "                \n",
    "                \n",
    "    return diff_val"
   ]
  }
 ],
 "metadata": {
  "kernelspec": {
   "display_name": "Python 3 (ipykernel)",
   "language": "python",
   "name": "python3"
  },
  "language_info": {
   "codemirror_mode": {
    "name": "ipython",
    "version": 3
   },
   "file_extension": ".py",
   "mimetype": "text/x-python",
   "name": "python",
   "nbconvert_exporter": "python",
   "pygments_lexer": "ipython3",
   "version": "3.9.7"
  }
 },
 "nbformat": 4,
 "nbformat_minor": 5
}

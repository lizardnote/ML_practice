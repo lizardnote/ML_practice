{
 "cells": [
  {
   "cell_type": "markdown",
   "id": "90efd64e",
   "metadata": {},
   "source": [
    "## ch2. 파이썬\n",
    "\n",
    "* 2.2 파이썬 데이터 타입\n",
    "* 2.3 파이썬 조건문 if\n",
    "* 2.4 파이썬 for 반복문\n",
    "* 2.5 List comprehension\n",
    "* 2.6 파이썬 function\n",
    "* 2.7 파이썬 class"
   ]
  },
  {
   "cell_type": "markdown",
   "id": "9c4ab6e7",
   "metadata": {},
   "source": [
    "### 2.2 파이썬 데이터 타입\n",
    "#### 2.2.1 리스트"
   ]
  },
  {
   "cell_type": "code",
   "execution_count": 4,
   "id": "24d521fe",
   "metadata": {},
   "outputs": [
    {
     "name": "stdout",
     "output_type": "stream",
     "text": [
      "10 20 30 40 50\n",
      "50 40 30 20 10\n"
     ]
    }
   ],
   "source": [
    "#list 데이터 참조\n",
    "\n",
    "a=[10,20,30,40,50]\n",
    "print(a[0], a[1], a[2], a[3], a[4])\n",
    "print(a[-1], a[-2], a[-3], a[-4], a[-5])"
   ]
  },
  {
   "cell_type": "code",
   "execution_count": 6,
   "id": "675a95e1",
   "metadata": {},
   "outputs": [
    {
     "name": "stdout",
     "output_type": "stream",
     "text": [
      "b=  [10, 100, 'a', 'b']\n"
     ]
    }
   ],
   "source": [
    "# list append() method 사용\n",
    "\n",
    "b=[]\n",
    "b.append(10), b.append(100), b.append(\"a\"), b.append('b')\n",
    "print('b= ', b)"
   ]
  },
  {
   "cell_type": "code",
   "execution_count": 7,
   "id": "a4513f7c",
   "metadata": {},
   "outputs": [
    {
     "name": "stdout",
     "output_type": "stream",
     "text": [
      "[1, 2] [2, 3, 4, 5]\n",
      "[1, 2, 3] [1, 2, 3]\n",
      "[1, 2, 3, 4, 5]\n"
     ]
    }
   ],
   "source": [
    "#list slice 기능\n",
    "\n",
    "c=[1,2,3,4,5]\n",
    "print(c[0:2], c[1:])\n",
    "print(c[:3], c[:-2])\n",
    "print(c[:])\n"
   ]
  },
  {
   "cell_type": "markdown",
   "id": "ee264231",
   "metadata": {},
   "source": [
    "#### 2.2.2 튜플(Tuple)\n",
    "* 초기 데이터를 변경할 수 없는 읽기 전용 데이터\n",
    "* 소괄호로 묶어서 생성한다"
   ]
  },
  {
   "cell_type": "code",
   "execution_count": 8,
   "id": "948597a3",
   "metadata": {},
   "outputs": [
    {
     "name": "stdout",
     "output_type": "stream",
     "text": [
      "1 4 (1, 2) (2, 3, 4, 5) (1, 2, 3, 4, 5)\n"
     ]
    }
   ],
   "source": [
    "# 튜플 인덱스 및 슬라이스\n",
    "\n",
    "a=(1,2,3,4,5)\n",
    "print(a[0], a[-2], a[0:2], a[1:], a[:])"
   ]
  },
  {
   "cell_type": "markdown",
   "id": "6755d844",
   "metadata": {},
   "source": [
    "#### 2.2.3 딕셔너리\n",
    "* Hash/ Map 타입과 비슷한 구조\n",
    "* Key-Value를 한 쌍으로 묶어 데이터 저장"
   ]
  },
  {
   "cell_type": "code",
   "execution_count": 11,
   "id": "9f9c672b",
   "metadata": {},
   "outputs": [
    {
     "name": "stdout",
     "output_type": "stream",
     "text": [
      "{'Kim': 90, 'Lee': 80, 'Jun': 70}\n",
      "score['KIM'] =  90\n"
     ]
    }
   ],
   "source": [
    "# 딕셔너리 데이터 생성\n",
    "\n",
    "score={'Kim':90, 'Lee':80, 'Jun': 70}\n",
    "print(score)\n",
    "print(\"score['KIM'] = \", score['Kim'])"
   ]
  },
  {
   "cell_type": "code",
   "execution_count": 12,
   "id": "83f1e646",
   "metadata": {},
   "outputs": [
    {
     "name": "stdout",
     "output_type": "stream",
     "text": [
      "dict_keys(['Kim', 'Lee', 'Jun'])\n",
      "dict_values([90, 80, 70])\n",
      "dict_items([('Kim', 90), ('Lee', 80), ('Jun', 70)])\n"
     ]
    }
   ],
   "source": [
    "#딕셔너리 타입 메서드\n",
    "\n",
    "print(score.keys())\n",
    "print(score.values())\n",
    "print(score.items())\n"
   ]
  },
  {
   "cell_type": "markdown",
   "id": "6c896f13",
   "metadata": {},
   "source": [
    "#### 2.2.4 type(), len() 함수\n",
    "* 머신러닝에서는 학습 데이터의 타입을 확인해 적합한 데이터 타입으로 변환해야 한다."
   ]
  },
  {
   "cell_type": "code",
   "execution_count": 14,
   "id": "1fc0cb71",
   "metadata": {},
   "outputs": [
    {
     "name": "stdout",
     "output_type": "stream",
     "text": [
      "<class 'list'> <class 'tuple'> <class 'dict'> <class 'list'>\n",
      "5 5 2 3\n"
     ]
    }
   ],
   "source": [
    "#  type(), len()\n",
    "a=[10,20,30,40,50] #list\n",
    "b=(10,20,30,40,50) #tuple\n",
    "c={'KIM':90, 'LEE':80} #dictionary\n",
    "d=[[100,200], [300,400], [500,600]] #list\n",
    "\n",
    "print(type(a), type(b), type(c), type(d))\n",
    "print(len(a),len(b),len(c),len(d))"
   ]
  },
  {
   "cell_type": "markdown",
   "id": "627d3f8e",
   "metadata": {},
   "source": [
    "### 2.3 파이썬 조건문 IF\n",
    "* if 조건식으로 작성한 뒤 콜론(:) 으로 마무리한다.\n",
    "* if 문에서 in 키워드는 조건식에 있는 데이터가 in 다음에 나오는 데이터 타입에 해당하는지를 나타낸다."
   ]
  },
  {
   "cell_type": "code",
   "execution_count": 17,
   "id": "7a997b0f",
   "metadata": {},
   "outputs": [
    {
     "name": "stdout",
     "output_type": "stream",
     "text": [
      "a == 1\n",
      "positive number\n"
     ]
    }
   ],
   "source": [
    "# 예제 2.9\n",
    "# 파이썬 조건문 if 사용법 1\n",
    "\n",
    "a=1\n",
    "if a > 0:\n",
    "    print(\"a ==\", a)\n",
    "    print(\"positive number\")\n",
    "elif a==0:\n",
    "    print(\"a ==\", a)\n",
    "    print(\"zero\")\n",
    "else:\n",
    "    prnt(\"a ==\", a)\n",
    "    print(\"negative number\")\n"
   ]
  },
  {
   "cell_type": "code",
   "execution_count": 19,
   "id": "70682fe3",
   "metadata": {},
   "outputs": [
    {
     "name": "stdout",
     "output_type": "stream",
     "text": [
      "45 is not in list_data\n",
      "key1 is in dict_data\n"
     ]
    }
   ],
   "source": [
    "#파이썬 조건문 if 사용법 2\n",
    "\n",
    "list_data=[10,20,30,40,50]\n",
    "dict_data={ 'key1': 1, 'key2': 2}\n",
    "\n",
    "if 45 in list_data:\n",
    "    print(\"45 is in list_data\")\n",
    "else:\n",
    "    print(\"45 is not in list_data\")\n",
    "    \n",
    "if 'key1' in dict_data:\n",
    "    print(\"key1 is in dict_data\")\n",
    "else:\n",
    "    print(\"key1 is not in dict_data\")    "
   ]
  },
  {
   "cell_type": "markdown",
   "id": "3bda6401",
   "metadata": {},
   "source": [
    "### 2.4 파이썬 for 반복문\n",
    "* 두 가지 형식으로 나타낼 수 있음\n",
    "    * in range(...) :  시작 값 ~ 마지막 값-1\n",
    "    * for 문에서 in 다음에 list/dictionary등의 데이터 타입으로 표시하는 방법"
   ]
  },
  {
   "cell_type": "code",
   "execution_count": 27,
   "id": "a9730649",
   "metadata": {},
   "outputs": [
    {
     "name": "stdout",
     "output_type": "stream",
     "text": [
      "0  1  2  3  4  5  6  7  8  9  \n",
      "0  1  2  3  4  5  6  7  8  9  \n",
      "0  2  4  6  8  "
     ]
    }
   ],
   "source": [
    "#2.11 for반복문 사용법1\n",
    "\n",
    "for data in range(10):\n",
    "    print(data, \" \", end='') #줄바꿈 없음\n",
    "print(sep='\\n')              #줄바꿈 실행\n",
    "\n",
    "for data in range(0,10):\n",
    "    print(data, \" \", end='')\n",
    "print(sep='\\n')\n",
    "\n",
    "for data in range(0,10,2):\n",
    "    print(data, \" \", end='')"
   ]
  },
  {
   "cell_type": "code",
   "execution_count": 33,
   "id": "84985560",
   "metadata": {},
   "outputs": [
    {
     "name": "stdout",
     "output_type": "stream",
     "text": [
      "10  20  30  40  50  \n",
      "key1  key2  \n",
      "key1   1\n",
      "key2   2\n"
     ]
    }
   ],
   "source": [
    "#2.12 for반복문 사용법2\n",
    "list_data=[10,20,30,40,50]\n",
    "for data in list_data: print(data, \" \", end='')\n",
    "print(sep='\\n')\n",
    "\n",
    "dict_data={'key1':1, 'key2' :2}\n",
    "\n",
    "for data in dict_data : #key 값만 반복 변수에 들어감\n",
    "    print(data, \" \",end='') \n",
    "print(sep='\\n')\n",
    "for key, value in dict_data.items():  #items() 메서드를 활용하면 키,밸류 모든 값이 반복 변수에 들어간다.\n",
    "    print(key, \" \", value) "
   ]
  },
  {
   "cell_type": "markdown",
   "id": "1fe5dbd0",
   "metadata": {},
   "source": [
    "### 2.5 List Comprehension\n",
    "* 리스트 변수 내부에 for문을 이용하여 데이터를 만드는 방법\n",
    "* 머신러닝에서 데이터 조작하고 원하는 형식으로 만들어 내기 위해 자주 사용한다.\n"
   ]
  },
  {
   "cell_type": "code",
   "execution_count": 35,
   "id": "de5838bc",
   "metadata": {},
   "outputs": [
    {
     "name": "stdout",
     "output_type": "stream",
     "text": [
      "[0, 1, 4, 9, 16]\n"
     ]
    }
   ],
   "source": [
    "#예제 2.13 \n",
    "# List Comprehension 사용법\n",
    "\n",
    "list_data=[ x**2 for x in range(5)]\n",
    "print(list_data)"
   ]
  },
  {
   "cell_type": "code",
   "execution_count": 37,
   "id": "b216f842",
   "metadata": {},
   "outputs": [
    {
     "name": "stdout",
     "output_type": "stream",
     "text": [
      "all data= [[1, 10], [2, 15], [3, 30], [4, 55]]\n",
      "x_data= [1, 2, 3, 4]\n",
      "y_data= [10, 15, 30, 55]\n",
      "[2, 15] [3, 30] [4, 55]\n"
     ]
    }
   ],
   "source": [
    "raw_data = [[1,10],[2,15],[3,30],[4,55]]\n",
    "\n",
    "all_data=[x for x in raw_data]\n",
    "x_data=[x[0] for x in raw_data]\n",
    "y_data=[x[1] for x in raw_data]\n",
    "\n",
    "print(\"all data=\", all_data)\n",
    "print(\"x_data=\", x_data)\n",
    "print(\"y_data=\", y_data)\n",
    "print(raw_data[1], raw_data[2], raw_data[3])"
   ]
  },
  {
   "cell_type": "markdown",
   "id": "e5e30eac",
   "metadata": {},
   "source": [
    "### 2.6 파이썬 함수 function"
   ]
  },
  {
   "cell_type": "markdown",
   "id": "a187df33",
   "metadata": {},
   "source": [
    "#### 2.6.1 함수 정의와 리턴 값"
   ]
  },
  {
   "cell_type": "code",
   "execution_count": 39,
   "id": "5eddff52",
   "metadata": {},
   "outputs": [
    {
     "name": "stdout",
     "output_type": "stream",
     "text": [
      "30\n"
     ]
    }
   ],
   "source": [
    "#2.14 파이썬 함수 정의, 사용법\n",
    "\n",
    "def sum(x,y):\n",
    "    s = x + y \n",
    "    return s\n",
    "\n",
    "result = sum(10,20)\n",
    "print(result)"
   ]
  },
  {
   "cell_type": "code",
   "execution_count": 40,
   "id": "ec09bfee",
   "metadata": {},
   "outputs": [
    {
     "name": "stdout",
     "output_type": "stream",
     "text": [
      "101 102 103\n"
     ]
    }
   ],
   "source": [
    "#2.15 1개 이상의 값을 리턴하는 함수 정의, 사용법\n",
    "\n",
    "def multi_ret_func(x):\n",
    "    return x+1, x+2, x+3\n",
    "\n",
    "x=100\n",
    "y1,y2,y3 = multi_ret_func(x)\n",
    "print(y1,y2,y3)"
   ]
  },
  {
   "cell_type": "markdown",
   "id": "de5e8af7",
   "metadata": {},
   "source": [
    "#### 2.6.2 디폴트 파라미터(Default Parameter)\n",
    "* 함수가 호출되었을 경우 입력 파라미터에 명시적인 값이 없으면 기본 값을 사용한다"
   ]
  },
  {
   "cell_type": "code",
   "execution_count": 41,
   "id": "80ff9493",
   "metadata": {},
   "outputs": [
    {
     "name": "stdout",
     "output_type": "stream",
     "text": [
      "name ==  DAVE\n",
      "name ==  DAVE\n"
     ]
    }
   ],
   "source": [
    "#2.16 디폴트 파라미터 정의, 사용법\n",
    "\n",
    "def print_name(name, count=2): #count는 디폴트 파라미터로 설정\n",
    "    for i in range(count):\n",
    "        print(\"name == \", name)\n",
    "print_name(\"DAVE\")"
   ]
  },
  {
   "cell_type": "markdown",
   "id": "3017defa",
   "metadata": {},
   "source": [
    "#### 2.6.3 mutable, immutable 파라미터\n",
    "* mutable : 입력 파라미터로 들어간 변수의 원본 값을 함수 내에서 바꿀 수 있음\n",
    "    * mutable type : 리스트, 딕셔너리, 넘파이 등\n",
    "* immutable : 입력 파라미터로 들어간 변수의 원본 값이 함수 내에서 바뀌지 않는 데이터 타입을 말함\n",
    "    * immutable type : 숫자, 문자, 튜플 등\n",
    "   "
   ]
  },
  {
   "cell_type": "code",
   "execution_count": 43,
   "id": "de6eb540",
   "metadata": {},
   "outputs": [
    {
     "name": "stdout",
     "output_type": "stream",
     "text": [
      "x==  1 , test_list ==  [1, 2, 3, 100]\n"
     ]
    }
   ],
   "source": [
    "#2.17 mutable/ immutable 타입\n",
    "def mutable_immutable_func(int_x, input_list): #2개 입력 파라미터를 갖는다\n",
    "    int_x += 1\n",
    "    input_list.append(100)\n",
    "    \n",
    "x = 1 #숫자\n",
    "test_list=[1,2,3] #리스트\n",
    "mutable_immutable_func(x, test_list)\n",
    "print(\"x== \", x, \", test_list == \", test_list)"
   ]
  },
  {
   "cell_type": "markdown",
   "id": "c8f44f13",
   "metadata": {},
   "source": [
    "결과를 보면 정수 변수 x 값은 1로 변화가 없지만 list 값은 변화한 것을 확인할 수 있다. <br>\n",
    "즉, mutable data type 인 리스트, 딕셔너리, 넘파이 등을 함수 인자로 가지면 처음 값이 변경될 수 있다.\n",
    "\n",
    "* 따라서 파이썬에서 함수를 작성하고 입력 파라미터로 mutable data type을 받는 경우,\n",
    "    * 함수 내에서 원본 값이 변경되지 않도록 보관\n",
    "    * 함수 내에서 다양한 작업을 수행한 후, 보관되어 있는 값을 다시 복원시키는 과정이 필요하다"
   ]
  },
  {
   "cell_type": "markdown",
   "id": "5261b63c",
   "metadata": {},
   "source": [
    "#### 2.6.4 람다(lambda) 함수\n",
    "* 람다 함수를 만들 땐, def를 사용하지 않고 한 줄 형태로 함수를 작성한다\n",
    "* 머신러닝에서 수치 미분, 활성화 함수 등을 일반적으로 수학에서의 함수 표기법 f(x), f(x,y)으로 나타낼 때 사용한다"
   ]
  },
  {
   "cell_type": "code",
   "execution_count": 46,
   "id": "9d90b63f",
   "metadata": {},
   "outputs": [
    {
     "name": "stdout",
     "output_type": "stream",
     "text": [
      "100\n",
      "101\n",
      "102\n"
     ]
    }
   ],
   "source": [
    "#2.18 람다 정의, 사용법\n",
    "\n",
    "f = lambda x : x+100   #f(x)=x+100 형태로 사용할 경우\n",
    "\n",
    "for i in range(3): #range 값 0,1,2\n",
    "    print(f(i))    # i=0 -> f(0)=100  i=1 -> f(1)=101  i=2 -> f(2)=102"
   ]
  },
  {
   "cell_type": "markdown",
   "id": "6cbfd7cb",
   "metadata": {},
   "source": [
    "### 2.7 파이썬 클래스(class)\n",
    "\n",
    "* class 클래스명 : <br>\n",
    "   \n",
    "   def __init__(self, 입력1, 입력2, ---) :  # 생성자  <br>\n",
    "        intit method는 파이썬 클래스가 반드시 가져야 하는 메서드이다\n",
    "        생성자 역학을 수행하며, 객체가 만들어질 때 자동으로 한 번 호출된다\n",
    "   def method1(self, 입력1, 입력2, ---) :  # method1  <br>\n",
    "   def method2(self, 입력1, 입력2, ---) :  # method2  "
   ]
  },
  {
   "cell_type": "code",
   "execution_count": 100,
   "id": "47b0a80e",
   "metadata": {},
   "outputs": [
    {
     "name": "stdout",
     "output_type": "stream",
     "text": [
      "PARK is initialized\n",
      "PARK is working in ABCDEF\n",
      "PARK is sleeping\n",
      "current person object is PARK\n"
     ]
    }
   ],
   "source": [
    "# 2.19 파이썬 클래스 정의, 기본 예제\n",
    "\n",
    "class Person:\n",
    "    def __init__ (self, name):\n",
    "        self.name = name\n",
    "        print(self.name + \" is initialized\")\n",
    "    def work(self, company):\n",
    "        print(self.name + \" is working in \" + company)\n",
    "    def sleep(self):\n",
    "        print(self.name + \" is sleeping\")\n",
    "\n",
    "# 객체를 생성해 메서드 호출\n",
    "\n",
    "obj = Person(\"PARK\") #Person 객체  obj 생성\n",
    "obj.work(\"ABCDEF\")   #work() method call\n",
    "obj.sleep()          #sleep() method call\n",
    "\n",
    "\n",
    "# 속성에 직접 접근. 기본적으로 파이썬에서는 모두 public임\n",
    "print(\"current person object is\", obj.name)"
   ]
  },
  {
   "cell_type": "markdown",
   "id": "9527fe6a",
   "metadata": {},
   "source": [
    "### 파이썬 클래스 추가 공부"
   ]
  },
  {
   "cell_type": "code",
   "execution_count": 52,
   "id": "9521401e",
   "metadata": {},
   "outputs": [],
   "source": [
    "class JSS:\n",
    "    def __init__(self):\n",
    "        print(\"JSS 클래스 선언\")"
   ]
  },
  {
   "cell_type": "markdown",
   "id": "0eeeb49d",
   "metadata": {},
   "source": [
    "__init__ 함수 밑에 써진 함수는 기본으로 실행된다."
   ]
  },
  {
   "cell_type": "code",
   "execution_count": 53,
   "id": "97b5b2db",
   "metadata": {},
   "outputs": [
    {
     "name": "stdout",
     "output_type": "stream",
     "text": [
      "JSS 클래스 선언\n"
     ]
    }
   ],
   "source": [
    "a = JSS()  "
   ]
  },
  {
   "cell_type": "code",
   "execution_count": 54,
   "id": "6a8d391c",
   "metadata": {},
   "outputs": [],
   "source": [
    "class JSS:\n",
    "    def __init__(self):\n",
    "        print(\"JSS 클래스 선언\")\n",
    "    def show(self):\n",
    "        print(\"show 실행\")"
   ]
  },
  {
   "cell_type": "code",
   "execution_count": 57,
   "id": "1d255f59",
   "metadata": {},
   "outputs": [
    {
     "name": "stdout",
     "output_type": "stream",
     "text": [
      "JSS 클래스 선언\n",
      "show 실행\n"
     ]
    }
   ],
   "source": [
    "a = JSS()\n",
    "a.show()"
   ]
  },
  {
   "cell_type": "markdown",
   "id": "6ced3208",
   "metadata": {},
   "source": [
    "self 는 클래스를 저장할 변수임. self -> a 가 되서 a.show로 쓸 수 있음"
   ]
  },
  {
   "cell_type": "code",
   "execution_count": 74,
   "id": "658c33a6",
   "metadata": {},
   "outputs": [],
   "source": [
    "class JSS:\n",
    "    def __init__(self):\n",
    "        self.name = input(\"name = \")\n",
    "        self.age = input(\"age = \")\n",
    "    def show(self):\n",
    "        print(\"나의 이름은 {}, 나이는 {}세입니다.\".format(self.name, self.age))"
   ]
  },
  {
   "cell_type": "code",
   "execution_count": 75,
   "id": "359d83dd",
   "metadata": {},
   "outputs": [
    {
     "name": "stdout",
     "output_type": "stream",
     "text": [
      "name = 효재\n",
      "age = 24\n"
     ]
    }
   ],
   "source": [
    "a = JSS()"
   ]
  },
  {
   "cell_type": "code",
   "execution_count": 76,
   "id": "d08c99a9",
   "metadata": {},
   "outputs": [
    {
     "data": {
      "text/plain": [
       "'효재'"
      ]
     },
     "execution_count": 76,
     "metadata": {},
     "output_type": "execute_result"
    }
   ],
   "source": [
    "a.name"
   ]
  },
  {
   "cell_type": "code",
   "execution_count": 77,
   "id": "c4d7f474",
   "metadata": {},
   "outputs": [
    {
     "data": {
      "text/plain": [
       "'24'"
      ]
     },
     "execution_count": 77,
     "metadata": {},
     "output_type": "execute_result"
    }
   ],
   "source": [
    "a.age"
   ]
  },
  {
   "cell_type": "code",
   "execution_count": 78,
   "id": "1b3e2eef",
   "metadata": {},
   "outputs": [
    {
     "name": "stdout",
     "output_type": "stream",
     "text": [
      "나의 이름은 효재, 나이는 24세입니다.\n"
     ]
    }
   ],
   "source": [
    "a.show()"
   ]
  },
  {
   "cell_type": "markdown",
   "id": "c5cf6ad6",
   "metadata": {},
   "source": [
    "#### 앞선 클래스 상속받기\n",
    "* super().__init__() 은 앞선 클래스 내용을 모두 가져온다"
   ]
  },
  {
   "cell_type": "code",
   "execution_count": 80,
   "id": "d79d62e0",
   "metadata": {},
   "outputs": [],
   "source": [
    "class JSS2(JSS):\n",
    "    pass         #JSS를 상속받는데 변경된 것은 없음"
   ]
  },
  {
   "cell_type": "code",
   "execution_count": 81,
   "id": "ada67804",
   "metadata": {},
   "outputs": [
    {
     "name": "stdout",
     "output_type": "stream",
     "text": [
      "name = 홍길동\n",
      "age = 28\n"
     ]
    }
   ],
   "source": [
    "a = JSS()"
   ]
  },
  {
   "cell_type": "code",
   "execution_count": 82,
   "id": "16a8b192",
   "metadata": {},
   "outputs": [
    {
     "name": "stdout",
     "output_type": "stream",
     "text": [
      "나의 이름은 홍길동, 나이는 28세입니다.\n"
     ]
    }
   ],
   "source": [
    "a.show()"
   ]
  },
  {
   "cell_type": "code",
   "execution_count": 83,
   "id": "fc4f586c",
   "metadata": {},
   "outputs": [],
   "source": [
    "class JSS2(JSS):\n",
    "    def __init__(self):\n",
    "        pass"
   ]
  },
  {
   "cell_type": "code",
   "execution_count": 84,
   "id": "661923d3",
   "metadata": {},
   "outputs": [],
   "source": [
    "a = JSS2() # def로 init을 정의하지 않았기 때문에 실행되지 않음"
   ]
  },
  {
   "cell_type": "code",
   "execution_count": 90,
   "id": "110882e1",
   "metadata": {},
   "outputs": [],
   "source": [
    "class JSS2(JSS):\n",
    "    def __init__(self):\n",
    "        super().__init__()  #super() --> class JSS\n",
    "        self.gender = input(\"성별 : \")\n",
    "    def show(self):\n",
    "        print(\"나의 이름은 {}, 성별은 {}자, 나이는 {}세입니다.\".format(self.name, self.gender, self.age))"
   ]
  },
  {
   "cell_type": "code",
   "execution_count": 91,
   "id": "74f1ef9a",
   "metadata": {},
   "outputs": [
    {
     "name": "stdout",
     "output_type": "stream",
     "text": [
      "name = 효재\n",
      "age = 24\n",
      "성별 : 여\n"
     ]
    }
   ],
   "source": [
    "a = JSS2()"
   ]
  },
  {
   "cell_type": "code",
   "execution_count": 92,
   "id": "b5c4b7e6",
   "metadata": {},
   "outputs": [
    {
     "name": "stdout",
     "output_type": "stream",
     "text": [
      "나의 이름은 효재, 성별은 여자, 나이는 24세입니다.\n"
     ]
    }
   ],
   "source": [
    "a.show()"
   ]
  }
 ],
 "metadata": {
  "kernelspec": {
   "display_name": "Python 3 (ipykernel)",
   "language": "python",
   "name": "python3"
  },
  "language_info": {
   "codemirror_mode": {
    "name": "ipython",
    "version": 3
   },
   "file_extension": ".py",
   "mimetype": "text/x-python",
   "name": "python",
   "nbconvert_exporter": "python",
   "pygments_lexer": "ipython3",
   "version": "3.9.7"
  }
 },
 "nbformat": 4,
 "nbformat_minor": 5
}

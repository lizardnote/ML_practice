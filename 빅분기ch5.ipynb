{
  "nbformat": 4,
  "nbformat_minor": 0,
  "metadata": {
    "colab": {
      "provenance": [],
      "authorship_tag": "ABX9TyObk3qoDYTBgbLBXSS2XIJi",
      "include_colab_link": true
    },
    "kernelspec": {
      "name": "python3",
      "display_name": "Python 3"
    },
    "language_info": {
      "name": "python"
    }
  },
  "cells": [
    {
      "cell_type": "markdown",
      "metadata": {
        "id": "view-in-github",
        "colab_type": "text"
      },
      "source": [
        "<a href=\"https://colab.research.google.com/github/lizardnote/ML_practice/blob/main/%EB%B9%85%EB%B6%84%EA%B8%B0ch5.ipynb\" target=\"_parent\"><img src=\"https://colab.research.google.com/assets/colab-badge.svg\" alt=\"Open In Colab\"/></a>"
      ]
    },
    {
      "cell_type": "markdown",
      "source": [
        "모평균 구간 추정"
      ],
      "metadata": {
        "id": "daIM6nmtsI4I"
      }
    },
    {
      "cell_type": "code",
      "execution_count": 3,
      "metadata": {
        "colab": {
          "base_uri": "https://localhost:8080/"
        },
        "id": "7GMyEG8ebs1g",
        "outputId": "500cb846-50a3-4916-df3d-f99ce3462c04"
      },
      "outputs": [
        {
          "output_type": "stream",
          "name": "stdout",
          "text": [
            "4.469 4.991\n"
          ]
        }
      ],
      "source": [
        "from scipy.stats import t\n",
        "import numpy as np\n",
        "\n",
        "data = [4.3, 4.1, 5.2, 4.9, 5.0, 4.5, 4.7, 4.8, 5.2, 4.6]\n",
        "mean = np.mean(data)\n",
        "n = len(data)\n",
        "se = np.std(data, ddof = 1) / np.sqrt(n)\n",
        "print(round(mean - t.ppf(0.975, n-1)* se, 3), round(mean + t.ppf(0.975, n-1) * se, 3))"
      ]
    },
    {
      "cell_type": "code",
      "source": [
        "ci = t.interval(0.95, loc = mean, scale = se, df = n-1)\n",
        "print('신뢰구간 : ', [round(i,3) for i in ci])"
      ],
      "metadata": {
        "colab": {
          "base_uri": "https://localhost:8080/"
        },
        "id": "xeIhpgaes9EV",
        "outputId": "79902b31-e283-435c-d113-54fff42c851a"
      },
      "execution_count": 4,
      "outputs": [
        {
          "output_type": "stream",
          "name": "stdout",
          "text": [
            "신뢰구간 :  [np.float64(4.469), np.float64(4.991)]\n"
          ]
        }
      ]
    },
    {
      "cell_type": "markdown",
      "source": [
        "단일 표본 t검정 - ttest-1samp()"
      ],
      "metadata": {
        "id": "sBtJ_Xf5WI3M"
      }
    },
    {
      "cell_type": "code",
      "source": [
        "sample = [9.76,11.1,10.7,10.72,11.8,6.15,10.52,14.83,13.03,16.46,10.84,12.45]\n",
        "\n",
        "from scipy.stats import ttest_1samp\n",
        "\n",
        "t_statistic, p_value = ttest_1samp(sample, popmean = 10, alternative = 'two-sided')\n",
        "print(t_statistic, p_value)"
      ],
      "metadata": {
        "colab": {
          "base_uri": "https://localhost:8080/"
        },
        "id": "1LiQjAoktR4h",
        "outputId": "e16416af-8beb-49ef-ff17-d8b1fb127a63"
      },
      "execution_count": 2,
      "outputs": [
        {
          "output_type": "stream",
          "name": "stdout",
          "text": [
            "2.0508338167773075 0.06488240727465687\n"
          ]
        }
      ]
    },
    {
      "cell_type": "markdown",
      "source": [
        "독립 2 표본 t 검정 : ttest-iind()"
      ],
      "metadata": {
        "id": "ZChwIk8VWzqm"
      }
    },
    {
      "cell_type": "code",
      "source": [
        "import pandas as pd\n",
        "\n",
        "sample = [9.76,11.1,10.7,10.72,11.8,6.15,10.52,14.83,13.03,16.46,10.84,12.45]\n",
        "gender = ['Female']*7 + [\"Male\"]*5\n",
        "\n",
        "my_tab2 = pd.DataFrame({'score' : sample, 'gender' : gender})\n",
        "my_tab2"
      ],
      "metadata": {
        "colab": {
          "base_uri": "https://localhost:8080/",
          "height": 425
        },
        "id": "pNuODHSOWl1D",
        "outputId": "c2591450-8a8c-46f4-ef2f-2a8501ca0811"
      },
      "execution_count": 3,
      "outputs": [
        {
          "output_type": "execute_result",
          "data": {
            "text/plain": [
              "    score  gender\n",
              "0    9.76  Female\n",
              "1   11.10  Female\n",
              "2   10.70  Female\n",
              "3   10.72  Female\n",
              "4   11.80  Female\n",
              "5    6.15  Female\n",
              "6   10.52  Female\n",
              "7   14.83    Male\n",
              "8   13.03    Male\n",
              "9   16.46    Male\n",
              "10  10.84    Male\n",
              "11  12.45    Male"
            ],
            "text/html": [
              "\n",
              "  <div id=\"df-02c0d833-1779-4867-b450-85798c350e61\" class=\"colab-df-container\">\n",
              "    <div>\n",
              "<style scoped>\n",
              "    .dataframe tbody tr th:only-of-type {\n",
              "        vertical-align: middle;\n",
              "    }\n",
              "\n",
              "    .dataframe tbody tr th {\n",
              "        vertical-align: top;\n",
              "    }\n",
              "\n",
              "    .dataframe thead th {\n",
              "        text-align: right;\n",
              "    }\n",
              "</style>\n",
              "<table border=\"1\" class=\"dataframe\">\n",
              "  <thead>\n",
              "    <tr style=\"text-align: right;\">\n",
              "      <th></th>\n",
              "      <th>score</th>\n",
              "      <th>gender</th>\n",
              "    </tr>\n",
              "  </thead>\n",
              "  <tbody>\n",
              "    <tr>\n",
              "      <th>0</th>\n",
              "      <td>9.76</td>\n",
              "      <td>Female</td>\n",
              "    </tr>\n",
              "    <tr>\n",
              "      <th>1</th>\n",
              "      <td>11.10</td>\n",
              "      <td>Female</td>\n",
              "    </tr>\n",
              "    <tr>\n",
              "      <th>2</th>\n",
              "      <td>10.70</td>\n",
              "      <td>Female</td>\n",
              "    </tr>\n",
              "    <tr>\n",
              "      <th>3</th>\n",
              "      <td>10.72</td>\n",
              "      <td>Female</td>\n",
              "    </tr>\n",
              "    <tr>\n",
              "      <th>4</th>\n",
              "      <td>11.80</td>\n",
              "      <td>Female</td>\n",
              "    </tr>\n",
              "    <tr>\n",
              "      <th>5</th>\n",
              "      <td>6.15</td>\n",
              "      <td>Female</td>\n",
              "    </tr>\n",
              "    <tr>\n",
              "      <th>6</th>\n",
              "      <td>10.52</td>\n",
              "      <td>Female</td>\n",
              "    </tr>\n",
              "    <tr>\n",
              "      <th>7</th>\n",
              "      <td>14.83</td>\n",
              "      <td>Male</td>\n",
              "    </tr>\n",
              "    <tr>\n",
              "      <th>8</th>\n",
              "      <td>13.03</td>\n",
              "      <td>Male</td>\n",
              "    </tr>\n",
              "    <tr>\n",
              "      <th>9</th>\n",
              "      <td>16.46</td>\n",
              "      <td>Male</td>\n",
              "    </tr>\n",
              "    <tr>\n",
              "      <th>10</th>\n",
              "      <td>10.84</td>\n",
              "      <td>Male</td>\n",
              "    </tr>\n",
              "    <tr>\n",
              "      <th>11</th>\n",
              "      <td>12.45</td>\n",
              "      <td>Male</td>\n",
              "    </tr>\n",
              "  </tbody>\n",
              "</table>\n",
              "</div>\n",
              "    <div class=\"colab-df-buttons\">\n",
              "\n",
              "  <div class=\"colab-df-container\">\n",
              "    <button class=\"colab-df-convert\" onclick=\"convertToInteractive('df-02c0d833-1779-4867-b450-85798c350e61')\"\n",
              "            title=\"Convert this dataframe to an interactive table.\"\n",
              "            style=\"display:none;\">\n",
              "\n",
              "  <svg xmlns=\"http://www.w3.org/2000/svg\" height=\"24px\" viewBox=\"0 -960 960 960\">\n",
              "    <path d=\"M120-120v-720h720v720H120Zm60-500h600v-160H180v160Zm220 220h160v-160H400v160Zm0 220h160v-160H400v160ZM180-400h160v-160H180v160Zm440 0h160v-160H620v160ZM180-180h160v-160H180v160Zm440 0h160v-160H620v160Z\"/>\n",
              "  </svg>\n",
              "    </button>\n",
              "\n",
              "  <style>\n",
              "    .colab-df-container {\n",
              "      display:flex;\n",
              "      gap: 12px;\n",
              "    }\n",
              "\n",
              "    .colab-df-convert {\n",
              "      background-color: #E8F0FE;\n",
              "      border: none;\n",
              "      border-radius: 50%;\n",
              "      cursor: pointer;\n",
              "      display: none;\n",
              "      fill: #1967D2;\n",
              "      height: 32px;\n",
              "      padding: 0 0 0 0;\n",
              "      width: 32px;\n",
              "    }\n",
              "\n",
              "    .colab-df-convert:hover {\n",
              "      background-color: #E2EBFA;\n",
              "      box-shadow: 0px 1px 2px rgba(60, 64, 67, 0.3), 0px 1px 3px 1px rgba(60, 64, 67, 0.15);\n",
              "      fill: #174EA6;\n",
              "    }\n",
              "\n",
              "    .colab-df-buttons div {\n",
              "      margin-bottom: 4px;\n",
              "    }\n",
              "\n",
              "    [theme=dark] .colab-df-convert {\n",
              "      background-color: #3B4455;\n",
              "      fill: #D2E3FC;\n",
              "    }\n",
              "\n",
              "    [theme=dark] .colab-df-convert:hover {\n",
              "      background-color: #434B5C;\n",
              "      box-shadow: 0px 1px 3px 1px rgba(0, 0, 0, 0.15);\n",
              "      filter: drop-shadow(0px 1px 2px rgba(0, 0, 0, 0.3));\n",
              "      fill: #FFFFFF;\n",
              "    }\n",
              "  </style>\n",
              "\n",
              "    <script>\n",
              "      const buttonEl =\n",
              "        document.querySelector('#df-02c0d833-1779-4867-b450-85798c350e61 button.colab-df-convert');\n",
              "      buttonEl.style.display =\n",
              "        google.colab.kernel.accessAllowed ? 'block' : 'none';\n",
              "\n",
              "      async function convertToInteractive(key) {\n",
              "        const element = document.querySelector('#df-02c0d833-1779-4867-b450-85798c350e61');\n",
              "        const dataTable =\n",
              "          await google.colab.kernel.invokeFunction('convertToInteractive',\n",
              "                                                    [key], {});\n",
              "        if (!dataTable) return;\n",
              "\n",
              "        const docLinkHtml = 'Like what you see? Visit the ' +\n",
              "          '<a target=\"_blank\" href=https://colab.research.google.com/notebooks/data_table.ipynb>data table notebook</a>'\n",
              "          + ' to learn more about interactive tables.';\n",
              "        element.innerHTML = '';\n",
              "        dataTable['output_type'] = 'display_data';\n",
              "        await google.colab.output.renderOutput(dataTable, element);\n",
              "        const docLink = document.createElement('div');\n",
              "        docLink.innerHTML = docLinkHtml;\n",
              "        element.appendChild(docLink);\n",
              "      }\n",
              "    </script>\n",
              "  </div>\n",
              "\n",
              "\n",
              "    <div id=\"df-2bbbbdf6-70c0-4aa3-baa2-4fd1bb97bbf4\">\n",
              "      <button class=\"colab-df-quickchart\" onclick=\"quickchart('df-2bbbbdf6-70c0-4aa3-baa2-4fd1bb97bbf4')\"\n",
              "                title=\"Suggest charts\"\n",
              "                style=\"display:none;\">\n",
              "\n",
              "<svg xmlns=\"http://www.w3.org/2000/svg\" height=\"24px\"viewBox=\"0 0 24 24\"\n",
              "     width=\"24px\">\n",
              "    <g>\n",
              "        <path d=\"M19 3H5c-1.1 0-2 .9-2 2v14c0 1.1.9 2 2 2h14c1.1 0 2-.9 2-2V5c0-1.1-.9-2-2-2zM9 17H7v-7h2v7zm4 0h-2V7h2v10zm4 0h-2v-4h2v4z\"/>\n",
              "    </g>\n",
              "</svg>\n",
              "      </button>\n",
              "\n",
              "<style>\n",
              "  .colab-df-quickchart {\n",
              "      --bg-color: #E8F0FE;\n",
              "      --fill-color: #1967D2;\n",
              "      --hover-bg-color: #E2EBFA;\n",
              "      --hover-fill-color: #174EA6;\n",
              "      --disabled-fill-color: #AAA;\n",
              "      --disabled-bg-color: #DDD;\n",
              "  }\n",
              "\n",
              "  [theme=dark] .colab-df-quickchart {\n",
              "      --bg-color: #3B4455;\n",
              "      --fill-color: #D2E3FC;\n",
              "      --hover-bg-color: #434B5C;\n",
              "      --hover-fill-color: #FFFFFF;\n",
              "      --disabled-bg-color: #3B4455;\n",
              "      --disabled-fill-color: #666;\n",
              "  }\n",
              "\n",
              "  .colab-df-quickchart {\n",
              "    background-color: var(--bg-color);\n",
              "    border: none;\n",
              "    border-radius: 50%;\n",
              "    cursor: pointer;\n",
              "    display: none;\n",
              "    fill: var(--fill-color);\n",
              "    height: 32px;\n",
              "    padding: 0;\n",
              "    width: 32px;\n",
              "  }\n",
              "\n",
              "  .colab-df-quickchart:hover {\n",
              "    background-color: var(--hover-bg-color);\n",
              "    box-shadow: 0 1px 2px rgba(60, 64, 67, 0.3), 0 1px 3px 1px rgba(60, 64, 67, 0.15);\n",
              "    fill: var(--button-hover-fill-color);\n",
              "  }\n",
              "\n",
              "  .colab-df-quickchart-complete:disabled,\n",
              "  .colab-df-quickchart-complete:disabled:hover {\n",
              "    background-color: var(--disabled-bg-color);\n",
              "    fill: var(--disabled-fill-color);\n",
              "    box-shadow: none;\n",
              "  }\n",
              "\n",
              "  .colab-df-spinner {\n",
              "    border: 2px solid var(--fill-color);\n",
              "    border-color: transparent;\n",
              "    border-bottom-color: var(--fill-color);\n",
              "    animation:\n",
              "      spin 1s steps(1) infinite;\n",
              "  }\n",
              "\n",
              "  @keyframes spin {\n",
              "    0% {\n",
              "      border-color: transparent;\n",
              "      border-bottom-color: var(--fill-color);\n",
              "      border-left-color: var(--fill-color);\n",
              "    }\n",
              "    20% {\n",
              "      border-color: transparent;\n",
              "      border-left-color: var(--fill-color);\n",
              "      border-top-color: var(--fill-color);\n",
              "    }\n",
              "    30% {\n",
              "      border-color: transparent;\n",
              "      border-left-color: var(--fill-color);\n",
              "      border-top-color: var(--fill-color);\n",
              "      border-right-color: var(--fill-color);\n",
              "    }\n",
              "    40% {\n",
              "      border-color: transparent;\n",
              "      border-right-color: var(--fill-color);\n",
              "      border-top-color: var(--fill-color);\n",
              "    }\n",
              "    60% {\n",
              "      border-color: transparent;\n",
              "      border-right-color: var(--fill-color);\n",
              "    }\n",
              "    80% {\n",
              "      border-color: transparent;\n",
              "      border-right-color: var(--fill-color);\n",
              "      border-bottom-color: var(--fill-color);\n",
              "    }\n",
              "    90% {\n",
              "      border-color: transparent;\n",
              "      border-bottom-color: var(--fill-color);\n",
              "    }\n",
              "  }\n",
              "</style>\n",
              "\n",
              "      <script>\n",
              "        async function quickchart(key) {\n",
              "          const quickchartButtonEl =\n",
              "            document.querySelector('#' + key + ' button');\n",
              "          quickchartButtonEl.disabled = true;  // To prevent multiple clicks.\n",
              "          quickchartButtonEl.classList.add('colab-df-spinner');\n",
              "          try {\n",
              "            const charts = await google.colab.kernel.invokeFunction(\n",
              "                'suggestCharts', [key], {});\n",
              "          } catch (error) {\n",
              "            console.error('Error during call to suggestCharts:', error);\n",
              "          }\n",
              "          quickchartButtonEl.classList.remove('colab-df-spinner');\n",
              "          quickchartButtonEl.classList.add('colab-df-quickchart-complete');\n",
              "        }\n",
              "        (() => {\n",
              "          let quickchartButtonEl =\n",
              "            document.querySelector('#df-2bbbbdf6-70c0-4aa3-baa2-4fd1bb97bbf4 button');\n",
              "          quickchartButtonEl.style.display =\n",
              "            google.colab.kernel.accessAllowed ? 'block' : 'none';\n",
              "        })();\n",
              "      </script>\n",
              "    </div>\n",
              "\n",
              "  <div id=\"id_dba597f2-1e8c-4aa4-9d4e-faed7b6a1209\">\n",
              "    <style>\n",
              "      .colab-df-generate {\n",
              "        background-color: #E8F0FE;\n",
              "        border: none;\n",
              "        border-radius: 50%;\n",
              "        cursor: pointer;\n",
              "        display: none;\n",
              "        fill: #1967D2;\n",
              "        height: 32px;\n",
              "        padding: 0 0 0 0;\n",
              "        width: 32px;\n",
              "      }\n",
              "\n",
              "      .colab-df-generate:hover {\n",
              "        background-color: #E2EBFA;\n",
              "        box-shadow: 0px 1px 2px rgba(60, 64, 67, 0.3), 0px 1px 3px 1px rgba(60, 64, 67, 0.15);\n",
              "        fill: #174EA6;\n",
              "      }\n",
              "\n",
              "      [theme=dark] .colab-df-generate {\n",
              "        background-color: #3B4455;\n",
              "        fill: #D2E3FC;\n",
              "      }\n",
              "\n",
              "      [theme=dark] .colab-df-generate:hover {\n",
              "        background-color: #434B5C;\n",
              "        box-shadow: 0px 1px 3px 1px rgba(0, 0, 0, 0.15);\n",
              "        filter: drop-shadow(0px 1px 2px rgba(0, 0, 0, 0.3));\n",
              "        fill: #FFFFFF;\n",
              "      }\n",
              "    </style>\n",
              "    <button class=\"colab-df-generate\" onclick=\"generateWithVariable('my_tab2')\"\n",
              "            title=\"Generate code using this dataframe.\"\n",
              "            style=\"display:none;\">\n",
              "\n",
              "  <svg xmlns=\"http://www.w3.org/2000/svg\" height=\"24px\"viewBox=\"0 0 24 24\"\n",
              "       width=\"24px\">\n",
              "    <path d=\"M7,19H8.4L18.45,9,17,7.55,7,17.6ZM5,21V16.75L18.45,3.32a2,2,0,0,1,2.83,0l1.4,1.43a1.91,1.91,0,0,1,.58,1.4,1.91,1.91,0,0,1-.58,1.4L9.25,21ZM18.45,9,17,7.55Zm-12,3A5.31,5.31,0,0,0,4.9,8.1,5.31,5.31,0,0,0,1,6.5,5.31,5.31,0,0,0,4.9,4.9,5.31,5.31,0,0,0,6.5,1,5.31,5.31,0,0,0,8.1,4.9,5.31,5.31,0,0,0,12,6.5,5.46,5.46,0,0,0,6.5,12Z\"/>\n",
              "  </svg>\n",
              "    </button>\n",
              "    <script>\n",
              "      (() => {\n",
              "      const buttonEl =\n",
              "        document.querySelector('#id_dba597f2-1e8c-4aa4-9d4e-faed7b6a1209 button.colab-df-generate');\n",
              "      buttonEl.style.display =\n",
              "        google.colab.kernel.accessAllowed ? 'block' : 'none';\n",
              "\n",
              "      buttonEl.onclick = () => {\n",
              "        google.colab.notebook.generateWithVariable('my_tab2');\n",
              "      }\n",
              "      })();\n",
              "    </script>\n",
              "  </div>\n",
              "\n",
              "    </div>\n",
              "  </div>\n"
            ],
            "application/vnd.google.colaboratory.intrinsic+json": {
              "type": "dataframe",
              "variable_name": "my_tab2",
              "summary": "{\n  \"name\": \"my_tab2\",\n  \"rows\": 12,\n  \"fields\": [\n    {\n      \"column\": \"score\",\n      \"properties\": {\n        \"dtype\": \"number\",\n        \"std\": 2.5843515100064716,\n        \"min\": 6.15,\n        \"max\": 16.46,\n        \"num_unique_values\": 12,\n        \"samples\": [\n          10.84,\n          16.46,\n          9.76\n        ],\n        \"semantic_type\": \"\",\n        \"description\": \"\"\n      }\n    },\n    {\n      \"column\": \"gender\",\n      \"properties\": {\n        \"dtype\": \"category\",\n        \"num_unique_values\": 2,\n        \"samples\": [\n          \"Male\",\n          \"Female\"\n        ],\n        \"semantic_type\": \"\",\n        \"description\": \"\"\n      }\n    }\n  ]\n}"
            }
          },
          "metadata": {},
          "execution_count": 3
        }
      ]
    },
    {
      "cell_type": "code",
      "source": [
        "from scipy.stats import ttest_ind\n",
        "\n",
        "male = my_tab2[my_tab2['gender'] == 'Male']['score']\n",
        "female = my_tab2[my_tab2['gender'] == 'Female']['score']\n"
      ],
      "metadata": {
        "colab": {
          "base_uri": "https://localhost:8080/",
          "height": 241
        },
        "id": "hcd2Ks40XHmc",
        "outputId": "693ab83f-d950-4e36-dcd5-f4c011652c88"
      },
      "execution_count": 5,
      "outputs": [
        {
          "output_type": "execute_result",
          "data": {
            "text/plain": [
              "7     14.83\n",
              "8     13.03\n",
              "9     16.46\n",
              "10    10.84\n",
              "11    12.45\n",
              "Name: score, dtype: float64"
            ],
            "text/html": [
              "<div>\n",
              "<style scoped>\n",
              "    .dataframe tbody tr th:only-of-type {\n",
              "        vertical-align: middle;\n",
              "    }\n",
              "\n",
              "    .dataframe tbody tr th {\n",
              "        vertical-align: top;\n",
              "    }\n",
              "\n",
              "    .dataframe thead th {\n",
              "        text-align: right;\n",
              "    }\n",
              "</style>\n",
              "<table border=\"1\" class=\"dataframe\">\n",
              "  <thead>\n",
              "    <tr style=\"text-align: right;\">\n",
              "      <th></th>\n",
              "      <th>score</th>\n",
              "    </tr>\n",
              "  </thead>\n",
              "  <tbody>\n",
              "    <tr>\n",
              "      <th>7</th>\n",
              "      <td>14.83</td>\n",
              "    </tr>\n",
              "    <tr>\n",
              "      <th>8</th>\n",
              "      <td>13.03</td>\n",
              "    </tr>\n",
              "    <tr>\n",
              "      <th>9</th>\n",
              "      <td>16.46</td>\n",
              "    </tr>\n",
              "    <tr>\n",
              "      <th>10</th>\n",
              "      <td>10.84</td>\n",
              "    </tr>\n",
              "    <tr>\n",
              "      <th>11</th>\n",
              "      <td>12.45</td>\n",
              "    </tr>\n",
              "  </tbody>\n",
              "</table>\n",
              "</div><br><label><b>dtype:</b> float64</label>"
            ]
          },
          "metadata": {},
          "execution_count": 5
        }
      ]
    },
    {
      "cell_type": "code",
      "source": [
        "t_statistic, p_value = ttest_ind(male['score'], female['score'], equla_var= True, alternative= 'greater')\n",
        "print(t_statistic, p_value)"
      ],
      "metadata": {
        "colab": {
          "base_uri": "https://localhost:8080/",
          "height": 241
        },
        "id": "NH3A2sKXXhrp",
        "outputId": "f5772bae-1f3c-4972-b01f-00e148e0668e"
      },
      "execution_count": 10,
      "outputs": [
        {
          "output_type": "execute_result",
          "data": {
            "text/plain": [
              "7     14.83\n",
              "8     13.03\n",
              "9     16.46\n",
              "10    10.84\n",
              "11    12.45\n",
              "Name: score, dtype: float64"
            ],
            "text/html": [
              "<div>\n",
              "<style scoped>\n",
              "    .dataframe tbody tr th:only-of-type {\n",
              "        vertical-align: middle;\n",
              "    }\n",
              "\n",
              "    .dataframe tbody tr th {\n",
              "        vertical-align: top;\n",
              "    }\n",
              "\n",
              "    .dataframe thead th {\n",
              "        text-align: right;\n",
              "    }\n",
              "</style>\n",
              "<table border=\"1\" class=\"dataframe\">\n",
              "  <thead>\n",
              "    <tr style=\"text-align: right;\">\n",
              "      <th></th>\n",
              "      <th>score</th>\n",
              "    </tr>\n",
              "  </thead>\n",
              "  <tbody>\n",
              "    <tr>\n",
              "      <th>7</th>\n",
              "      <td>14.83</td>\n",
              "    </tr>\n",
              "    <tr>\n",
              "      <th>8</th>\n",
              "      <td>13.03</td>\n",
              "    </tr>\n",
              "    <tr>\n",
              "      <th>9</th>\n",
              "      <td>16.46</td>\n",
              "    </tr>\n",
              "    <tr>\n",
              "      <th>10</th>\n",
              "      <td>10.84</td>\n",
              "    </tr>\n",
              "    <tr>\n",
              "      <th>11</th>\n",
              "      <td>12.45</td>\n",
              "    </tr>\n",
              "  </tbody>\n",
              "</table>\n",
              "</div><br><label><b>dtype:</b> float64</label>"
            ]
          },
          "metadata": {},
          "execution_count": 10
        }
      ]
    },
    {
      "cell_type": "markdown",
      "source": [
        "대응 표본 t검정 : ttest_rel()\n",
        "\n"
      ],
      "metadata": {
        "id": "MiPCkVOgZL3R"
      }
    },
    {
      "cell_type": "code",
      "source": [
        "import numpy as np\n",
        "\n",
        "before = np.array([9.76,11.1,10.7,10.72,11.8,6.15])\n",
        "after = np.array(\n",
        "  [10.52, 14.83, 13.03, 16.46,10.84,12.45])"
      ],
      "metadata": {
        "id": "PDsLFbCWXrG5"
      },
      "execution_count": 17,
      "outputs": []
    },
    {
      "cell_type": "code",
      "source": [
        "from scipy.stats import ttest_rel\n",
        "\n",
        "t_statistic, p_value = ttest_rel(before, after, alternative= 'greater')\n",
        "print(t_statistic, p_value)"
      ],
      "metadata": {
        "colab": {
          "base_uri": "https://localhost:8080/"
        },
        "id": "UbPNN133ZEbd",
        "outputId": "2b1473df-e657-4e56-800a-027b5288cfeb"
      },
      "execution_count": 19,
      "outputs": [
        {
          "output_type": "stream",
          "name": "stdout",
          "text": [
            "-2.5811614301011883 0.9753187165445341\n"
          ]
        }
      ]
    },
    {
      "cell_type": "markdown",
      "source": [
        "대응표본t검정을 1표본 t검정으로 바꿔서 해결해본다면"
      ],
      "metadata": {
        "id": "_og55JLLZfl7"
      }
    },
    {
      "cell_type": "code",
      "source": [
        "from scipy.stats import ttest_1samp\n",
        "\n",
        "sample_d = after - before\n",
        "t_statistic, p_value = ttest_1samp(sample_d, popmean = 0, alternative= 'greater')\n",
        "print(t_statistic, p_value)\n"
      ],
      "metadata": {
        "colab": {
          "base_uri": "https://localhost:8080/"
        },
        "id": "X13o5tIMZLRD",
        "outputId": "249a6aa6-425e-429d-d2ec-6f327474d610"
      },
      "execution_count": 20,
      "outputs": [
        {
          "output_type": "stream",
          "name": "stdout",
          "text": [
            "2.5811614301011883 0.02468128345546597\n"
          ]
        }
      ]
    },
    {
      "cell_type": "markdown",
      "source": [
        "F검정"
      ],
      "metadata": {
        "id": "zJuD_qpKmPIF"
      }
    },
    {
      "cell_type": "code",
      "source": [
        "import numpy as np\n",
        "import scipy.stats as stats\n",
        "\n",
        "oj_length = np.array([17.6,9.7,16.5,12,21.5,23.3,23.6,26.4,20,25.2,25.8,21.2,14.5,27.3,23.8])\n",
        "vc_length = np.array([7.6,4.2,10.0,11.5,7.3,5.8,14.5,10.6,8.2,9.4,16.5,9.7,8.3,13.6,8.2])\n",
        "\n",
        "\n",
        "s1 = oj_length.std(ddof = 1)\n",
        "s2 = vc_length.std(ddof = 1)\n",
        "\n",
        "ratio_df_var = s1**2 / s2**2\n",
        "\n",
        "round(ratio_df_var,4)"
      ],
      "metadata": {
        "colab": {
          "base_uri": "https://localhost:8080/"
        },
        "id": "-wPdvQvrkPb0",
        "outputId": "69d4f7ed-3192-474f-b1f4-b9bc0b32ac68"
      },
      "execution_count": 33,
      "outputs": [
        {
          "output_type": "execute_result",
          "data": {
            "text/plain": [
              "np.float64(2.7224)"
            ]
          },
          "metadata": {},
          "execution_count": 33
        }
      ]
    },
    {
      "cell_type": "code",
      "source": [
        "def F_test(x, y, alternative='two_sided'):\n",
        "  x = np.array(x)\n",
        "  y = np.array(y)\n",
        "  df1 = len(x) - 1\n",
        "  df2 = len(y) - 1\n",
        "  f = np.var(x, ddof = 1) / np.var(y, ddof = 1)\n",
        "  if alternative == 'greater':\n",
        "    p = 1.0 - stats.f.cdf(f, df1, df2)\n",
        "  elif alternative == 'less':\n",
        "    p = stats.f.cdf(f, df1, df2)\n",
        "  else:\n",
        "    p = 2.0 * (1.0 - stats.f.cdf(f, df1, df2))\n",
        "  return f, p\n",
        "\n",
        "f_value, p_value = F_test(oj_length, vc_length)\n",
        "print(f_value, p_value)"
      ],
      "metadata": {
        "colab": {
          "base_uri": "https://localhost:8080/"
        },
        "id": "Iwoh1O6-m1Bn",
        "outputId": "9acb73fd-a44e-4085-9d5e-d412e42ae509"
      },
      "execution_count": 36,
      "outputs": [
        {
          "output_type": "stream",
          "name": "stdout",
          "text": [
            "2.7223514017700063 0.07111637215506228\n"
          ]
        }
      ]
    },
    {
      "cell_type": "markdown",
      "source": [
        "사분위수"
      ],
      "metadata": {
        "id": "Qb4dA3kwpTKa"
      }
    },
    {
      "cell_type": "code",
      "source": [
        "import numpy as np\n",
        "data  = np.array([155,126,27,82,115,140,73,92,110,134])\n",
        "\n",
        "sorted_data = np.sort(data)\n",
        "\n",
        "min = np.min(sorted_data)\n",
        "max = np.max(sorted_data)\n",
        "\n",
        "median = np.median(sorted_data)\n",
        "\n",
        "lower_half = sorted_data[sorted_data < median]\n",
        "upper_half = sorted_data[sorted_data > median]\n",
        "\n",
        "q1 = np.median(lower_half)\n",
        "q3 = np.median(upper_half)\n",
        "\n",
        "print(min, q1, median, q3, max)"
      ],
      "metadata": {
        "colab": {
          "base_uri": "https://localhost:8080/"
        },
        "id": "UFXMsfgtnkRY",
        "outputId": "67fe4d95-c1e3-4642-d20e-848f55365c66"
      },
      "execution_count": 37,
      "outputs": [
        {
          "output_type": "stream",
          "name": "stdout",
          "text": [
            "27 82.0 112.5 134.0 155\n"
          ]
        }
      ]
    },
    {
      "cell_type": "markdown",
      "source": [
        "IQR = Q3- Q1"
      ],
      "metadata": {
        "id": "7OiwOq4ipvwd"
      }
    },
    {
      "cell_type": "code",
      "source": [
        "iqr  = q3 - q1\n",
        "iqr"
      ],
      "metadata": {
        "colab": {
          "base_uri": "https://localhost:8080/"
        },
        "id": "yTdxorGpptkZ",
        "outputId": "fbed4b88-ee56-4296-bde5-910973d3598d"
      },
      "execution_count": 38,
      "outputs": [
        {
          "output_type": "execute_result",
          "data": {
            "text/plain": [
              "np.float64(52.0)"
            ]
          },
          "metadata": {},
          "execution_count": 38
        }
      ]
    },
    {
      "cell_type": "code",
      "source": [
        "# 식으로 구현\n",
        "data = np.array([155,126,27,82,115,140,73,92,110,134])\n",
        "sorted_data = np.sort(data)\n",
        "\n",
        "n = len(data)\n",
        "\n",
        "q3_percentile = (n-1) * 0.75 + 1\n",
        "j3, h3 = divmod(q3_percentile, 1)\n",
        "q3 = (1-h3) * sorted_data[int(j3) - 1] + h3 * sorted_data[int(j3)]\n",
        "q3"
      ],
      "metadata": {
        "colab": {
          "base_uri": "https://localhost:8080/"
        },
        "id": "bFW7AOnIp5p9",
        "outputId": "751a32d3-a9e4-41cf-9386-68af7c6021a0"
      },
      "execution_count": 40,
      "outputs": [
        {
          "output_type": "execute_result",
          "data": {
            "text/plain": [
              "np.float64(132.0)"
            ]
          },
          "metadata": {},
          "execution_count": 40
        }
      ]
    },
    {
      "cell_type": "code",
      "source": [
        "import numpy as np\n",
        "\n",
        "data = np.array([155,126,27,82,115,140,73,92,110,134])\n",
        "\n",
        "q1 = np.percentile(data, 25)\n",
        "q2= np.percentile(data, 50)\n",
        "q3 = np.percentile(data, 75)\n",
        "\n",
        "print(q1, q2, q3)\n"
      ],
      "metadata": {
        "colab": {
          "base_uri": "https://localhost:8080/"
        },
        "id": "Qy9kHJ6gqlVN",
        "outputId": "daefc44c-c908-4c50-9b95-313fcffa26f7"
      },
      "execution_count": 41,
      "outputs": [
        {
          "output_type": "stream",
          "name": "stdout",
          "text": [
            "84.5 112.5 132.0\n"
          ]
        }
      ]
    },
    {
      "cell_type": "code",
      "source": [
        "#데이터에 대응하는 백분위 구하기\n",
        "import numpy as np\n",
        "import scipy.stats as sp\n",
        "\n",
        "percentiles = np.array([sp.percentileofscore(data, i ,kind = 'rank') for i in data])\n",
        "print(percentiles)"
      ],
      "metadata": {
        "colab": {
          "base_uri": "https://localhost:8080/"
        },
        "id": "G9mjzXhMtQJ7",
        "outputId": "a87bba99-cc9b-457c-80ea-ea07c558a395"
      },
      "execution_count": 42,
      "outputs": [
        {
          "output_type": "stream",
          "name": "stdout",
          "text": [
            "[100.  70.  10.  30.  60.  90.  20.  40.  50.  80.]\n"
          ]
        }
      ]
    },
    {
      "cell_type": "markdown",
      "source": [
        "샤피로윌크 검정 : shapiro(data)\n",
        "\n",
        "- 표본 크기가 50개 이하인 작은 데이터들의 정규성 검정을 위해 고안된 방법\n",
        "- 매우 민감해서 데이터의 분포가 타겟 분포와 조금만 달라도 p-val가 작게 나와 귀무가서링 기각될 수 있다"
      ],
      "metadata": {
        "id": "6m6uuGbvt_29"
      }
    },
    {
      "cell_type": "markdown",
      "source": [
        "카이제곱 검정\n",
        "- 표본 분산 검정\n",
        "- 카이젭곱 독립성 검정\n",
        "- 카이제곱 동질성 검정\n",
        "- 카이제곱 적합도 검정"
      ],
      "metadata": {
        "id": "szJ2ac9Mut5b"
      }
    },
    {
      "cell_type": "markdown",
      "source": [],
      "metadata": {
        "id": "4CJHCr6Outt_"
      }
    },
    {
      "cell_type": "code",
      "source": [
        "import numpy as np\n",
        "\n",
        "sample = [10.67, 9.92, 9.62, 9.53, 9.14, 9.74, 8.45, 12.65, 11.47, 8.62]\n",
        "n = len(sample)\n",
        "var = np.var(sample, ddof = 1)\n",
        "t = (n-1) * (var) / 1.3"
      ],
      "metadata": {
        "id": "dc1T9P2ftoET"
      },
      "execution_count": 43,
      "outputs": []
    },
    {
      "cell_type": "code",
      "source": [
        "t"
      ],
      "metadata": {
        "colab": {
          "base_uri": "https://localhost:8080/"
        },
        "id": "0OOnwx3k6MU_",
        "outputId": "75cd392f-e4f6-4517-e51d-a4260657a983"
      },
      "execution_count": 44,
      "outputs": [
        {
          "output_type": "execute_result",
          "data": {
            "text/plain": [
              "np.float64(11.626530769230774)"
            ]
          },
          "metadata": {},
          "execution_count": 44
        }
      ]
    },
    {
      "cell_type": "code",
      "source": [
        "from scipy.stats import chi2\n",
        "\n",
        "p = 1 - chi2.cdf(t, df = n-1)\n",
        "p"
      ],
      "metadata": {
        "colab": {
          "base_uri": "https://localhost:8080/"
        },
        "id": "KTRPqypn6Mu1",
        "outputId": "25b87575-89a4-4bc5-edd5-c094791a21c6"
      },
      "execution_count": 47,
      "outputs": [
        {
          "output_type": "execute_result",
          "data": {
            "text/plain": [
              "np.float64(0.23519165145589116)"
            ]
          },
          "metadata": {},
          "execution_count": 47
        }
      ]
    },
    {
      "cell_type": "code",
      "source": [],
      "metadata": {
        "id": "G2TJuT_E6QZL"
      },
      "execution_count": null,
      "outputs": []
    }
  ]
}
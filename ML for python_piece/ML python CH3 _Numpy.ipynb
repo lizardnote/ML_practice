{
 "cells": [
  {
   "cell_type": "markdown",
   "id": "851476b3",
   "metadata": {},
   "source": [
    "## CH3. Numpy\n",
    "\n",
    "- 3.1 넘파이 라이브러리 가져오기\n",
    "- 3.2 넘파이와 리스트\n",
    "- 3.3 넘파이 벡터 생성\n",
    "- 3.4 넘파이 행렬 생성\n",
    "- 3.5 넘파이 산술연산\n",
    "- 3.6 넘파이 형 변환\n",
    "- 3.7 넘파이 브로드캐스트\n",
    "- 3.8 넘파이 전치행렬\n",
    "- 3.9 넘파이 행렬 곱\n",
    "- 3.10 행렬 원소 접근\n",
    "- 3.11 넘파이 이터레이터\n",
    "- 3.12 넘파이 유용한 함수\n",
    "- 3.13 정리"
   ]
  },
  {
   "cell_type": "markdown",
   "id": "c552f0b6",
   "metadata": {},
   "source": [
    "### 3.1 넘파이 라이브러리 가져오기\n",
    "\n",
    "- import numpy as np"
   ]
  },
  {
   "cell_type": "code",
   "execution_count": 1,
   "id": "167b6a5b",
   "metadata": {},
   "outputs": [],
   "source": [
    "import numpy as np"
   ]
  },
  {
   "cell_type": "markdown",
   "id": "26648ca5",
   "metadata": {},
   "source": [
    "### 3.2 넘파이와 리스트(numpy vs list)"
   ]
  },
  {
   "cell_type": "code",
   "execution_count": 3,
   "id": "c808da3a",
   "metadata": {},
   "outputs": [
    {
     "data": {
      "text/plain": [
       "[[1, 0], [0, 1], [1, 1], [1, 1]]"
      ]
     },
     "execution_count": 3,
     "metadata": {},
     "output_type": "execute_result"
    }
   ],
   "source": [
    "# 예제 3.1 \n",
    "\n",
    "#리스트 연산\n",
    "A = [[1,0],[0,1]]\n",
    "B = [[1,1],[1,1]]\n",
    "A + B"
   ]
  },
  {
   "cell_type": "markdown",
   "id": "7fdc73c7",
   "metadata": {},
   "source": [
    "위와 같은 리스트 연산은 합이 아닌 리스트가 추가된(append) 결과를 반환한다."
   ]
  },
  {
   "cell_type": "code",
   "execution_count": 6,
   "id": "a1e00d54",
   "metadata": {},
   "outputs": [
    {
     "data": {
      "text/plain": [
       "array([[2, 1],\n",
       "       [1, 2]])"
      ]
     },
     "execution_count": 6,
     "metadata": {},
     "output_type": "execute_result"
    }
   ],
   "source": [
    "#행렬 연산\n",
    "\n",
    "import numpy as np\n",
    "A = np.array([[1,0],[0,1]])\n",
    "B = np.array([[1,1],[1,1]])\n",
    "A + B\n"
   ]
  },
  {
   "cell_type": "markdown",
   "id": "83183e42",
   "metadata": {},
   "source": [
    "반면 Numpy로 정의된 행렬A, B를 보면 우리가 원하는 행렬 연산 결과를 반환한다.\n",
    "행렬을 표현, 연산하려면 Numpy를 이용해 행렬을 만들어준다.\n",
    "\n",
    "**머신러닝과 딥러닝을 구현할 때 다양한 행렬 연산을 하려면 이 점이 무엇보다 중요하다!!**"
   ]
  },
  {
   "cell_type": "markdown",
   "id": "f8ac25c7",
   "metadata": {},
   "source": [
    "### 3.3 넘파이 벡터 생성\n",
    "\n",
    "- np.array() : 넘파이 이용해 1차원 백터 생성\n",
    "    - np.array()는 리스트를 인수로 받아 배열 형태의 numpy.ndarry 타입을 리턴한다.\n",
    "\n",
    "- A.shape : 벡터의 형상(shape) 확인\n",
    "- A.ndim : 벡터의 차원(dimension) 확인"
   ]
  },
  {
   "cell_type": "code",
   "execution_count": 15,
   "id": "b0d4c487",
   "metadata": {},
   "outputs": [
    {
     "name": "stdout",
     "output_type": "stream",
     "text": [
      "A == [1 2 3] , B == [4 5 6]\n",
      "vector A shape == (3,) , vector B shape == (3,)\n",
      "vector A dimension == 1 , vector B dimension == 1\n"
     ]
    }
   ],
   "source": [
    "# 예제 3.2 넘파이 벡터 생성, 형상 및 차원 확인\n",
    "\n",
    "import numpy as np\n",
    "\n",
    "A = np.array([1,2,3])\n",
    "B = np.array([4,5,6])\n",
    "print(\"A ==\", A ,\", B ==\", B)\n",
    "print(\"vector A shape ==\", A.shape, \", vector B shape ==\", B.shape)\n",
    "print(\"vector A dimension ==\", A.ndim, \", vector B dimension ==\", B.ndim)\n"
   ]
  },
  {
   "cell_type": "markdown",
   "id": "7065fc6d",
   "metadata": {},
   "source": [
    "### 3.4 넘파이 행렬(matrix, 2차원 배열) 생성\n",
    "\n",
    "- 벡터를 만들 때와 다르게 행렬에서 1개 ROW 정의 시 np.array() 안에서 다시 대괄호를 사용한다"
   ]
  },
  {
   "cell_type": "code",
   "execution_count": 23,
   "id": "e45d7b9e",
   "metadata": {},
   "outputs": [
    {
     "name": "stdout",
     "output_type": "stream",
     "text": [
      "matrix A =  [[1 2 3]\n",
      " [4 5 6]]\n",
      "matrix B =  [[-1 -2 -3]\n",
      " [-4 -5 -6]]\n",
      "matrix A shape ==  (2, 3) , matirx B shape == (2, 3)\n",
      "matrix A dimension ==  2 , matirx B dimension == 2\n"
     ]
    }
   ],
   "source": [
    "#예제 3.3\n",
    "\n",
    "import numpy as np\n",
    "\n",
    "A = np.array([[1,2,3],[4,5,6]])\n",
    "B = np.array([[-1, -2, -3],[-4, -5, -6]])\n",
    "\n",
    "print(\"matrix A = \", A)\n",
    "print(\"matrix B = \", B)\n",
    "print(\"matrix A shape == \", A.shape, \", matirx B shape ==\", B.shape)\n",
    "print(\"matrix A dimension == \", A.ndim, \", matirx B dimension ==\", B.ndim)"
   ]
  },
  {
   "cell_type": "markdown",
   "id": "d9cb5373",
   "metadata": {},
   "source": [
    "#### Numpy data type\n",
    "\n",
    "- 데이터 형태 지정하기 : np.array([[...],[...]], **dtype=np.Type**)\n",
    "- 데이터 형태 확인하기 : object.**dtype**\n",
    "- 데이터 형태 변환하기 : object.**astype(np.Type)**"
   ]
  },
  {
   "cell_type": "markdown",
   "id": "8a63fe86",
   "metadata": {},
   "source": [
    "### 3.5 넘파이 산술연산\n"
   ]
  },
  {
   "cell_type": "code",
   "execution_count": 26,
   "id": "011c17f9",
   "metadata": {},
   "outputs": [
    {
     "name": "stdout",
     "output_type": "stream",
     "text": [
      "A== [1 2 3] , B== [4 5 6]\n",
      "+ -->  [5 7 9]\n",
      "- -->  [-3 -3 -3]\n",
      "* -->  [ 4 10 18]\n",
      "/ -->  [0.25 0.4  0.5 ]\n"
     ]
    }
   ],
   "source": [
    "#예제3.4 \n",
    "#두 행렬 연산 시 대응되는 원소의 개수가 반드시 같아야 한다\n",
    "\n",
    "import numpy as np\n",
    "\n",
    "A = np.array([1,2,3])\n",
    "B = np.array([4,5,6])\n",
    "\n",
    "print(\"A==\", A, \", B==\", B)\n",
    "print(\"+ --> \", A+B)\n",
    "print(\"- --> \", A-B)\n",
    "print(\"* --> \", A*B)\n",
    "print(\"/ --> \", A/B)"
   ]
  },
  {
   "cell_type": "markdown",
   "id": "9bec116c",
   "metadata": {},
   "source": [
    "### 3.6 넘파이 형 변환(Reshape)\n"
   ]
  },
  {
   "cell_type": "code",
   "execution_count": 31,
   "id": "3b04b8ce",
   "metadata": {},
   "outputs": [
    {
     "name": "stdout",
     "output_type": "stream",
     "text": [
      "(3,)\n",
      "[1 2 3]\n",
      "(1, 3)\n",
      "[[1 2 3]]\n",
      "(2, 3)\n",
      "[[1 2 3]\n",
      " [4 5 6]]\n",
      "(3, 2)\n",
      "[[1 2]\n",
      " [3 4]\n",
      " [5 6]]\n"
     ]
    }
   ],
   "source": [
    "#예제 3.5\n",
    "\n",
    "import numpy as np\n",
    "\n",
    "C = np.array([1,2,3])\n",
    "print(C.shape)\n",
    "print(C)\n",
    "\n",
    "C = C.reshape(1,3)\n",
    "print(C.shape)\n",
    "print(C)\n",
    "\n",
    "D = np.array([[1,2,3],[4,5,6]]) #2*3 형태의 행렬\n",
    "print(D.shape)\n",
    "print(D)\n",
    "\n",
    "D = D.reshape(3,2) #reshape 메서드를 이용해서 3*2 행렬로 변경\n",
    "print(D.shape)\n",
    "print(D)"
   ]
  },
  {
   "cell_type": "markdown",
   "id": "166fc0ca",
   "metadata": {},
   "source": [
    "C.shape는 메서드를 통해 **1X3 형태의 행렬**을 나타냄 <br>\n",
    "D.shape는 메서드를 통해 **3X2 형태의 행렬**을 나타냄"
   ]
  },
  {
   "cell_type": "markdown",
   "id": "ba832377",
   "metadata": {},
   "source": [
    "- reshape(-1, XXX)\n",
    "    - 해당 메서드의 두 번째 인수 XXX값으로 주어지는 coloum을 가지는 행렬로 형 변환"
   ]
  },
  {
   "cell_type": "code",
   "execution_count": 35,
   "id": "7331b7dd",
   "metadata": {},
   "outputs": [
    {
     "name": "stdout",
     "output_type": "stream",
     "text": [
      "(3, 4)\n",
      "B shape ==  (4, 3)\n",
      "[[  1   2   3]\n",
      " [  4  10  20]\n",
      " [ 30  40 100]\n",
      " [200 300 400]]\n",
      "C reshape == (2, 6)\n",
      "[[  1   2   3   4  10  20]\n",
      " [ 30  40 100 200 300 400]]\n"
     ]
    }
   ],
   "source": [
    "#예제 3.6 행렬 형 변환 reshape(-1, ...)\n",
    "\n",
    "import numpy as np\n",
    "\n",
    "A= np.array([[1,2,3,4],[10,20,30,40],[100,200,300,400]])\n",
    "print(A.shape)\n",
    "\n",
    "#np.reshape(-1,3) 형 변환\n",
    "\n",
    "B = A.reshape(-1,3)\n",
    "print(\"B shape == \", B.shape)\n",
    "print(B)\n",
    "\n",
    "#np.reshape(-1,6)\n",
    "\n",
    "C= A.reshape(-1, 6)\n",
    "print(\"C reshape ==\", C.shape)\n",
    "print(C)"
   ]
  },
  {
   "cell_type": "markdown",
   "id": "247ae11c",
   "metadata": {},
   "source": [
    "### 3.7 Numpy Broadcast 넘파이 브로드캐스트\n",
    "\n",
    "- 행렬의 사칙연산은 기본적으로 두 행렬의 크기가 동일한 경우에만 가능\n",
    "- **Numpy**에서는 **크기가 다른 행렬**도 사칙연산이 가능하게 할 수 있음 -> Broadcast\n",
    "- **Broadcast : 차원이 작은 쪽이 큰 쪽에 맞추어 행 단위로 반복적 크기를 확장한다**\n",
    "    - **단 행렬 곱 연산에는 적용 불가!! 오직 사칙연산만 가능하다**\n"
   ]
  },
  {
   "cell_type": "code",
   "execution_count": 38,
   "id": "d5bc4423",
   "metadata": {},
   "outputs": [
    {
     "name": "stdout",
     "output_type": "stream",
     "text": [
      "[[6 7]\n",
      " [8 9]]\n",
      "[[5 7]\n",
      " [7 9]]\n"
     ]
    }
   ],
   "source": [
    "#예제 3.7\n",
    "\n",
    "import numpy as np\n",
    "\n",
    "A = np.array([[1,2], [3,4]]) #행렬 2X2\n",
    "B = 5                        #스칼라\n",
    "print(A+B)\n",
    "\n",
    "C = np.array([[1,2],[3,4]])  #행렬 2X2\n",
    "D = np.array([4,5])          #행렬 1X2\n",
    "print(C+D)"
   ]
  },
  {
   "cell_type": "markdown",
   "id": "bcbeb9c5",
   "metadata": {},
   "source": [
    "### 3.8 넘파이 전치행렬(Transpose)"
   ]
  },
  {
   "cell_type": "code",
   "execution_count": 41,
   "id": "2520d3da",
   "metadata": {},
   "outputs": [
    {
     "name": "stdout",
     "output_type": "stream",
     "text": [
      "A shape:  (3, 2)\n",
      "B shape:  (2, 3)\n",
      "[[1 2]\n",
      " [3 4]\n",
      " [5 6]]\n",
      "[[1 3 5]\n",
      " [2 4 6]]\n"
     ]
    }
   ],
   "source": [
    "# 예제 3.8\n",
    "\n",
    "import numpy as np\n",
    "\n",
    "A= np.array([[1,2],[3,4],[5,6]])\n",
    "B= A.T\n",
    "\n",
    "print(\"A shape: \", A.shape)\n",
    "print(\"B shape: \", B.shape)\n",
    "print(A)\n",
    "print(B)"
   ]
  },
  {
   "cell_type": "code",
   "execution_count": 46,
   "id": "f5d5d8f0",
   "metadata": {},
   "outputs": [
    {
     "name": "stdout",
     "output_type": "stream",
     "text": [
      "[1 2 3 4 5] (5,)\n",
      "[1 2 3 4 5] (5,)\n",
      "Eshape :  (1, 5)\n",
      "Fshape:  (5, 1)\n"
     ]
    }
   ],
   "source": [
    "#예제 3.9 \n",
    "\n",
    "import numpy as np\n",
    "\n",
    "C = np.array([1,2,3,4,5])\n",
    "D = C.T\n",
    "\n",
    "print(C, C.shape)\n",
    "print(D, D.shape)\n",
    "\n",
    "\n",
    "E= C.reshape(1,5)\n",
    "F= E.T\n",
    "\n",
    "print(\"Eshape : \", E.shape)\n",
    "print(\"Fshape: \", F.shape)"
   ]
  },
  {
   "cell_type": "markdown",
   "id": "d889cfc8",
   "metadata": {},
   "source": [
    "**Vector 벡터에 Transpose 연산(C.T)을 수행해도 계속 Vector로 남는다**<br>\n",
    "    : 벡터는 열과 행을 구별하지 않는 1차원이기 때문에<br>\n",
    "       전치행렬을 만드려고 해도 열과 행을 구분할 수 없기 때문\n",
    "      \n",
    "**Vector를 행렬로 전치하고 싶다면?**<br>\n",
    "   : reshape()를 이용해 강제로 행렬로 변환한 뒤, reshape() 메서드 사용"
   ]
  },
  {
   "cell_type": "markdown",
   "id": "29d29a74",
   "metadata": {},
   "source": [
    "### 3.9 넘파이 행렬 곱(Matrix Multiplication)\n",
    "\n",
    "- 행렬 곱 : **np.dot(A, B)** 으로 나타낸다\n",
    "- 행렬 곱은 **A의 열 column = B의 행 row**가 같아야 가능하다"
   ]
  },
  {
   "cell_type": "code",
   "execution_count": 51,
   "id": "9e74a06d",
   "metadata": {},
   "outputs": [
    {
     "name": "stdout",
     "output_type": "stream",
     "text": [
      "Ashape :  (2, 3) , Bshape :  (3, 2) , Cshape :  (2, 2)\n",
      "[[-22 -28]\n",
      " [-49 -64]]\n"
     ]
    }
   ],
   "source": [
    "#예제 3.10\n",
    "\n",
    "import numpy as np\n",
    "\n",
    "A= np.array([[1,2,3],[4,5,6]])\n",
    "B= np.array([[-1,-2],[-3,-4],[-5,-6]])\n",
    "\n",
    "C= np.dot(A, B)\n",
    "\n",
    "print(\"Ashape : \", A.shape, \", Bshape : \", B.shape, \", Cshape : \", C.shape)\n",
    "\n",
    "print(C)"
   ]
  },
  {
   "cell_type": "markdown",
   "id": "1152b0c1",
   "metadata": {},
   "source": [
    "### 3.10 행렬 원소 접근(Indexing, Slicing)\n"
   ]
  },
  {
   "cell_type": "code",
   "execution_count": 54,
   "id": "88e00ccf",
   "metadata": {
    "scrolled": true
   },
   "outputs": [
    {
     "name": "stdout",
     "output_type": "stream",
     "text": [
      "A.shape =  (3, 2)\n",
      "[[10 20]\n",
      " [30 40]\n",
      " [50 60]]\n",
      "A[0,0] :  10\n",
      "A[2,1] :  60\n",
      "A[:0] :  []\n",
      "A[0:-1, 1:2] :  [[20]\n",
      " [40]]\n",
      "A[:,:] :  [[10 20]\n",
      " [30 40]\n",
      " [50 60]]\n"
     ]
    }
   ],
   "source": [
    "# 예제 3.11\n",
    "\n",
    "import numpy as np\n",
    "\n",
    "A = np.array([[10,20], [30,40], [50,60]])\n",
    "print('A.shape = ', A.shape)\n",
    "print(A)\n",
    "\n",
    "#[행 인덱스: 열 인덱스] 혼동 주의\n",
    "print(\"A[0,0] : \", A[0,0]) # 행의 0 인덱스, 열의 0 인덱스\n",
    "print(\"A[2,1] : \", A[2,1]) # 행의 2 인덱스, 열의 1 인덱스\n",
    "print(\"A[:0] : \", A[:0]) # 행의 모든 인덱스, 열의 0 인덱스\n",
    "print(\"A[0:-1, 1:2] : \", A[0:-1,1:2]) \n",
    "# 행의 0인덱스~ -1 인덱스 = 모든 인덱스, 열의 1 인덱스 ~ 2 인덱스\n",
    "print(\"A[:,:] : \", A[:,:])\n",
    "#행의 모든 인덱스, 열의 모든 인덱스\n"
   ]
  },
  {
   "cell_type": "markdown",
   "id": "c7ec233e",
   "metadata": {},
   "source": [
    "- 4번째 출력 값이 [ [20] [40] ] 으로 출력된 이유\n",
    "    - 단 하나의 원소가 추출되더라도 범위를 지정한 슬라이싱으로 추출되었다는 것을 나타내기 위함"
   ]
  },
  {
   "cell_type": "markdown",
   "id": "38781889",
   "metadata": {},
   "source": [
    "### 3.11 넘파이 이터레이터(Iterator)\n",
    "\n",
    "- 행렬의 모든 원소를 처음부터 끝까지 하나씩 가져올 때는 **Iterator** 방법을 가장 많이 사용한다."
   ]
  },
  {
   "cell_type": "code",
   "execution_count": 63,
   "id": "56836626",
   "metadata": {},
   "outputs": [],
   "source": [
    "#3.12 넘파이 이터레이터 사용법\n",
    "\n",
    "import numpy as np\n",
    "\n",
    "A = np.array([[10,20,30,40], [50,60,70,80]])      # 행렬 A 생성\n",
    "it = np.nditer(A, flags=['multi_index'], op_flags=['readwrite'])\n",
    "\n",
    "#flags=['multi_index'] : iterator 생성 후 반복할때 행렬처럼 (row, column) 형태의 multi_index 형태로 동작\n",
    "#op_flags = ['readwrite'] : iterator를 R/W 형태로 생성"
   ]
  },
  {
   "cell_type": "markdown",
   "id": "d4b1a64f",
   "metadata": {},
   "source": [
    "- 행렬 A에 대한 이터레이터 변수it에 저장\n",
    "- it는 행렬의 첫 번째 원소를 가리킴 -> 처음부터 끝까지 순차적으로 가리키는 포인터 역할을 수행\n",
    "- flags=['multi_index'] : 이터레이터 생성 후 반복할 때 행렬처럼 (행, 열) 형태를 가지는 multi_index 형태로 동작하라는 의미\n",
    "- op_flags=['readwrite']: 이터레이터를 Read/Write 형태로 생성시킨다는 뜻"
   ]
  },
  {
   "cell_type": "code",
   "execution_count": 64,
   "id": "38a43cbd",
   "metadata": {},
   "outputs": [
    {
     "name": "stdout",
     "output_type": "stream",
     "text": [
      "index =  (0, 0) , value =  10\n",
      "index =  (0, 1) , value =  20\n",
      "index =  (0, 2) , value =  30\n",
      "index =  (0, 3) , value =  40\n",
      "index =  (1, 0) , value =  50\n",
      "index =  (1, 1) , value =  60\n",
      "index =  (1, 2) , value =  70\n",
      "index =  (1, 3) , value =  80\n"
     ]
    }
   ],
   "source": [
    "import numpy as np\n",
    "\n",
    "A = np.array([[10,20,30,40], [50,60,70,80]])      # 행렬 A 생성\n",
    "it = np.nditer(A, flags=['multi_index'], op_flags=['readwrite'])\n",
    "\n",
    "while not it.finished:   #it 변수를 이용해 A의 모든 원소 값을 가져옴\n",
    "    idx = it.multi_index #it 변수를 통해 행렬의 인덱스를 가져옴\n",
    "    print('index = ', idx, ', value = ', A[idx])  \n",
    "    it.iternext()        #이터레이터를 증가시켜 행렬의 다음 원소 값을 가리킨다"
   ]
  },
  {
   "cell_type": "markdown",
   "id": "c5dedd48",
   "metadata": {},
   "source": [
    "### 3.12 넘파이 유용한 함수(Useful Function)\n",
    "\n",
    "- np.random()\n",
    "- rand()\n",
    "- np.loadtxt()\n",
    "- np.max()\n",
    "- np.argmax()\n"
   ]
  },
  {
   "cell_type": "markdown",
   "id": "cfedd7ae",
   "metadata": {},
   "source": [
    "#### 3.12.(1) np.random.rand()\n",
    "- 0~1 사이의 임의의 실수 값을 얻고자 할 때 사용하는 넘파이 함수"
   ]
  },
  {
   "cell_type": "code",
   "execution_count": 68,
   "id": "aad1bd40",
   "metadata": {},
   "outputs": [
    {
     "name": "stdout",
     "output_type": "stream",
     "text": [
      "random_number1 == [0.62580697 0.59794086 0.51698658]\n",
      "random_number2 == [[0.96627015 0.2513955  0.00149838]]\n",
      "random_number3 == [[0.10887696]\n",
      " [0.12075298]\n",
      " [0.53810575]]\n"
     ]
    }
   ],
   "source": [
    "#예제 3.13\n",
    "\n",
    "import numpy as np\n",
    "\n",
    "number1 = np.random.rand(3)   #벡터로 생성 가능\n",
    "number2 = np.random.rand(1,3) #행렬로 생성 가능\n",
    "number3 = np.random.rand(3,1)\n",
    "\n",
    "print(\"random_number1 ==\", number1)\n",
    "print(\"random_number2 ==\", number2)\n",
    "print(\"random_number3 ==\", number3)"
   ]
  },
  {
   "cell_type": "markdown",
   "id": "2e426230",
   "metadata": {},
   "source": [
    "#### 3.12.(2) np.max(), np.argmax()\n",
    "- **np.max()** : 벡터나 행렬의 최댓값을 알기 위해 사용\n",
    "- **np.argmax()** : 벡터/행렬의 max()값의 인덱스 값을 알려주는 np.argmax() 함수도 제공"
   ]
  },
  {
   "cell_type": "code",
   "execution_count": 70,
   "id": "7aee0a91",
   "metadata": {},
   "outputs": [
    {
     "name": "stdout",
     "output_type": "stream",
     "text": [
      "np.max(A) =  6\n",
      "np.argmax(A) =  1\n"
     ]
    }
   ],
   "source": [
    "import numpy as np\n",
    "\n",
    "A = np.array([2, 6, 3, 1])\n",
    "\n",
    "print(\"np.max(A) = \", np.max(A))\n",
    "print(\"np.argmax(A) = \", np.argmax(A))"
   ]
  },
  {
   "cell_type": "markdown",
   "id": "364e605f",
   "metadata": {},
   "source": [
    "#### 3.12.(3) np.loadtxt()\n",
    "- 분리자로 구분된 파일에서 데이터를 읽어와서 행렬로 리턴해 주는 함수\n",
    "- np.loadtxt(첫 번째 인수 = 파일의 경로/ 두 번째 인수 = 분리자 / 세 번째 인수 = 데이터 타입)"
   ]
  },
  {
   "cell_type": "code",
   "execution_count": 73,
   "id": "84170c72",
   "metadata": {},
   "outputs": [],
   "source": [
    "#import numpy as np\n",
    "\n",
    "#loaded_data = np.loadtxt('./ch03_test.csv', delimiter=',', dtype=np.float32)\n",
    "\n",
    "#print('loaded_data.shape=', loaded_data.shape)\n",
    "#print(loaded_data)"
   ]
  },
  {
   "cell_type": "code",
   "execution_count": null,
   "id": "510a3a44",
   "metadata": {},
   "outputs": [],
   "source": []
  }
 ],
 "metadata": {
  "kernelspec": {
   "display_name": "Python 3 (ipykernel)",
   "language": "python",
   "name": "python3"
  },
  "language_info": {
   "codemirror_mode": {
    "name": "ipython",
    "version": 3
   },
   "file_extension": ".py",
   "mimetype": "text/x-python",
   "name": "python",
   "nbconvert_exporter": "python",
   "pygments_lexer": "ipython3",
   "version": "3.9.7"
  }
 },
 "nbformat": 4,
 "nbformat_minor": 5
}

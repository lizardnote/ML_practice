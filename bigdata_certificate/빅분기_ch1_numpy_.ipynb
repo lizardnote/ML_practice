{
  "nbformat": 4,
  "nbformat_minor": 0,
  "metadata": {
    "colab": {
      "provenance": [],
      "authorship_tag": "ABX9TyOry9VIcEEAxSs4kX8AkuOW",
      "include_colab_link": true
    },
    "kernelspec": {
      "name": "python3",
      "display_name": "Python 3"
    },
    "language_info": {
      "name": "python"
    }
  },
  "cells": [
    {
      "cell_type": "markdown",
      "metadata": {
        "id": "view-in-github",
        "colab_type": "text"
      },
      "source": [
        "<a href=\"https://colab.research.google.com/github/lizardnote/bigboonki/blob/main/%EB%B9%85%EB%B6%84%EA%B8%B0_ch1_numpy_.ipynb\" target=\"_parent\"><img src=\"https://colab.research.google.com/assets/colab-badge.svg\" alt=\"Open In Colab\"/></a>"
      ]
    },
    {
      "cell_type": "code",
      "execution_count": null,
      "metadata": {
        "colab": {
          "base_uri": "https://localhost:8080/"
        },
        "id": "I78LZAqPYOjL",
        "outputId": "57e1b94b-960b-43de-b0da-e2baaecf2be3"
      },
      "outputs": [
        {
          "output_type": "stream",
          "name": "stdout",
          "text": [
            "Mounted at /content/drive\n"
          ]
        }
      ],
      "source": [
        "#데이터셋 불러오기(로컬에서 불러오기)\n",
        "# from google.colab import files\n",
        "# uploaded = files.upload()\n",
        "\n",
        "#링크로 불러오기\n",
        "# import pandas as pd\n",
        "# df = pd.read_csv(\"https://raw.githubusercontent.com/YoungjinBD/data/main/mtcars.csv\")\n",
        "\n",
        "#구글드라이브 마운트\n",
        "from google.colab import drive\n",
        "drive.mount(\"/content/drive\")"
      ]
    },
    {
      "cell_type": "markdown",
      "source": [
        "#ch1. python 기초와 데이터 구조\n",
        "## 1-1.변수와 연산"
      ],
      "metadata": {
        "id": "QvAP3KR7dU7n"
      }
    },
    {
      "cell_type": "code",
      "source": [
        "#변수할당\n",
        "number = 10\n",
        "greeting = '안녕하세요'"
      ],
      "metadata": {
        "id": "tSmwUol2dUVe"
      },
      "execution_count": null,
      "outputs": []
    },
    {
      "cell_type": "code",
      "source": [
        "print(number, greeting)"
      ],
      "metadata": {
        "colab": {
          "base_uri": "https://localhost:8080/"
        },
        "id": "-YGJzja8cM0d",
        "outputId": "7584b09f-ced2-4d38-f7eb-5db45363b423"
      },
      "execution_count": null,
      "outputs": [
        {
          "output_type": "stream",
          "name": "stdout",
          "text": [
            "10 안녕하세요\n"
          ]
        }
      ]
    },
    {
      "cell_type": "code",
      "source": [
        "number = \"HI\""
      ],
      "metadata": {
        "id": "PbqpRdjVdrNz"
      },
      "execution_count": null,
      "outputs": []
    },
    {
      "cell_type": "code",
      "source": [
        "#데이터 타입 확인\n",
        "type(number)\n",
        "#df.column.dtype."
      ],
      "metadata": {
        "colab": {
          "base_uri": "https://localhost:8080/"
        },
        "id": "3588vrIdd0DS",
        "outputId": "b7ec81d5-9003-4523-9e90-4378b5759921"
      },
      "execution_count": null,
      "outputs": [
        {
          "output_type": "execute_result",
          "data": {
            "text/plain": [
              "str"
            ]
          },
          "metadata": {},
          "execution_count": 14
        }
      ]
    },
    {
      "cell_type": "markdown",
      "source": [
        "# ch1-3 Numpy\n",
        "### numpy 사용 함수 정리\n",
        "- np.array([1,2,3])\n",
        "- np.arange(10)\n",
        "- np.linspace() : 범위 균등 분할\n",
        "- np.repeat([1,2,3], 2) : 반복 -> 112233\n",
        "- np.tile([1,2,3],2) : 벡터 전체 반복 -> 123123\n",
        "- len(a) : 첫번째 차원의 길이 출력함\n",
        "- size(a) : 전체 요소 수 구하기\n",
        "- shape(a) : 차원의 크기\n",
        "- 슬라이싱\n",
        "  - a[-1] : 마지막 값\n",
        "  - a[::2] : 처음부터 끝까지 스텝 2\n",
        "  - a[1::2] : 1부터 끝까지 스텝 2\n",
        "- np.delete()\n",
        "- np.where() : 원소 위치 찾기\n",
        "- np.mean, np.sum, np.median, np.std\n",
        "- np.nan\n",
        "- np.column_stack / row_stack\n",
        "- up.concatenate()\n",
        "- np.resize()"
      ],
      "metadata": {
        "id": "3h2o1oIagbVR"
      }
    },
    {
      "cell_type": "code",
      "source": [
        "import numpy as np"
      ],
      "metadata": {
        "id": "V29F171uga00"
      },
      "execution_count": null,
      "outputs": []
    },
    {
      "cell_type": "markdown",
      "source": [
        "### Vector 생성하기\n",
        "- 배열 생성하면서 채우기\n",
        "- 빈 배열 선언 후 채우기"
      ],
      "metadata": {
        "id": "ZSFiSlH_hYDc"
      }
    },
    {
      "cell_type": "code",
      "source": [
        "a = np.array([1,2,3,4,5])   #numeric vector\n",
        "b = np.array(['apple', 'banana','orange'])  #string vector\n",
        "c = np.array([True, False, True, False])    #boolen vector"
      ],
      "metadata": {
        "id": "qJ22ljb7d2dY"
      },
      "execution_count": null,
      "outputs": []
    },
    {
      "cell_type": "code",
      "source": [
        "print(a)\n",
        "print(b)\n",
        "print(c)"
      ],
      "metadata": {
        "colab": {
          "base_uri": "https://localhost:8080/"
        },
        "id": "j-CE_XkagvVa",
        "outputId": "ad2b2d94-1075-4b25-c835-83907a109e0e"
      },
      "execution_count": null,
      "outputs": [
        {
          "output_type": "stream",
          "name": "stdout",
          "text": [
            "[1 2 3 4 5]\n",
            "['apple' 'banana' 'orange']\n",
            "[ True False  True False]\n"
          ]
        }
      ]
    },
    {
      "cell_type": "markdown",
      "source": [
        "np.empty()\n",
        "np.zeros()"
      ],
      "metadata": {
        "id": "22Yfp9XQhyoR"
      }
    },
    {
      "cell_type": "code",
      "source": [
        "x = np.empty(3)  #빈 배열 생성\n",
        "print(\"빈 벡터 생성 : \", x)\n",
        "\n",
        "x[0] = 3\n",
        "x[1] = 5\n",
        "x[2] = 3\n",
        "print('채워진 벡터: ',  x)"
      ],
      "metadata": {
        "colab": {
          "base_uri": "https://localhost:8080/"
        },
        "id": "v55Ivt0IgzYC",
        "outputId": "39324562-6f59-4980-e34d-5c946aae48d9"
      },
      "execution_count": null,
      "outputs": [
        {
          "output_type": "stream",
          "name": "stdout",
          "text": [
            "빈 벡터 생성 :  [3. 5. 3.]\n",
            "채워진 벡터:  [3. 5. 3.]\n"
          ]
        }
      ]
    },
    {
      "cell_type": "code",
      "source": [
        "y = np.zeros(3)\n",
        "print(y)"
      ],
      "metadata": {
        "colab": {
          "base_uri": "https://localhost:8080/"
        },
        "id": "iQq3rzOKhqYn",
        "outputId": "63ac71d0-a1be-4a38-d4b7-c0de9ffd0c7e"
      },
      "execution_count": null,
      "outputs": [
        {
          "output_type": "stream",
          "name": "stdout",
          "text": [
            "[0. 0. 0.]\n"
          ]
        }
      ]
    },
    {
      "cell_type": "markdown",
      "source": [
        "#### 배열 생성하면서 채우기\n",
        "- np.array() : 함수로 직접 입력\n",
        "- np.arrange() : 함수를 사용해서 일정한 간격의 숫자 배열 생성\n",
        "  - start, stop, step, dtype=None / start, step 생략가능\n",
        "- np.linspace() : 함수를 사용해 지정한 범위를 균일하게 나눈 숫자 배열 생성\n",
        "  - start, stop, num, endpoint, retstep, dtype"
      ],
      "metadata": {
        "id": "fkXyhVY8iLID"
      }
    },
    {
      "cell_type": "code",
      "source": [
        "ar1 = np.arange(10)\n",
        "ar2 = np.arange(0,2,0.5)\n",
        "\n",
        "print(ar1)\n",
        "print(ar2)"
      ],
      "metadata": {
        "colab": {
          "base_uri": "https://localhost:8080/"
        },
        "id": "zx0w_q0thuZI",
        "outputId": "f3b27a88-5f48-4cad-a611-5c25fc8e3026"
      },
      "execution_count": null,
      "outputs": [
        {
          "output_type": "stream",
          "name": "stdout",
          "text": [
            "[0 1 2 3 4 5 6 7 8 9]\n",
            "[0.  0.5 1.  1.5]\n"
          ]
        }
      ]
    },
    {
      "cell_type": "code",
      "source": [
        "linear_space1 = np.linspace(0,1,5)\n",
        "print(linear_space1)\n",
        "\n",
        "linear_space2 = np.linspace(0, 1, 5, endpoint = False) #end값 1 미포함으로 계산\n",
        "print(\"endpoint 옵션 변경\", linear_space2)"
      ],
      "metadata": {
        "colab": {
          "base_uri": "https://localhost:8080/"
        },
        "id": "ILt66oiqi1c9",
        "outputId": "d4c2f578-497a-4c1b-e1fa-16321c76f6dc"
      },
      "execution_count": null,
      "outputs": [
        {
          "output_type": "stream",
          "name": "stdout",
          "text": [
            "[0.   0.25 0.5  0.75 1.  ]\n",
            "endpoint 옵션 변경 [0.  0.2 0.4 0.6 0.8]\n"
          ]
        }
      ]
    },
    {
      "cell_type": "markdown",
      "source": [
        "#### 배열 반복하기\n",
        "- np.repeat(a, repeats, axis=None)\n",
        "  - a : 반복할 요소, repeats : 반복 횟수, axis = 축 지정\n",
        "- np.tile(a, reps)\n",
        "  - a : 반복할 배열, reps : 반복 횟수"
      ],
      "metadata": {
        "id": "3SNiu2VakRjy"
      }
    },
    {
      "cell_type": "code",
      "source": [
        "repeated_vals_1 = np.repeat(8,4)\n",
        "print(\"repeated 8 four times:\", repeated_vals_1)\n",
        "\n",
        "repeated_vals_2 = np.repeat([1,2,4], 2)   #[1,2,4] 2번 반복\n",
        "print(\"repeated 8 four times:\", repeated_vals_2)"
      ],
      "metadata": {
        "colab": {
          "base_uri": "https://localhost:8080/"
        },
        "id": "v93cpcI7ju4h",
        "outputId": "bbc90b6f-0378-4136-f8c3-ac1260f77ce8"
      },
      "execution_count": null,
      "outputs": [
        {
          "output_type": "stream",
          "name": "stdout",
          "text": [
            "repeated 8 four times: [8 8 8 8]\n",
            "repeated 8 four times: [1 1 2 2 4 4]\n"
          ]
        }
      ]
    },
    {
      "cell_type": "code",
      "source": [
        "repeated_whole = np.tile([1,2,4],2)\n",
        "print(repeated_whole)"
      ],
      "metadata": {
        "colab": {
          "base_uri": "https://localhost:8080/"
        },
        "id": "2jBye2j8kj-f",
        "outputId": "1970117a-91cb-42be-e56a-428a33e75207"
      },
      "execution_count": null,
      "outputs": [
        {
          "output_type": "stream",
          "name": "stdout",
          "text": [
            "[1 2 4 1 2 4]\n"
          ]
        }
      ]
    },
    {
      "cell_type": "markdown",
      "source": [
        "#### 벡터의 길이\n",
        "- len() : 1차원 배열에서는 배열의 요소 / 배열의 첫번째 차원의 길이\n",
        "- a.shape : 각 차원의 크기를 튜플로 반환\n",
        "- a.size : 배열의 전체 요소 수"
      ],
      "metadata": {
        "id": "fu9ZMAMjlvsT"
      }
    },
    {
      "cell_type": "code",
      "source": [
        "a = np.array([1,2,3,4,5])\n",
        "print(len(a))\n",
        "print(a.shape)\n",
        "print(a.size)"
      ],
      "metadata": {
        "colab": {
          "base_uri": "https://localhost:8080/"
        },
        "id": "66jwMAZflpvo",
        "outputId": "6f86f3d0-feaa-4340-b900-b26dc19959b7"
      },
      "execution_count": null,
      "outputs": [
        {
          "output_type": "stream",
          "name": "stdout",
          "text": [
            "5\n",
            "(5,)\n",
            "5\n"
          ]
        }
      ]
    },
    {
      "cell_type": "markdown",
      "source": [
        "#### 벡터 슬라이싱\n",
        "1) 인덱싱\n",
        "\n",
        "2) 슬라이싱 연산자\n",
        "\n",
        "3) 논리연산자, 조건문\n",
        "\n",
        "4) 논리연산자 혼합\n",
        "\n",
        "5) 필터링을 이용한 벡터 변경\n",
        "\n",
        "6) 조건을 만족하는 위치 탐색\n"
      ],
      "metadata": {
        "id": "HBlDhzjbmaUk"
      }
    },
    {
      "cell_type": "code",
      "source": [
        "np.random.seed(42)\n",
        "a = np.random.randint(1,21,10)  #랜덤한 int값 추출\n",
        "print(a)\n",
        "print(a[1]) #a배열 2번째 값 출력"
      ],
      "metadata": {
        "colab": {
          "base_uri": "https://localhost:8080/"
        },
        "id": "UGF68H8FmA5i",
        "outputId": "2db6853d-c439-40eb-cff4-883a87b3d659"
      },
      "execution_count": null,
      "outputs": [
        {
          "output_type": "stream",
          "name": "stdout",
          "text": [
            "[ 7 20 15 11  8  7 19 11 11  4]\n",
            "20\n"
          ]
        }
      ]
    },
    {
      "cell_type": "code",
      "source": [
        "print(a[2:5])\n",
        "print(a[[0,2,4]]) #인덱싱 안에 리스트 들어가도 가능"
      ],
      "metadata": {
        "colab": {
          "base_uri": "https://localhost:8080/"
        },
        "id": "L2MDq5c-nFot",
        "outputId": "f54018a9-dd9d-4532-d5db-736a2e146a14"
      },
      "execution_count": null,
      "outputs": [
        {
          "output_type": "stream",
          "name": "stdout",
          "text": [
            "[15 11  8]\n",
            "[ 7 15  8]\n"
          ]
        }
      ]
    },
    {
      "cell_type": "code",
      "source": [
        "print(np.delete(a,1))  #index = 1 값 제외하고 출력"
      ],
      "metadata": {
        "colab": {
          "base_uri": "https://localhost:8080/"
        },
        "id": "q9MhnTMKnVxy",
        "outputId": "3c75df71-ef70-4dd4-d8f2-052f83131595"
      },
      "execution_count": null,
      "outputs": [
        {
          "output_type": "stream",
          "name": "stdout",
          "text": [
            "[ 7 15 11  8  7 19 11 11  4]\n"
          ]
        }
      ]
    },
    {
      "cell_type": "code",
      "source": [
        "print(a[[1,1,3,2]]) #index 중복 선택 가능"
      ],
      "metadata": {
        "colab": {
          "base_uri": "https://localhost:8080/"
        },
        "id": "xuIC7xtOnzor",
        "outputId": "b283f7fe-5c99-4c09-afb4-7ce07477df73"
      },
      "execution_count": null,
      "outputs": [
        {
          "output_type": "stream",
          "name": "stdout",
          "text": [
            "[20 20 11 15]\n"
          ]
        }
      ]
    },
    {
      "cell_type": "code",
      "source": [
        "b = a[a>3] #비교 연산을 사용한 벡터 슬라이싱\n",
        "print(b)"
      ],
      "metadata": {
        "colab": {
          "base_uri": "https://localhost:8080/"
        },
        "id": "i9bfa3J8n6k2",
        "outputId": "9a3eb31b-5946-4e8b-a3db-35ac209a4729"
      },
      "execution_count": null,
      "outputs": [
        {
          "output_type": "stream",
          "name": "stdout",
          "text": [
            "[ 7 20 15 11  8  7 19 11 11  4]\n"
          ]
        }
      ]
    },
    {
      "cell_type": "code",
      "source": [
        "b = a[(a>2) & (a<9)]\n",
        "print(b)"
      ],
      "metadata": {
        "colab": {
          "base_uri": "https://localhost:8080/"
        },
        "id": "83U13_gmoKAO",
        "outputId": "56cff7c6-b59a-43ab-d1c1-e1330c6af9b2"
      },
      "execution_count": null,
      "outputs": [
        {
          "output_type": "stream",
          "name": "stdout",
          "text": [
            "[7 8 7 4]\n"
          ]
        }
      ]
    },
    {
      "cell_type": "code",
      "source": [
        "print(a[a==0])\n",
        "print(a[a!=0])"
      ],
      "metadata": {
        "colab": {
          "base_uri": "https://localhost:8080/"
        },
        "id": "cfq04AEGoYBZ",
        "outputId": "b7d79136-7af8-4f91-ca81-700383aed8c1"
      },
      "execution_count": null,
      "outputs": [
        {
          "output_type": "stream",
          "name": "stdout",
          "text": [
            "[]\n",
            "[ 7 20 15 11  8  7 19 11 11  4]\n"
          ]
        }
      ]
    },
    {
      "cell_type": "code",
      "source": [
        "print(~(a==8))\n",
        "print(a[~(a==8)])"
      ],
      "metadata": {
        "colab": {
          "base_uri": "https://localhost:8080/"
        },
        "id": "9gca-1ixoh_i",
        "outputId": "6b3395d7-95d6-4e6d-dd05-fcd844a20be9"
      },
      "execution_count": null,
      "outputs": [
        {
          "output_type": "stream",
          "name": "stdout",
          "text": [
            "[ True  True  True  True False  True  True  True  True  True]\n",
            "[ 7 20 15 11  7 19 11 11  4]\n"
          ]
        }
      ]
    },
    {
      "cell_type": "code",
      "source": [
        "a = np.array([5,10,15,20,25,30])\n",
        "a[a >= 10] = 10\n",
        "print(a)"
      ],
      "metadata": {
        "colab": {
          "base_uri": "https://localhost:8080/"
        },
        "id": "PsEBQvR7o2ZA",
        "outputId": "ed61314b-55e6-4a70-8f59-f929b9d1c331"
      },
      "execution_count": null,
      "outputs": [
        {
          "output_type": "stream",
          "name": "stdout",
          "text": [
            "[ 5 10 10 10 10 10]\n"
          ]
        }
      ]
    },
    {
      "cell_type": "code",
      "source": [
        "b = np.array([5,10,15,20,25,30])\n",
        "result = a < 11\n",
        "print(result)\n",
        "\n",
        "result = np.where(a < 11)\n",
        "print(result)"
      ],
      "metadata": {
        "colab": {
          "base_uri": "https://localhost:8080/"
        },
        "id": "c7jovA07t4x4",
        "outputId": "e15e20a5-f7d9-4322-b399-cc2277f91966"
      },
      "execution_count": null,
      "outputs": [
        {
          "output_type": "stream",
          "name": "stdout",
          "text": [
            "[ True  True False False False False]\n",
            "(array([0, 1]),)\n"
          ]
        }
      ]
    },
    {
      "cell_type": "markdown",
      "source": [
        "#### numpy 벡터 활용하기"
      ],
      "metadata": {
        "id": "6Fl29Znr8yer"
      }
    },
    {
      "cell_type": "code",
      "source": [
        "import numpy as np\n",
        "a = np.array([1,2,3,4,5])\n",
        "\n",
        "sum_a = np.sum(a)\n",
        "mean_a = np.mean(a)\n",
        "median_a = np.median(a)\n",
        "std_a = np.std(a, ddof = 1)\n",
        "var_a = np.var(a)\n",
        "\n",
        "print(sum_a, mean_a, median_a, std_a, var_a)"
      ],
      "metadata": {
        "id": "OZz4EE7RuOxn",
        "colab": {
          "base_uri": "https://localhost:8080/"
        },
        "outputId": "7b956ec5-b78a-4bbf-b86c-ee6007d52f23"
      },
      "execution_count": 2,
      "outputs": [
        {
          "output_type": "stream",
          "name": "stdout",
          "text": [
            "15 3.0 3.0 1.5811388300841898 2.0\n"
          ]
        }
      ]
    },
    {
      "cell_type": "markdown",
      "source": [
        "ddof : degree of freedom"
      ],
      "metadata": {
        "id": "v0YTEKDv9j_F"
      }
    },
    {
      "cell_type": "markdown",
      "source": [
        "#### nan 다루기\n",
        "- nan은 정의되지 않아 알 수 없는 값을 의미한다.\n",
        "- np.nan을 벡터에 추가하면 해당 위치에 nan이라는 이상치가 들어감\n",
        "- nan 과 None은 다르다 **"
      ],
      "metadata": {
        "id": "r0m_6VX49oiT"
      }
    },
    {
      "cell_type": "code",
      "source": [
        "a = np.array([20, np.nan, 13, 24 ,309])"
      ],
      "metadata": {
        "id": "RB4zSNKZ9FFH"
      },
      "execution_count": 3,
      "outputs": []
    },
    {
      "cell_type": "code",
      "source": [
        "np.mean(a)"
      ],
      "metadata": {
        "colab": {
          "base_uri": "https://localhost:8080/"
        },
        "id": "yksyrbKZ9x6i",
        "outputId": "022cec28-76f6-4a6b-fed1-50259ded69e1"
      },
      "execution_count": 5,
      "outputs": [
        {
          "output_type": "execute_result",
          "data": {
            "text/plain": [
              "np.float64(nan)"
            ]
          },
          "metadata": {},
          "execution_count": 5
        }
      ]
    },
    {
      "cell_type": "code",
      "source": [
        "np.nanmean(a)"
      ],
      "metadata": {
        "colab": {
          "base_uri": "https://localhost:8080/"
        },
        "id": "gIMRBlcy9y9A",
        "outputId": "d7025bd2-737f-4243-ae4f-1bfd3b71c4e8"
      },
      "execution_count": 6,
      "outputs": [
        {
          "output_type": "execute_result",
          "data": {
            "text/plain": [
              "np.float64(91.5)"
            ]
          },
          "metadata": {},
          "execution_count": 6
        }
      ]
    },
    {
      "cell_type": "code",
      "source": [
        "value = np.nan\n",
        "if np.isnan(value):\n",
        "  print(\"값이 nan입니다\")"
      ],
      "metadata": {
        "colab": {
          "base_uri": "https://localhost:8080/"
        },
        "id": "l5R6Qjiw910U",
        "outputId": "151b0027-bea9-4923-c071-2a774dfa1f15"
      },
      "execution_count": 9,
      "outputs": [
        {
          "output_type": "stream",
          "name": "stdout",
          "text": [
            "값이 nan입니다\n"
          ]
        }
      ]
    },
    {
      "cell_type": "code",
      "source": [
        "value+1  #수치연산은 가능하나 nan으로 출력함"
      ],
      "metadata": {
        "colab": {
          "base_uri": "https://localhost:8080/"
        },
        "id": "k3v1NpeM-VOI",
        "outputId": "6732c73c-1550-4cac-e807-33f6e178316f"
      },
      "execution_count": 10,
      "outputs": [
        {
          "output_type": "execute_result",
          "data": {
            "text/plain": [
              "nan"
            ]
          },
          "metadata": {},
          "execution_count": 10
        }
      ]
    },
    {
      "cell_type": "code",
      "source": [
        "value2 = None\n",
        "if value2 is None:\n",
        "  print(\"none 입니다.\")\n"
      ],
      "metadata": {
        "colab": {
          "base_uri": "https://localhost:8080/"
        },
        "id": "LExSkHC--ZY8",
        "outputId": "acb4acba-15fe-4fe6-a488-a89b9bac30e8"
      },
      "execution_count": 14,
      "outputs": [
        {
          "output_type": "stream",
          "name": "stdout",
          "text": [
            "none 입니다.\n"
          ]
        }
      ]
    },
    {
      "cell_type": "code",
      "source": [
        "value2 + 1 #수치연산 불가"
      ],
      "metadata": {
        "collapsed": true,
        "id": "RDexP01t-huP"
      },
      "execution_count": null,
      "outputs": []
    },
    {
      "cell_type": "markdown",
      "source": [
        "nan 지우기"
      ],
      "metadata": {
        "id": "1nhbrZ-h-6sz"
      }
    },
    {
      "cell_type": "code",
      "source": [
        "a_filtered = a[~np.isnan(a)]  #nan 값 삭제\n",
        "a_filtered"
      ],
      "metadata": {
        "colab": {
          "base_uri": "https://localhost:8080/"
        },
        "id": "3cUnkzvn-uA4",
        "outputId": "9c45a87b-71c5-4221-b3bf-059973ee0fa9"
      },
      "execution_count": 18,
      "outputs": [
        {
          "output_type": "execute_result",
          "data": {
            "text/plain": [
              "array([ 20.,  13.,  24., 309.])"
            ]
          },
          "metadata": {},
          "execution_count": 18
        }
      ]
    },
    {
      "cell_type": "markdown",
      "source": [
        "벡터 합치기"
      ],
      "metadata": {
        "id": "S6jeiSdb_V3y"
      }
    },
    {
      "cell_type": "code",
      "source": [
        "str_vec = np.array([\"사과\", \"배\", \"수박\", \"참외\"])\n",
        "str_vec"
      ],
      "metadata": {
        "colab": {
          "base_uri": "https://localhost:8080/"
        },
        "id": "TEZoa-zP_AVO",
        "outputId": "825fdd0f-6969-4478-dab5-61386bf923a7"
      },
      "execution_count": 19,
      "outputs": [
        {
          "output_type": "execute_result",
          "data": {
            "text/plain": [
              "array(['사과', '배', '수박', '참외'], dtype='<U2')"
            ]
          },
          "metadata": {},
          "execution_count": 19
        }
      ]
    },
    {
      "cell_type": "code",
      "source": [
        "mix_vec = np.array([\"사과\", 12, \"수박\", \"참외\"], dtype = str)  #다른 문자 타입이 들어가면 통일할 수 있는 타입으로 변경 후 벡터 저장\n",
        "mix_vec"
      ],
      "metadata": {
        "colab": {
          "base_uri": "https://localhost:8080/"
        },
        "id": "0uMJoayf_RzO",
        "outputId": "a11f5522-e598-430b-ed03-ed6a5395a93d"
      },
      "execution_count": 22,
      "outputs": [
        {
          "output_type": "execute_result",
          "data": {
            "text/plain": [
              "array(['사과', '12', '수박', '참외'], dtype='<U2')"
            ]
          },
          "metadata": {},
          "execution_count": 22
        }
      ]
    },
    {
      "cell_type": "markdown",
      "source": [
        "- np.concatenate( ) : 벡터 결함\n",
        "- np.column_stack( ) : 벡터 세로 결합\n",
        "- np.row_stack( ) : 벡터 가로 결합\n",
        "- np.resize( ) : 벡터 길이 조정 / 벡터 길이가 다른 경우 오류남 -> resize로 강제로 맞출 수 있음"
      ],
      "metadata": {
        "id": "hyNofWao_0IW"
      }
    },
    {
      "cell_type": "code",
      "source": [
        "combine_vec = np.concatenate((str_vec, mix_vec))\n",
        "combine_vec"
      ],
      "metadata": {
        "colab": {
          "base_uri": "https://localhost:8080/"
        },
        "id": "R5ouXFnr_eJW",
        "outputId": "1ac51f01-15e9-471f-e06c-6b783b77f404"
      },
      "execution_count": 24,
      "outputs": [
        {
          "output_type": "execute_result",
          "data": {
            "text/plain": [
              "array(['사과', '배', '수박', '참외', '사과', '12', '수박', '참외'], dtype='<U2')"
            ]
          },
          "metadata": {},
          "execution_count": 24
        }
      ]
    },
    {
      "cell_type": "code",
      "source": [
        "combine2_vec = np.column_stack((str_vec, mix_vec))\n",
        "combine2_vec"
      ],
      "metadata": {
        "colab": {
          "base_uri": "https://localhost:8080/"
        },
        "id": "xG9LwniL_xIZ",
        "outputId": "9c56ad34-5763-44ca-9dd0-51540605ca74"
      },
      "execution_count": 25,
      "outputs": [
        {
          "output_type": "execute_result",
          "data": {
            "text/plain": [
              "array([['사과', '사과'],\n",
              "       ['배', '12'],\n",
              "       ['수박', '수박'],\n",
              "       ['참외', '참외']], dtype='<U2')"
            ]
          },
          "metadata": {},
          "execution_count": 25
        }
      ]
    },
    {
      "cell_type": "code",
      "source": [
        "combine3_vec = np.row_stack((str_vec, mix_vec))\n",
        "combine3_vec"
      ],
      "metadata": {
        "colab": {
          "base_uri": "https://localhost:8080/"
        },
        "id": "sVeWg1SgAG2t",
        "outputId": "9eda2da0-758a-4ebb-97ed-09cd2c2c1674"
      },
      "execution_count": 26,
      "outputs": [
        {
          "output_type": "stream",
          "name": "stderr",
          "text": [
            "<ipython-input-26-2a2ef434848b>:1: DeprecationWarning: `row_stack` alias is deprecated. Use `np.vstack` directly.\n",
            "  combine3_vec = np.row_stack((str_vec, mix_vec))\n"
          ]
        },
        {
          "output_type": "execute_result",
          "data": {
            "text/plain": [
              "array([['사과', '배', '수박', '참외'],\n",
              "       ['사과', '12', '수박', '참외']], dtype='<U2')"
            ]
          },
          "metadata": {},
          "execution_count": 26
        }
      ]
    },
    {
      "cell_type": "code",
      "source": [
        "vec1 = np.arange(1,5)\n",
        "vec2 = np.arange(12,18)\n",
        "vec1 = np.resize(vec1, len(vec2))\n",
        "vec1"
      ],
      "metadata": {
        "colab": {
          "base_uri": "https://localhost:8080/"
        },
        "id": "3HvOJHlYAMOB",
        "outputId": "1e922b06-d9f2-4abb-b1d6-7207440253f8"
      },
      "execution_count": 28,
      "outputs": [
        {
          "output_type": "execute_result",
          "data": {
            "text/plain": [
              "array([1, 2, 3, 4, 1, 2])"
            ]
          },
          "metadata": {},
          "execution_count": 28
        }
      ]
    },
    {
      "cell_type": "code",
      "source": [
        "uneven_stacked = np.column_stack((vec1, vec2))\n",
        "uneven_stacked"
      ],
      "metadata": {
        "colab": {
          "base_uri": "https://localhost:8080/"
        },
        "id": "PT-sYvFfAwGE",
        "outputId": "3069ea45-ead4-48d9-95de-bc8b0eb19683"
      },
      "execution_count": 31,
      "outputs": [
        {
          "output_type": "execute_result",
          "data": {
            "text/plain": [
              "array([[ 1, 12],\n",
              "       [ 2, 13],\n",
              "       [ 3, 14],\n",
              "       [ 4, 15],\n",
              "       [ 1, 16],\n",
              "       [ 2, 17]])"
            ]
          },
          "metadata": {},
          "execution_count": 31
        }
      ]
    },
    {
      "cell_type": "markdown",
      "source": [
        "## 연습문제"
      ],
      "metadata": {
        "id": "NtgixJfiBk60"
      }
    },
    {
      "cell_type": "code",
      "source": [
        "#1번\n",
        "a = np.array([1,2,3,4,5])"
      ],
      "metadata": {
        "id": "PRWAAS3JA9J1"
      },
      "execution_count": 32,
      "outputs": []
    },
    {
      "cell_type": "code",
      "source": [
        "b = a + 5\n",
        "b"
      ],
      "metadata": {
        "colab": {
          "base_uri": "https://localhost:8080/"
        },
        "id": "oIMoAgt-BrJq",
        "outputId": "326c6cdb-371d-40e3-c4ca-c1e347e1f532"
      },
      "execution_count": 35,
      "outputs": [
        {
          "output_type": "execute_result",
          "data": {
            "text/plain": [
              "array([ 6,  7,  8,  9, 10])"
            ]
          },
          "metadata": {},
          "execution_count": 35
        }
      ]
    },
    {
      "cell_type": "code",
      "source": [
        "#2번\n",
        "a = np.array([12,21,35,48,5])\n",
        "b = np.array([a[i] for i in range(len(a)) if i%2 == 0])\n",
        "b"
      ],
      "metadata": {
        "colab": {
          "base_uri": "https://localhost:8080/"
        },
        "id": "N8VnbIC3Br9s",
        "outputId": "8d2e3781-5ae9-45a8-bb36-18d519296c34"
      },
      "execution_count": 41,
      "outputs": [
        {
          "output_type": "execute_result",
          "data": {
            "text/plain": [
              "array([12, 35,  5])"
            ]
          },
          "metadata": {},
          "execution_count": 41
        }
      ]
    },
    {
      "cell_type": "code",
      "source": [
        "#2번 해설\n",
        "a = np.array([12,21,35,48,5])\n",
        "a[::2]"
      ],
      "metadata": {
        "colab": {
          "base_uri": "https://localhost:8080/"
        },
        "id": "zWOgKLcnFfMH",
        "outputId": "b3219e0a-2600-4872-ad3a-fdeeb951f05a"
      },
      "execution_count": 52,
      "outputs": [
        {
          "output_type": "execute_result",
          "data": {
            "text/plain": [
              "array([12, 35,  5])"
            ]
          },
          "metadata": {},
          "execution_count": 52
        }
      ]
    },
    {
      "cell_type": "code",
      "source": [
        "#3번\n",
        "a = np.array([1,22,93,64,54])\n",
        "max(a)"
      ],
      "metadata": {
        "colab": {
          "base_uri": "https://localhost:8080/"
        },
        "id": "fMHEfk_oB-qH",
        "outputId": "9a724367-175c-49c4-fb9a-0cdfab68c3ba"
      },
      "execution_count": 42,
      "outputs": [
        {
          "output_type": "execute_result",
          "data": {
            "text/plain": [
              "np.int64(93)"
            ]
          },
          "metadata": {},
          "execution_count": 42
        }
      ]
    },
    {
      "cell_type": "code",
      "source": [
        "#4번\n",
        "a = np.array([1,2,3,2,4,5,4,6])\n",
        "b = np.array([set(a)])\n",
        "b"
      ],
      "metadata": {
        "colab": {
          "base_uri": "https://localhost:8080/"
        },
        "id": "krgUl2PhCly8",
        "outputId": "2c600dbb-6969-4a23-8189-20b9aca14f3c"
      },
      "execution_count": 47,
      "outputs": [
        {
          "output_type": "execute_result",
          "data": {
            "text/plain": [
              "array([{np.int64(1), np.int64(2), np.int64(3), np.int64(4), np.int64(5), np.int64(6)}],\n",
              "      dtype=object)"
            ]
          },
          "metadata": {},
          "execution_count": 47
        }
      ]
    },
    {
      "cell_type": "code",
      "source": [
        "#4번 해설\n",
        "a = np.array([1,2,3,2,4,5,4,6])\n",
        "np.unique(a)"
      ],
      "metadata": {
        "colab": {
          "base_uri": "https://localhost:8080/"
        },
        "id": "bzFMYssCFpnj",
        "outputId": "e910cabb-28e0-4fa5-ae59-6eaf11dd3c4d"
      },
      "execution_count": 54,
      "outputs": [
        {
          "output_type": "execute_result",
          "data": {
            "text/plain": [
              "array([1, 2, 3, 4, 5, 6])"
            ]
          },
          "metadata": {},
          "execution_count": 54
        }
      ]
    },
    {
      "cell_type": "code",
      "source": [
        "#5번\n",
        "a = np.array([21,31,58])\n",
        "b = np.array([24,44,67])\n",
        "c = np.empty(6)\n",
        "\n",
        "for i in range(6):\n",
        "  if i % 2 == 0:\n",
        "    c[i] = a[i//2]\n",
        "  else:\n",
        "    c[i] = b[i//2]\n",
        "\n",
        "c"
      ],
      "metadata": {
        "colab": {
          "base_uri": "https://localhost:8080/"
        },
        "id": "7u-hR8XhC0Lm",
        "outputId": "837490a0-b8d1-4e3c-a0e0-b71c28d1ce8c"
      },
      "execution_count": 49,
      "outputs": [
        {
          "output_type": "execute_result",
          "data": {
            "text/plain": [
              "array([21., 24., 31., 44., 58., 67.])"
            ]
          },
          "metadata": {},
          "execution_count": 49
        }
      ]
    },
    {
      "cell_type": "code",
      "source": [
        "#5번 해설\n",
        "a = np.array([21,31,58])\n",
        "b = np.array([24,44,67])\n",
        "c = np.empty(a.size + b.size, dtype = a.dtype)\n",
        "\n",
        "c[0::2] = a\n",
        "c[1::2] = b\n",
        "c"
      ],
      "metadata": {
        "colab": {
          "base_uri": "https://localhost:8080/"
        },
        "id": "5FzrVHA5F4Zz",
        "outputId": "df4282b6-18e4-4ec6-e543-afa4217c10d2"
      },
      "execution_count": 55,
      "outputs": [
        {
          "output_type": "execute_result",
          "data": {
            "text/plain": [
              "array([21, 24, 31, 44, 58, 67])"
            ]
          },
          "metadata": {},
          "execution_count": 55
        }
      ]
    },
    {
      "cell_type": "code",
      "source": [
        "#6번\n",
        "a = np.array([1,2,3,4,5])\n",
        "b = np.array([6,7,8,9])\n",
        "c = np.empty(min(len(a),len(b)))\n",
        "\n",
        "for i in range(min(len(a), len(b))):\n",
        "  c[i] = a[i] + b[i]\n",
        "c"
      ],
      "metadata": {
        "colab": {
          "base_uri": "https://localhost:8080/"
        },
        "id": "DLMLCAb9E3sy",
        "outputId": "23c2ab57-97d5-482e-f770-270c4a2cbd9a"
      },
      "execution_count": 50,
      "outputs": [
        {
          "output_type": "execute_result",
          "data": {
            "text/plain": [
              "array([ 7.,  9., 11., 13.])"
            ]
          },
          "metadata": {},
          "execution_count": 50
        }
      ]
    },
    {
      "cell_type": "code",
      "source": [
        "#6번 해설\n",
        "a = np.array([1,2,3,4,5])\n",
        "b = np.array([6,7,8,9])\n",
        "c = a[:-1] + b\n",
        "c"
      ],
      "metadata": {
        "colab": {
          "base_uri": "https://localhost:8080/"
        },
        "id": "bJwpyCnWFXM6",
        "outputId": "af2f29b3-22fc-49da-bcc9-11e6f189e178"
      },
      "execution_count": 56,
      "outputs": [
        {
          "output_type": "execute_result",
          "data": {
            "text/plain": [
              "array([ 7,  9, 11, 13])"
            ]
          },
          "metadata": {},
          "execution_count": 56
        }
      ]
    },
    {
      "cell_type": "markdown",
      "source": [
        "# ch1-4. numpy 행렬과 배열"
      ],
      "metadata": {
        "id": "6h0bR9BfIV_1"
      }
    },
    {
      "cell_type": "code",
      "source": [
        "matrix = np.column_stack((np.arange(1,5), np.arange(12, 16)))\n",
        "print(matrix)\n",
        "print(matrix.shape)"
      ],
      "metadata": {
        "colab": {
          "base_uri": "https://localhost:8080/"
        },
        "id": "9xLvgxp7IXfP",
        "outputId": "225678e9-4362-427f-caff-c9158510e0a5"
      },
      "execution_count": 59,
      "outputs": [
        {
          "output_type": "stream",
          "name": "stdout",
          "text": [
            "[[ 1 12]\n",
            " [ 2 13]\n",
            " [ 3 14]\n",
            " [ 4 15]]\n",
            "(4, 2)\n"
          ]
        }
      ]
    },
    {
      "cell_type": "code",
      "source": [
        "a = np.zeros((2,2))\n",
        "a"
      ],
      "metadata": {
        "colab": {
          "base_uri": "https://localhost:8080/"
        },
        "id": "LI6Y4fpXJVt0",
        "outputId": "bc6a097d-d101-4397-e72f-1f569502969e"
      },
      "execution_count": 60,
      "outputs": [
        {
          "output_type": "execute_result",
          "data": {
            "text/plain": [
              "array([[0., 0.],\n",
              "       [0., 0.]])"
            ]
          },
          "metadata": {},
          "execution_count": 60
        }
      ]
    },
    {
      "cell_type": "code",
      "source": [
        "y = np.arange(1,5).reshape(2,2)\n",
        "y"
      ],
      "metadata": {
        "colab": {
          "base_uri": "https://localhost:8080/"
        },
        "id": "w1P7mWkcVatJ",
        "outputId": "acf918a2-bc10-42d1-ca57-82d07d28d3b3"
      },
      "execution_count": 63,
      "outputs": [
        {
          "output_type": "execute_result",
          "data": {
            "text/plain": [
              "array([[1, 2],\n",
              "       [3, 4]])"
            ]
          },
          "metadata": {},
          "execution_count": 63
        }
      ]
    },
    {
      "cell_type": "code",
      "source": [
        "#3차원 배열 합치기\n",
        "import numpy as np\n",
        "m1 = np.arange(1,7).reshape(2,3)\n",
        "m2 = np.arange(7,13).reshape(2,3)\n",
        "m3 = np.array([m1,m2])\n",
        "m3"
      ],
      "metadata": {
        "colab": {
          "base_uri": "https://localhost:8080/"
        },
        "id": "69raLFpOVfGE",
        "outputId": "27cc0fdb-1925-4829-9939-47ebade59120"
      },
      "execution_count": 3,
      "outputs": [
        {
          "output_type": "execute_result",
          "data": {
            "text/plain": [
              "array([[[ 1,  2,  3],\n",
              "        [ 4,  5,  6]],\n",
              "\n",
              "       [[ 7,  8,  9],\n",
              "        [10, 11, 12]]])"
            ]
          },
          "metadata": {},
          "execution_count": 3
        }
      ]
    },
    {
      "cell_type": "code",
      "source": [
        "m3[0,::]"
      ],
      "metadata": {
        "colab": {
          "base_uri": "https://localhost:8080/"
        },
        "id": "gErX2BypV5YH",
        "outputId": "04022f1d-b034-4e73-a7bd-0de3796177c1"
      },
      "execution_count": 4,
      "outputs": [
        {
          "output_type": "execute_result",
          "data": {
            "text/plain": [
              "array([[1, 2, 3],\n",
              "       [4, 5, 6]])"
            ]
          },
          "metadata": {},
          "execution_count": 4
        }
      ]
    },
    {
      "cell_type": "code",
      "source": [
        "m3[:,:,:-1]"
      ],
      "metadata": {
        "colab": {
          "base_uri": "https://localhost:8080/"
        },
        "id": "aRk5frXlWFQx",
        "outputId": "25a94c9f-5a86-4229-a25d-a0b16e799282"
      },
      "execution_count": 5,
      "outputs": [
        {
          "output_type": "execute_result",
          "data": {
            "text/plain": [
              "array([[[ 1,  2],\n",
              "        [ 4,  5]],\n",
              "\n",
              "       [[ 7,  8],\n",
              "        [10, 11]]])"
            ]
          },
          "metadata": {},
          "execution_count": 5
        }
      ]
    },
    {
      "cell_type": "code",
      "source": [
        "m3.shape"
      ],
      "metadata": {
        "colab": {
          "base_uri": "https://localhost:8080/"
        },
        "id": "qIcAXOuuWHlN",
        "outputId": "990f1f04-0045-4437-c371-7d7a30388dcb"
      },
      "execution_count": 6,
      "outputs": [
        {
          "output_type": "execute_result",
          "data": {
            "text/plain": [
              "(2, 2, 3)"
            ]
          },
          "metadata": {},
          "execution_count": 6
        }
      ]
    },
    {
      "cell_type": "code",
      "source": [
        "m3_t= m3.transpose(0,2,1)"
      ],
      "metadata": {
        "id": "T3wN05NZMNxK"
      },
      "execution_count": 12,
      "outputs": []
    },
    {
      "cell_type": "code",
      "source": [
        "# print(m3_t.mean(axis = 0))\n",
        "# print(m3_t.mean(axis = 1))\n",
        "print(m3_t)\n"
      ],
      "metadata": {
        "colab": {
          "base_uri": "https://localhost:8080/"
        },
        "id": "rTn2OhZdMUjD",
        "outputId": "0f21f6bb-682f-453d-a468-a30d79d4117d"
      },
      "execution_count": 19,
      "outputs": [
        {
          "output_type": "stream",
          "name": "stdout",
          "text": [
            "[[[ 1  4]\n",
            "  [ 2  5]\n",
            "  [ 3  6]]\n",
            "\n",
            " [[ 7 10]\n",
            "  [ 8 11]\n",
            "  [ 9 12]]]\n"
          ]
        }
      ]
    },
    {
      "cell_type": "code",
      "source": [
        "print(m3_t.cumsum(axis = 0))\n",
        "print(m3_t.mean(axis = 1))\n",
        "print(m3_t)\n"
      ],
      "metadata": {
        "colab": {
          "base_uri": "https://localhost:8080/"
        },
        "id": "wXbMbH8SMi-W",
        "outputId": "d133da6d-06b9-4039-d2af-2a569dc58d30"
      },
      "execution_count": 18,
      "outputs": [
        {
          "output_type": "stream",
          "name": "stdout",
          "text": [
            "[[[ 1  4]\n",
            "  [ 2  5]\n",
            "  [ 3  6]]\n",
            "\n",
            " [[ 8 14]\n",
            "  [10 16]\n",
            "  [12 18]]]\n"
          ]
        }
      ]
    },
    {
      "cell_type": "code",
      "source": [
        "m3_t.flatten()"
      ],
      "metadata": {
        "colab": {
          "base_uri": "https://localhost:8080/"
        },
        "id": "YZk5_J-WNrb3",
        "outputId": "02ae9f2d-c116-4f61-bed9-7a8d7f612e8e"
      },
      "execution_count": 27,
      "outputs": [
        {
          "output_type": "execute_result",
          "data": {
            "text/plain": [
              "array([ 1,  4,  2,  5,  3,  6,  7, 10,  8, 11,  9, 12])"
            ]
          },
          "metadata": {},
          "execution_count": 27
        }
      ]
    },
    {
      "cell_type": "code",
      "source": [
        "c = np.array([[1,2,3], [4,5,6]])\n",
        "c"
      ],
      "metadata": {
        "colab": {
          "base_uri": "https://localhost:8080/"
        },
        "id": "psUlNB74ODDJ",
        "outputId": "ce7db707-541f-4e60-8da2-4823a4455a05"
      },
      "execution_count": 24,
      "outputs": [
        {
          "output_type": "execute_result",
          "data": {
            "text/plain": [
              "array([[1, 2, 3],\n",
              "       [4, 5, 6]])"
            ]
          },
          "metadata": {},
          "execution_count": 24
        }
      ]
    },
    {
      "cell_type": "code",
      "source": [
        "c.transpose()"
      ],
      "metadata": {
        "colab": {
          "base_uri": "https://localhost:8080/"
        },
        "id": "lE4LB6ruOz8K",
        "outputId": "a8af4f08-d754-45da-ffbe-b150212a9a51"
      },
      "execution_count": 25,
      "outputs": [
        {
          "output_type": "execute_result",
          "data": {
            "text/plain": [
              "array([[1, 4],\n",
              "       [2, 5],\n",
              "       [3, 6]])"
            ]
          },
          "metadata": {},
          "execution_count": 25
        }
      ]
    },
    {
      "cell_type": "code",
      "source": [
        "m3_t.clip(2,9)"
      ],
      "metadata": {
        "colab": {
          "base_uri": "https://localhost:8080/"
        },
        "id": "sBRZHpreO17m",
        "outputId": "007a4068-7183-4e66-eff4-6c06fd322006"
      },
      "execution_count": 29,
      "outputs": [
        {
          "output_type": "execute_result",
          "data": {
            "text/plain": [
              "array([[[2, 4],\n",
              "        [2, 5],\n",
              "        [3, 6]],\n",
              "\n",
              "       [[7, 9],\n",
              "        [8, 9],\n",
              "        [9, 9]]])"
            ]
          },
          "metadata": {},
          "execution_count": 29
        }
      ]
    },
    {
      "cell_type": "code",
      "source": [
        "m3_list = m3_t.tolist()\n",
        "m3_list"
      ],
      "metadata": {
        "colab": {
          "base_uri": "https://localhost:8080/"
        },
        "id": "bcfVUcdyPLFm",
        "outputId": "cd0bd407-ead3-48be-8221-ecc75de3f74b"
      },
      "execution_count": 31,
      "outputs": [
        {
          "output_type": "execute_result",
          "data": {
            "text/plain": [
              "[[[1, 4], [2, 5], [3, 6]], [[7, 10], [8, 11], [9, 12]]]"
            ]
          },
          "metadata": {},
          "execution_count": 31
        }
      ]
    },
    {
      "cell_type": "markdown",
      "source": [
        "깊은 복사 진행 시 - d.copy()"
      ],
      "metadata": {
        "id": "D0NfUK_vPjGB"
      }
    },
    {
      "cell_type": "markdown",
      "source": [
        "#연습문제 - #4"
      ],
      "metadata": {
        "id": "4AJ1TcEEPu4J"
      }
    },
    {
      "cell_type": "code",
      "source": [
        "#1\n",
        "a = np.array([[3,5,7],[2,3,6]])\n",
        "a"
      ],
      "metadata": {
        "colab": {
          "base_uri": "https://localhost:8080/"
        },
        "id": "XmGqcj8hQTKo",
        "outputId": "90718dba-287f-456e-d66a-ec9d1c1c27f2"
      },
      "execution_count": 33,
      "outputs": [
        {
          "output_type": "execute_result",
          "data": {
            "text/plain": [
              "array([[3, 5, 7],\n",
              "       [2, 3, 6]])"
            ]
          },
          "metadata": {},
          "execution_count": 33
        }
      ]
    },
    {
      "cell_type": "code",
      "source": [
        "#2\n",
        "b = np.array([[8,10,7,8],\n",
        "              [2,4,5,5],\n",
        "              [7,6,1,7],\n",
        "              [2,6,8,6],\n",
        "              [9,3,4,2]])\n",
        "b_selected = b[[1,3,4],:]\n",
        "b_selected"
      ],
      "metadata": {
        "colab": {
          "base_uri": "https://localhost:8080/"
        },
        "id": "lS9sMXeTQYPW",
        "outputId": "bdac82ff-5ce1-4385-9507-bbfe81d4a4a9"
      },
      "execution_count": 48,
      "outputs": [
        {
          "output_type": "execute_result",
          "data": {
            "text/plain": [
              "array([[2, 4, 5, 5],\n",
              "       [2, 6, 8, 6],\n",
              "       [9, 3, 4, 2]])"
            ]
          },
          "metadata": {},
          "execution_count": 48
        }
      ]
    },
    {
      "cell_type": "code",
      "source": [
        "b_filter = b[b[:,2]>3, :]\n",
        "b_filter"
      ],
      "metadata": {
        "colab": {
          "base_uri": "https://localhost:8080/"
        },
        "id": "Zcn8MMrbQrVK",
        "outputId": "f9e83d71-9237-492e-fe7a-6782c3cce481"
      },
      "execution_count": 50,
      "outputs": [
        {
          "output_type": "execute_result",
          "data": {
            "text/plain": [
              "array([[ 8, 10,  7,  8],\n",
              "       [ 2,  4,  5,  5],\n",
              "       [ 2,  6,  8,  6],\n",
              "       [ 9,  3,  4,  2]])"
            ]
          },
          "metadata": {},
          "execution_count": 50
        }
      ]
    },
    {
      "cell_type": "code",
      "source": [
        "b_sum = b[np.sum(b, axis = 1) >= 20, : ]\n",
        "b_sum"
      ],
      "metadata": {
        "colab": {
          "base_uri": "https://localhost:8080/"
        },
        "id": "9UAHh56vRhbp",
        "outputId": "70ed627f-0058-4540-e753-d00d15753926"
      },
      "execution_count": 53,
      "outputs": [
        {
          "output_type": "execute_result",
          "data": {
            "text/plain": [
              "array([[ 8, 10,  7,  8],\n",
              "       [ 7,  6,  1,  7],\n",
              "       [ 2,  6,  8,  6]])"
            ]
          },
          "metadata": {},
          "execution_count": 53
        }
      ]
    },
    {
      "cell_type": "code",
      "source": [
        "col_means = np.mean(b,axis = 0)\n",
        "col_means"
      ],
      "metadata": {
        "colab": {
          "base_uri": "https://localhost:8080/"
        },
        "id": "fatO7b0qSJlJ",
        "outputId": "9a99a892-bdc6-414f-faa0-7073a44edcc3"
      },
      "execution_count": 54,
      "outputs": [
        {
          "output_type": "execute_result",
          "data": {
            "text/plain": [
              "array([5.6, 5.8, 5. , 5.6])"
            ]
          },
          "metadata": {},
          "execution_count": 54
        }
      ]
    },
    {
      "cell_type": "code",
      "source": [
        "#5\n",
        "col_indiecs = np.where(col_means > 5)[0]\n",
        "col_indiecs"
      ],
      "metadata": {
        "colab": {
          "base_uri": "https://localhost:8080/"
        },
        "id": "Kqcd8cBOSw-G",
        "outputId": "f7beddf4-e485-4339-857f-73b302d84f84"
      },
      "execution_count": 57,
      "outputs": [
        {
          "output_type": "execute_result",
          "data": {
            "text/plain": [
              "array([0, 1, 3])"
            ]
          },
          "metadata": {},
          "execution_count": 57
        }
      ]
    },
    {
      "cell_type": "code",
      "source": [
        "#6\n",
        "b[np.sum(b > 7, axis = 1) >= 1, :]\n"
      ],
      "metadata": {
        "colab": {
          "base_uri": "https://localhost:8080/"
        },
        "id": "796A1e1fS4PJ",
        "outputId": "679c58d8-67b7-4d0d-bbd4-d59306d03a8d"
      },
      "execution_count": 59,
      "outputs": [
        {
          "output_type": "execute_result",
          "data": {
            "text/plain": [
              "array([[ 8, 10,  7,  8],\n",
              "       [ 2,  6,  8,  6],\n",
              "       [ 9,  3,  4,  2]])"
            ]
          },
          "metadata": {},
          "execution_count": 59
        }
      ]
    },
    {
      "cell_type": "code",
      "source": [],
      "metadata": {
        "id": "a1mNJEhNTb1q"
      },
      "execution_count": null,
      "outputs": []
    }
  ]
}